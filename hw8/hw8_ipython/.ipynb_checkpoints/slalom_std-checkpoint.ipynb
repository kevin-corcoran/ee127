{
 "cells": [
  {
   "cell_type": "markdown",
   "metadata": {},
   "source": [
    "### Slalom Problem"
   ]
  },
  {
   "cell_type": "code",
   "execution_count": 21,
   "metadata": {},
   "outputs": [],
   "source": [
    "import numpy as np\n",
    "import cvxpy as cp\n",
    "import matplotlib.pyplot as plt\n",
    "import pdb"
   ]
  },
  {
   "cell_type": "markdown",
   "metadata": {},
   "source": [
    "#### Here, we give you the inputs for the problem : the x, y, and c coordinates as given in the problem statement (refer to the table)"
   ]
  },
  {
   "cell_type": "code",
   "execution_count": 7,
   "metadata": {},
   "outputs": [],
   "source": [
    "x0, y0 = 0, 4\n",
    "x1, y1, c1 = 4, 5, 3\n",
    "x2, y2, c2 = 8, 4, 2\n",
    "x3, y3, c3 = 12, 6, 2\n",
    "x4, y4, c4 = 16, 5, 1\n",
    "x5, y5, c5 = 20, 7, 2\n",
    "x6, y6 = 24, 4\n",
    "\n",
    "xs = [x0,x1,x2,x3,x4,x5,x6]\n",
    "ys = [y0,y1,y2,y3,y4,y5,y6]\n",
    "cs = [0,c1,c2,c3,c4,c5,0]"
   ]
  },
  {
   "cell_type": "markdown",
   "metadata": {},
   "source": [
    "#### Initialize the variables we are optimizing over here! You should be using cvx.Variable() to create the variables you are optimizing over."
   ]
  },
  {
   "cell_type": "code",
   "execution_count": 42,
   "metadata": {},
   "outputs": [],
   "source": [
    "# Initialize any and all cvxpy variables that you will use\n",
    "y = cp.Variable(7)"
   ]
  },
  {
   "cell_type": "code",
   "execution_count": 43,
   "metadata": {},
   "outputs": [],
   "source": [
    "# Now, we put in our constraints: the format should be as follows.\n",
    "\n",
    "constraints = [y[i] >= ys[i]-cs[i]/2 for i in range(7)] + [y[i] <= ys[i]+cs[i]/2 for i in range(7)]\n",
    "# constraints = [\n",
    "#     # constraint 1,\n",
    "#     y[0] >= y0-c0/2\n",
    "#     # constraint 2,\n",
    "#     # etc.\n",
    "# ]"
   ]
  },
  {
   "cell_type": "code",
   "execution_count": 44,
   "metadata": {},
   "outputs": [],
   "source": [
    "# Here, input your objective function. It should be of the form:\n",
    "def objective_fn(y):\n",
    "    return sum((xs[i+1]-xs[i])**2 + (y[i+1]-y[i])**2 for i in range(6))\n",
    "\n",
    "# cp.norm(cp.vstack([x[1]-x[0],y[1]-y[0]]),2)\n",
    "\n",
    "# obj = cp.Minimize( YOUR OBJECTIVE FUNCTION HERE )\n",
    "obj = cp.Minimize(objective_fn(y))"
   ]
  },
  {
   "cell_type": "code",
   "execution_count": 45,
   "metadata": {
    "scrolled": true
   },
   "outputs": [],
   "source": [
    "# creating the optimization problem here, putting together the objective and the constraints\n",
    "prob = cp.Problem(obj, constraints)\n",
    "\n",
    "optimal_path_length = prob.solve() # this will output your optimal path length"
   ]
  },
  {
   "cell_type": "markdown",
   "metadata": {},
   "source": [
    "##### Just check that your optimization variables respect the constraints here (OPTIONAL, but good for debugging)"
   ]
  },
  {
   "cell_type": "markdown",
   "metadata": {},
   "source": [
    "### Print out the coordinates of the path (this should be an array with 7 tuples denoting the (x,y) position of where the skiier should cross"
   ]
  },
  {
   "cell_type": "code",
   "execution_count": 47,
   "metadata": {},
   "outputs": [],
   "source": [
    "# path = [(x0,y0), ..., (x6,y6)]\n",
    "path = [(xs[i],y[i].value) for i in range(7)]"
   ]
  },
  {
   "cell_type": "code",
   "execution_count": 48,
   "metadata": {},
   "outputs": [
    {
     "data": {
      "text/plain": [
       "[<matplotlib.lines.Line2D at 0x7f30d9475908>]"
      ]
     },
     "execution_count": 48,
     "metadata": {},
     "output_type": "execute_result"
    },
    {
     "data": {
      "image/png": "[encoded data removed]",
      "text/plain": [
       "<Figure size 432x288 with 1 Axes>"
      ]
     },
     "metadata": {
      "needs_background": "light"
     },
     "output_type": "display_data"
    }
   ],
   "source": [
    "x = np.array([x0, x1, x2, x3, x4, x5, x6])\n",
    "y = np.array([y0, y1, y2, y3, y4, y5, y6])\n",
    "c = np.array([c1, c2, c3, c4, c5])\n",
    "plt.figure()\n",
    "plt.scatter(x,y)\n",
    "plt.plot(x[1:-1], y[1:-1]+c/2, c=\"r\")\n",
    "plt.plot(x[1:-1], y[1:-1]-c/2, c=\"r\")\n",
    "plt.plot(*zip(*path), \"b--\")"
   ]
  },
  {
   "cell_type": "code",
   "execution_count": 49,
   "metadata": {},
   "outputs": [
    {
     "name": "stdout",
     "output_type": "stream",
     "text": [
      "x   y  \n",
      "0   4.000\n",
      "4   4.375\n",
      "8   4.750\n",
      "12  5.125\n",
      "16  5.500\n",
      "20  6.000\n",
      "24  4.000\n"
     ]
    }
   ],
   "source": [
    "print(\"{0:<3} {1:<3}\".format(\"x\", \"y\"))\n",
    "for p in path:\n",
    "    print(\"{0:<3} {1:.3f}\".format(p[0], p[1]))"
   ]
  },
  {
   "cell_type": "code",
   "execution_count": null,
   "metadata": {},
   "outputs": [],
   "source": []
  }
 ],
 "metadata": {
  "kernelspec": {
   "display_name": "Python 3",
   "language": "python",
   "name": "python3"
  },
  "language_info": {
   "codemirror_mode": {
    "name": "ipython",
    "version": 3
   },
   "file_extension": ".py",
   "mimetype": "text/x-python",
   "name": "python",
   "nbconvert_exporter": "python",
   "pygments_lexer": "ipython3",
   "version": "3.7.3"
  }
 },
 "nbformat": 4,
 "nbformat_minor": 4
}

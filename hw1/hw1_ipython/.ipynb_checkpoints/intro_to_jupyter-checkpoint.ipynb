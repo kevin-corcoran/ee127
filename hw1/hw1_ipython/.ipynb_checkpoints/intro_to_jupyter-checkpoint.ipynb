{
 "cells": [
  {
   "cell_type": "markdown",
   "metadata": {},
   "source": [
    "# EECS 127 HW1: Introduction to Jupyter Notebook"
   ]
  },
  {
   "cell_type": "code",
   "execution_count": null,
   "metadata": {},
   "outputs": [],
   "source": [
    "import numpy as np\n",
    "import matplotlib.pyplot as plt\n",
    "import cvxpy as cp"
   ]
  },
  {
   "cell_type": "markdown",
   "metadata": {},
   "source": [
    "# Submitting The Notebooks\n",
    "\n",
    "In terms of what we expect from you to do with these: every place you're required to answer a question, whether it be in the form of writing code or interpreting plots/results that you generate, it will be marked with \"TODO\".\n",
    "\n",
    "When done, go to the notebook menu (under the jupyter logo) and click `File -> Download as -> PDF via LaTeX (.pdf)`. This is what you'll submit to Gradescope."
   ]
  },
  {
   "cell_type": "markdown",
   "metadata": {},
   "source": [
    "# Intro to the Python Scientific Computing Stack\n",
    "\n",
    "**For this problem, you're not required to write any code. Simply run all the cells and acquaint yourself with the functions and features that they showcase.**"
   ]
  },
  {
   "cell_type": "markdown",
   "metadata": {},
   "source": [
    "### EECS 127 Jupyter Notebook Tutorial Fall 2019\n",
    "Modified and adapted from EE 120 Spring 2019 Lab 1, [Berkeley Python Bootcamp 2013](https://github.com/profjsb/python-bootcamp), \n",
    "[Python for Signal Processing](http://link.springer.com/book/10.1007%2F978-3-319-01342-8), [EE123](https://inst.eecs.berkeley.edu/~ee123/sp18/lab/lab0/python_tutorial.ipynb), and [EE126](https://inst.eecs.berkeley.edu/~ee126/sp18/LAB01.zip) iPython Notebook Tutorials."
   ]
  },
  {
   "cell_type": "markdown",
   "metadata": {},
   "source": [
    "### Running iPython Notebook Cells\n",
    "\n",
    "The ipython notebook is divided into cells. Each cell can contain texts, codes or html scripts. Running a non-code cell simply advances to the next cell. To run a code cell using Shift-Enter or pressing the play button in the toolbar above:"
   ]
  },
  {
   "cell_type": "code",
   "execution_count": null,
   "metadata": {},
   "outputs": [],
   "source": [
    "1+2"
   ]
  },
  {
   "cell_type": "markdown",
   "metadata": {},
   "source": [
    "### Interrupting the kernel\n",
    "\n",
    "For debugging, often we would like to interupt the current running process. This can be done by pressing the stop button. \n",
    "\n",
    "When a processing is running, the circle on the right upper corner is filled. When idle, the circle is empty."
   ]
  },
  {
   "cell_type": "code",
   "execution_count": null,
   "metadata": {},
   "outputs": [],
   "source": [
    "import time\n",
    "\n",
    "while(1):\n",
    "    print(\"error\")\n",
    "    time.sleep(1)"
   ]
  },
  {
   "cell_type": "markdown",
   "metadata": {},
   "source": [
    "### Restarting the kernels\n",
    "\n",
    "Interrupting sometimes does not work. You can reset the state by restarting the kernel. This is done by clicking Kernel/Restart or the Refresh button in the toolbar above."
   ]
  },
  {
   "cell_type": "markdown",
   "metadata": {},
   "source": [
    "### Saving the notebook\n",
    "\n",
    "To save your notebook, either select `\"File->Save and Checkpoint\"` or hit `Command-s` for Mac and `Ctrl-s` for Windows"
   ]
  },
  {
   "cell_type": "markdown",
   "metadata": {},
   "source": [
    "### Undoing\n",
    "\n",
    "To undo changes in each cell, hit `Command-z` for Mac and `Ctrl-z` for Windows.\n",
    "To undo `Delete Cell`, select `Edit->Undo Delete Cell`."
   ]
  },
  {
   "cell_type": "markdown",
   "metadata": {},
   "source": [
    "### Tab Completion\n",
    "\n",
    "One useful feature of iPython is tab completion "
   ]
  },
  {
   "cell_type": "code",
   "execution_count": null,
   "metadata": {},
   "outputs": [],
   "source": [
    "one_plus_one = 1+1\n",
    "\n",
    "# type `one_` then hit TAB will auto-complete the variable\n",
    "print(one_plus_one)"
   ]
  },
  {
   "cell_type": "markdown",
   "metadata": {},
   "source": [
    "### Help Menu for Functions\n",
    "\n",
    "Another useful feature is the help command. Type any function followed by `?` returns a help window. Hit the `x` button to close it."
   ]
  },
  {
   "cell_type": "code",
   "execution_count": null,
   "metadata": {},
   "outputs": [],
   "source": [
    "abs?"
   ]
  },
  {
   "cell_type": "markdown",
   "metadata": {},
   "source": [
    "### Other iPython Notebook navigation tips\n",
    "- To add a new cell, either select `\"Insert->Insert New Cell Below\"` or click the white plus button\n",
    "- You can change the cell mode from code to text in the pulldown menu. I use `Markdown` for text\n",
    "- You can change the texts in the `Markdown` cells by double-clicking them.\n",
    "- `Help->Keyboard Shortcuts` has a list of keyboard shortcuts"
   ]
  },
  {
   "cell_type": "markdown",
   "metadata": {},
   "source": [
    "### Libraries\n",
    "\n",
    "These are the libraries that we will be using in this class:\n",
    "    \n",
    "__Numpy__\n",
    "\n",
    "NumPy is the fundamental package for scientific computing with Python.\n",
    "\n",
    "__cvxpy__\n",
    "\n",
    "Cvxpy is a python wrapper for convex optimization problem solvers. It has a particular way to setup problems (which you will see in this notebook). The problem setup comes directly from the way we set up optimization problems in this class, so the translation between the theory and the code should be fairly straightforward. One thing to watch out for is that cvxpy has some functions that have numpy equivalents (like the norm operator), but you will need to the cvxpy version in the problem setup.\n",
    "\n",
    "__matplotlib__\n",
    "\n",
    "matplotlib is a python 2D plotting library which produces publication quality figures in a variety of hardcopy formats and interactive environments across platforms.\n",
    "\n",
    "__Scipy__\n",
    "\n",
    "The SciPy library is a collection of numerical algorithms and domain-specific toolboxes, including optimization, signal processing, statistics and much more."
   ]
  },
  {
   "cell_type": "markdown",
   "metadata": {},
   "source": [
    "### Importing\n",
    "\n",
    "To import a specific library `x`, simply type `import x`.\n",
    "\n",
    "To access the library function `f`, type `x.f`.\n",
    "\n",
    "If you want to change the library name to `y`, type `import x as y`."
   ]
  },
  {
   "cell_type": "code",
   "execution_count": null,
   "metadata": {},
   "outputs": [],
   "source": [
    "# CONVENTION: \"import numpy as np\" when importing numpy, it lets us use \"np\" as shorthand!\n",
    "\n",
    "import numpy as np \n",
    "np.ones((3,1))"
   ]
  },
  {
   "cell_type": "markdown",
   "metadata": {},
   "source": [
    "## Data Types"
   ]
  },
  {
   "cell_type": "markdown",
   "metadata": {},
   "source": [
    "### Floats and Integers\n",
    "\n",
    "Unlike MATLAB, there is a difference between `int` and `float` in Python 2.  Mainly, integer division returns the floor in Python 2. However, in Python 3 there is no floor, but it is always good to check this when debugging!"
   ]
  },
  {
   "cell_type": "code",
   "execution_count": null,
   "metadata": {},
   "outputs": [],
   "source": [
    "1 / 4"
   ]
  },
  {
   "cell_type": "code",
   "execution_count": null,
   "metadata": {},
   "outputs": [],
   "source": [
    "1 / 4.0"
   ]
  },
  {
   "cell_type": "markdown",
   "metadata": {},
   "source": [
    "### Strings\n",
    "\n",
    "Unlike MATLAB/C, doubles quotes and single quotes are the same thing. Both represent strings. `'+'` concatenates strings"
   ]
  },
  {
   "cell_type": "code",
   "execution_count": null,
   "metadata": {},
   "outputs": [],
   "source": [
    "# This is a comment\n",
    "\"EECS \" + '127'"
   ]
  },
  {
   "cell_type": "markdown",
   "metadata": {},
   "source": [
    "### Lists\n",
    "\n",
    "A list is a mutable array of data. That is we can change it after we create it. They can be created using square brackets []\n",
    "\n",
    "\n",
    "Important functions: \n",
    "- `'+'` appends lists. \n",
    "- `len(x)` to get length"
   ]
  },
  {
   "cell_type": "code",
   "execution_count": null,
   "metadata": {},
   "outputs": [],
   "source": [
    "x = [\"EECS\"] + [1, 2, 7]\n",
    "print(x)"
   ]
  },
  {
   "cell_type": "code",
   "execution_count": null,
   "metadata": {},
   "outputs": [],
   "source": [
    "print(len(x))"
   ]
  },
  {
   "cell_type": "markdown",
   "metadata": {},
   "source": [
    "### Tuples\n",
    "\n",
    "A tuple is an immutable list. They can be created using round brackets (). \n",
    "They are usually used as inputs and outputs to functions."
   ]
  },
  {
   "cell_type": "code",
   "execution_count": null,
   "metadata": {},
   "outputs": [],
   "source": [
    "t = (\"E\", \"E\", \"C\", \"S\") + (1, 2, 7)\n",
    "print(t)"
   ]
  },
  {
   "cell_type": "code",
   "execution_count": null,
   "metadata": {},
   "outputs": [],
   "source": [
    "# cannot do assignment to a tuple after creation - it's immutable\n",
    "t[4] = 3 # will error\n",
    "\n",
    "# note: errors in ipython notebook appear inline"
   ]
  },
  {
   "cell_type": "markdown",
   "metadata": {},
   "source": [
    "### Numpy Array\n",
    "\n",
    "The numpy array, aka an \"ndarray\", is like a list with multidimensional support and more functions. This will be the primary data structure in our class.\n",
    "\n",
    "Arithmetic operations on NumPy arrays correspond to elementwise operations. \n",
    "\n",
    "Important NumPy Array functions:\n",
    "\n",
    "- `.shape` returns the dimensions of the array.\n",
    "\n",
    "- `.ndim` returns the number of dimensions. \n",
    "\n",
    "- `.size` returns the number of entries in the array.\n",
    "\n",
    "- `len()` returns the first dimension.\n",
    "\n",
    "\n",
    "To use functions in NumPy, we have to import NumPy to our workspace. This is done by the command `import numpy`. By convention, we rename `numpy` as `np` for convenience."
   ]
  },
  {
   "cell_type": "markdown",
   "metadata": {},
   "source": [
    "### Creating a Numpy Array"
   ]
  },
  {
   "cell_type": "code",
   "execution_count": null,
   "metadata": {},
   "outputs": [],
   "source": [
    "x = np.array([[1, 2], [3 , 4]])\n",
    "print(x)"
   ]
  },
  {
   "cell_type": "markdown",
   "metadata": {},
   "source": [
    "### Getting the shape of a Numpy Array"
   ]
  },
  {
   "cell_type": "code",
   "execution_count": null,
   "metadata": {},
   "outputs": [],
   "source": [
    "x.shape # returns the dimensions of the numpy array"
   ]
  },
  {
   "cell_type": "code",
   "execution_count": null,
   "metadata": {},
   "outputs": [],
   "source": [
    "np.shape(x) # equivalent to x.shape"
   ]
  },
  {
   "cell_type": "markdown",
   "metadata": {},
   "source": [
    "### Elementwise operation\n",
    "\n",
    "One major advantage of using numpy arrays is that arithmetic operations on numpy arrays correspond to elementwise operations. "
   ]
  },
  {
   "cell_type": "code",
   "execution_count": null,
   "metadata": {},
   "outputs": [],
   "source": [
    "print(x)\n",
    "print()\n",
    "print(x + 2) # numpy is smart and assumes you want this to be done to all elements!"
   ]
  },
  {
   "cell_type": "markdown",
   "metadata": {},
   "source": [
    "### Matrix multiplication\n",
    "\n",
    "You can use `np.matrix` with the multiplication operator or `np.dot` to do matrix multiplication."
   ]
  },
  {
   "cell_type": "code",
   "execution_count": null,
   "metadata": {},
   "outputs": [],
   "source": [
    "print(np.matrix(x) * np.matrix(x))\n",
    "print() # newline for formatting\n",
    "\n",
    "# Or\n",
    "print(np.dot(x,x))"
   ]
  },
  {
   "cell_type": "markdown",
   "metadata": {},
   "source": [
    "### Slicing numpy arrays\n",
    "\n",
    "Numpy uses pass-by-reference semantics so it creates views into the existing array, without implicit copying. This is particularly helpful with very large arrays because copying can be slow."
   ]
  },
  {
   "cell_type": "code",
   "execution_count": null,
   "metadata": {},
   "outputs": [],
   "source": [
    "x = np.array([1,2,3,4,5,6])\n",
    "print(x)"
   ]
  },
  {
   "cell_type": "markdown",
   "metadata": {},
   "source": [
    "We slice an array from a to b-1 with `[a:b]`."
   ]
  },
  {
   "cell_type": "code",
   "execution_count": null,
   "metadata": {},
   "outputs": [],
   "source": [
    "y = x[0:4]\n",
    "print(y)"
   ]
  },
  {
   "cell_type": "markdown",
   "metadata": {},
   "source": [
    "Because slicing does not copy the array, changing `y` changes `x`."
   ]
  },
  {
   "cell_type": "code",
   "execution_count": null,
   "metadata": {},
   "outputs": [],
   "source": [
    "y[0] = 7\n",
    "print(x)\n",
    "print(y)"
   ]
  },
  {
   "cell_type": "markdown",
   "metadata": {},
   "source": [
    "To actually copy x, we should use `.copy()`. "
   ]
  },
  {
   "cell_type": "code",
   "execution_count": null,
   "metadata": {},
   "outputs": [],
   "source": [
    "x = np.array([1,2,3,4,5,6])\n",
    "y = x.copy()\n",
    "y[0] = 7\n",
    "print(x)\n",
    "print(y)"
   ]
  },
  {
   "cell_type": "markdown",
   "metadata": {},
   "source": [
    "### Useful Numpy function: arange\n",
    "\n",
    "We use `arange` to create integer sequences in numpy arrays. It's exactly like the normal range function in Python, except that it automatically returns the result as a numpy array, rather than the plain vanilla Python list.\n",
    "\n",
    "`arange(0,N)` creates an array listing every integer from 0 to N-1.\n",
    "\n",
    "`arange(0,N,m)` creates an array listing every `m` th integer from 0 to N-1 ."
   ]
  },
  {
   "cell_type": "code",
   "execution_count": null,
   "metadata": {},
   "outputs": [],
   "source": [
    "print(np.arange(-5,5)) # every integer from -5 ... 4"
   ]
  },
  {
   "cell_type": "code",
   "execution_count": null,
   "metadata": {},
   "outputs": [],
   "source": [
    "print(np.arange(0,5,2)) # every other integer from 0 ... 4"
   ]
  },
  {
   "cell_type": "markdown",
   "metadata": {},
   "source": [
    "## Plotting"
   ]
  },
  {
   "cell_type": "markdown",
   "metadata": {},
   "source": [
    "In this class, we will use `matplotlib.pyplot` to plot signals and images. \n",
    "\n",
    "By convention, we import `matplotlib.pyplot` as `plt`.\n",
    "\n",
    "**To display the plots inside the browser, we use the command `%matplotlib inline` - do not forget this line whenever you start a new notebook.** We'll always include it for you, but in case your plots aren't showing up in the notebook when you're playing around on your own, it's probably because you forgot this. If you don't include it, Python will default to displaying it in another window on your computer, which normally is fine, but here we need the plots in the notebook so they show up in your submission PDF."
   ]
  },
  {
   "cell_type": "code",
   "execution_count": null,
   "metadata": {},
   "outputs": [],
   "source": [
    "import matplotlib.pyplot as plt # by convention, we import pyplot as plt\n",
    "\n",
    "# plot in browser instead of opening new windows\n",
    "%matplotlib inline"
   ]
  },
  {
   "cell_type": "code",
   "execution_count": null,
   "metadata": {},
   "outputs": [],
   "source": [
    "# Generate signals\n",
    "x = np.arange(0, 1, 0.001)\n",
    "y1 = np.exp(-x)                              # decaying exponential\n",
    "y2 = np.sin(2 * np.pi * 10.0 * x)/4.0 + 0.5  # 10 Hz sine wave"
   ]
  },
  {
   "cell_type": "markdown",
   "metadata": {},
   "source": [
    "### Plotting One Function"
   ]
  },
  {
   "cell_type": "code",
   "execution_count": null,
   "metadata": {},
   "outputs": [],
   "source": [
    "plt.figure()\n",
    "plt.plot(x, y1)\n",
    "plt.show()"
   ]
  },
  {
   "cell_type": "markdown",
   "metadata": {},
   "source": [
    "### Plotting Multiple Functions in One Figure"
   ]
  },
  {
   "cell_type": "code",
   "execution_count": null,
   "metadata": {},
   "outputs": [],
   "source": [
    "plt.figure()\n",
    "plt.plot(x, y1)\n",
    "plt.plot(x, y2)\n",
    "plt.show()"
   ]
  },
  {
   "cell_type": "markdown",
   "metadata": {},
   "source": [
    "### Plotting multiple functions in different figures"
   ]
  },
  {
   "cell_type": "code",
   "execution_count": null,
   "metadata": {},
   "outputs": [],
   "source": [
    "# figsize is the dimensions of the figure:\n",
    "# - the first argument is the width\n",
    "# - the second is height\n",
    "\n",
    "# it's useful when you want to adjust the figure's dimensions, e.g. you \n",
    "# need a huge x-axis for data taken over a long time period\n",
    "plt.figure(figsize=(16, 4))\n",
    "plt.plot(x, y1)\n",
    "\n",
    "# fancy formatting stuff - try playing with it!\n",
    "plt.title(\"Decaying Exponential\")\n",
    "plt.xlabel(\"Time\")\n",
    "plt.ylabel(\"Amplitude\")\n",
    "plt.legend([\"$e^{-x}$\"])    # LaTeX fancy formatting\n",
    "plt.xlim([0, 1])            # zoom in on x-axis \n",
    "\n",
    "\n",
    "\n",
    "# asking plt for a new figure before plotting will put the next call to plt.plot\n",
    "# on that new figure\n",
    "plt.figure(figsize=(16, 4)) \n",
    "plt.plot(x, y2)\n",
    "plt.title(\"10 Hz Sine Wave\")\n",
    "\n",
    "# ALWAYS make sure to call plt.show() *ONCE* after all your plotting code so your plots are displayed!\n",
    "# You only need to call it once per code cell, even if you have multiple figures.\n",
    "plt.show()"
   ]
  },
  {
   "cell_type": "markdown",
   "metadata": {},
   "source": [
    "**Make no mistake - the data points used for plotting on a computer truly always are discrete, but matplotlib's `plt.plot()` function interpolates them, giving us the nice continuous beauties you see above.**"
   ]
  },
  {
   "cell_type": "markdown",
   "metadata": {},
   "source": [
    "### You can also add a title and legend with `plt.title()`, `plt.legend()` to make your plots look professional!\n",
    "\n",
    "#### Using dollar signs you can add math symbols (like Latex)!"
   ]
  },
  {
   "cell_type": "code",
   "execution_count": null,
   "metadata": {
    "scrolled": false
   },
   "outputs": [],
   "source": [
    "# The figsize parameter can help you shape your figure\n",
    "plt.figure(figsize=(10,7))\n",
    "plt.plot(x, y1)\n",
    "plt.plot(x, y2)\n",
    "plt.xlabel(\"x axis\")\n",
    "plt.ylabel(\"y axis\")\n",
    "plt.title(\"Title\")\n",
    "\n",
    "# You can also change the legend font size by passing in the fontsize= paramater\n",
    "plt.legend((r'$e^{-x}$', r'$\\frac{\\sin(2\\pi \\cdot 10\\cdot x)}{4}+0.5$'), fontsize=14)\n",
    "plt.show()"
   ]
  },
  {
   "cell_type": "markdown",
   "metadata": {},
   "source": [
    "You can also specify more options in `plot()`, such as color and linewidth. You can also change the axis using `plt.axis`"
   ]
  },
  {
   "cell_type": "code",
   "execution_count": null,
   "metadata": {},
   "outputs": [],
   "source": [
    "plt.figure(figsize=(10,7))\n",
    "plt.plot(x, y1, \":r\", linewidth=10)\n",
    "plt.plot(x, y2, \"--k\")\n",
    "plt.xlabel(\"x axis\")\n",
    "plt.ylabel(\"y axis\")\n",
    "\n",
    "plt.title(\"Title\")\n",
    "\n",
    "plt.legend((r'$e^{-x}$', r'$\\frac{\\sin(10\\cdot x)}{4}+0.5$'), fontsize=14)\n",
    "\n",
    "# plt.axis takes in a list of the form [x_lower, x_upper, y_lower, y_upper]\n",
    "plt.axis([0, 0.5, -0.5, 1.5])\n",
    "plt.show()"
   ]
  },
  {
   "cell_type": "code",
   "execution_count": null,
   "metadata": {},
   "outputs": [],
   "source": [
    "# xkcd: the Comic sans of plot styles\n",
    "with plt.xkcd():\n",
    "    plt.figure()\n",
    "    plt.plot(x, y1, 'b')\n",
    "    plt.plot(x, y2, color='orange')\n",
    "    plt.xlabel(\"x axis\")\n",
    "    plt.ylabel(\"y axis\")\n",
    "    plt.title(\"Title\")\n",
    "    plt.legend((\"blue\", \"orange\"))\n",
    "    plt.show()"
   ]
  },
  {
   "cell_type": "markdown",
   "metadata": {},
   "source": [
    "### Other Plotting Functions"
   ]
  },
  {
   "cell_type": "markdown",
   "metadata": {},
   "source": [
    "There are many other plotting functions. For example, we will use `plt.imshow()` for showing images. We will have another jupyter notebook that goes into more details on how to handle images."
   ]
  },
  {
   "cell_type": "code",
   "execution_count": null,
   "metadata": {},
   "outputs": [],
   "source": [
    "image = np.outer(y1, y2) # plotting the outer product of y1 and y2\n",
    "\n",
    "plt.figure()\n",
    "plt.imshow(image)"
   ]
  },
  {
   "cell_type": "markdown",
   "metadata": {},
   "source": [
    "## CVXPY - Simple Optimization Problem\n",
    "\n",
    "Let's take a look at a how to formulate a simple optimization problem: minimizing a simple linear function with simple linear constraints.\n",
    "\n",
    "For example, say we wanted to find the minimum of the function $f(x) = x+3$ such that $x\\geq 1$ and $x \\leq 4$. Let's first visualize what that looks like:"
   ]
  },
  {
   "cell_type": "code",
   "execution_count": null,
   "metadata": {},
   "outputs": [],
   "source": [
    "x = np.arange(0, 5, 0.1)\n",
    "y = x + 3\n",
    "x1 = 1\n",
    "x2 = 4\n",
    "plt.figure()\n",
    "plt.xlim(0, 5)\n",
    "plt.ylim(0, 10)\n",
    "plt.plot(x, y)\n",
    "plt.axvline(x1, linestyle='--')\n",
    "plt.axvline(x2, linestyle='--')\n",
    "plt.axvspan(x1, x2, alpha=0.25)\n",
    "plt.axvspan(0, x1, alpha=0.25, color='red')\n",
    "plt.axvspan(x2, 5, alpha=0.25, color='red')\n",
    "plt.title(r'$f(x)=x+3, 1\\leq x\\leq 4$')\n",
    "plt.show()"
   ]
  },
  {
   "cell_type": "markdown",
   "metadata": {},
   "source": [
    "Just by inspection of the plot (and probably some beforehand intuition), we see that the minimum of this function is at $x=1$.\n",
    "\n",
    "Let's now see how we can express and solve this using the cvxpy paradigm"
   ]
  },
  {
   "cell_type": "code",
   "execution_count": null,
   "metadata": {},
   "outputs": [],
   "source": [
    "x = cp.Variable(1) # Define the variable we are optimizing over. \n",
    "                   # The parameter it takes in is the dimension of the vector.\n",
    "                   # Since we are dealing with scalars in this simple example, it is a 1.\n",
    "constraints = [x >= 1, x <= 4] # Define the constraints of the problem as a list of inequalities\n",
    "func = lambda x: x+3 # Define a function that we are minimizing over\n",
    "\n",
    "objective = cp.Minimize(func(x)) # Create an objective: we want to MINIMIZE the FUNC called on our variable X\n",
    "problem = cp.Problem(objective, constraints) # Create our problem, passing in our OBJECTIVE and CONSTRAINTS\n",
    "\n",
    "result = problem.solve() # Solve the problem we have stated and return the optimal value f(x*)\n",
    "x_star = x.value[0] # To get the argmin (input to the function that minimizes it),\n",
    "                    # we can acess the cp.Variable.value attribute\n",
    "print(\"Result: {}\\nx*: {}\".format(result, x_star))"
   ]
  },
  {
   "cell_type": "markdown",
   "metadata": {},
   "source": [
    "# References\n",
    "- [1] The official Python 3 language documentation. [Link](https://docs.python.org/3/).\n",
    "- [2] The official numpy and scipy documentation. [Link](https://docs.scipy.org/doc/).\n",
    "- [3] The official matplotlib documentation. [Link](https://matplotlib.org/contents.html)\n",
    "- [4] The official cvxpy documentation [Link](https://www.cvxpy.org)\n",
    "\n",
    "Special thanks to the [Berkeley Python Bootcamp 2013](https://github.com/profjsb/python-bootcamp), [Python for Signal Processing](http://link.springer.com/book/10.1007%2F978-3-319-01342-8), [EE123](https://inst.eecs.berkeley.edu/~ee123/sp18/lab/lab0/python_tutorial.ipynb) and and [EECS126](https://inst.eecs.berkeley.edu/~ee126/sp18/LAB01.zip) for providing a great starting point for Q1, Introduction to the Python scientific computing stack.  "
   ]
  },
  {
   "cell_type": "code",
   "execution_count": null,
   "metadata": {},
   "outputs": [],
   "source": []
  }
 ],
 "metadata": {
  "anaconda-cloud": {},
  "kernelspec": {
   "display_name": "Python 3",
   "language": "python",
   "name": "python3"
  },
  "language_info": {
   "codemirror_mode": {
    "name": "ipython",
    "version": 3
   },
   "file_extension": ".py",
   "mimetype": "text/x-python",
   "name": "python",
   "nbconvert_exporter": "python",
   "pygments_lexer": "ipython3",
   "version": "3.6.8"
  },
  "varInspector": {
   "cols": {
    "lenName": 16,
    "lenType": 16,
    "lenVar": 40
   },
   "kernels_config": {
    "python": {
     "delete_cmd_postfix": "",
     "delete_cmd_prefix": "del ",
     "library": "var_list.py",
     "varRefreshCmd": "print(var_dic_list())"
    },
    "r": {
     "delete_cmd_postfix": ") ",
     "delete_cmd_prefix": "rm(",
     "library": "var_list.r",
     "varRefreshCmd": "cat(var_dic_list()) "
    }
   },
   "types_to_exclude": [
    "module",
    "function",
    "builtin_function_or_method",
    "instance",
    "_Feature"
   ],
   "window_display": false
  }
 },
 "nbformat": 4,
 "nbformat_minor": 1
}

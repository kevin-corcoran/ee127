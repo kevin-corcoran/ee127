{
 "cells": [
  {
   "cell_type": "markdown",
   "metadata": {},
   "source": [
    "# City migration notebook\n",
    "\n",
    "In this iPython notebook we will try to better understand how matrices and eigenvalues can be useful to model problems involving graphs and flows.\n",
    "\n",
    "The goal of the iPython is to give students intuition about eigenvalues decomposition.\n",
    "\n",
    "### Cities, network and population\n",
    "As in the pdf problem, we consider a graph $G=(V,E)$ with vertices in $V$ and edges in $E$.\n",
    "Every vetex of the graph represents a city and every edge a connection between two cities.\n",
    "A connection means that people can migrate from one city to the other city.\n",
    "\n",
    "For every city $i$, we denote $m_{i,t}$ the population of the city during the year $t$.\n",
    "\n",
    "### City migration and transition matrix\n",
    "The probability to migrate from the city $i$ to the city $j$ during one year is denoted $p_{i,j}$.\n",
    "\n",
    "We define the transition matrix of the graph $T$ by: \n",
    "$T_{ij} = \\left\\{ \n",
    "\\begin{array}{ll}\n",
    "p_{i,j} & \\mbox{if } (i,j) \\in E, \\\\\n",
    "0 & \\mbox{otherwise.}\n",
    "\\end{array}\n",
    "\\right.\n",
    "$.\n",
    "\n",
    "Because city population is non-negative, and because it is assumed that the total population remains constant over years, we have that $\\forall\\ i,j$: $p_{i,j}\\geq 0$ and $\\forall\\ i$: $\\sum\\limits_{j} p_{i,j} = 1$.\n",
    "\n",
    "### Results from pdf exercise\n",
    "For every year $t=2019,2020,...$, we encode the population of every city in a vector $m_t=(m_{i,t})_{i}$.\n",
    "\n",
    "Question a. gives that $m_{t+1}=T^\\top m_t$.\n",
    "Question o. gives that if $T$ is constant over time, if $T$ is symmetric, if the graph of the cities is strongly connected, and if $-1$ is not an eigenvalue of $T$, then the population of every city will be the same after a given time.\n",
    "\n",
    "In this exercise we will:\n",
    "1. **Construct an example to see that this is true**\n",
    "2. **Use eigenvalue decomposition to predict the equilibrium flow**\n",
    "3. **See how the results change if the graph is not strongly connected anymore**\n",
    "4. **What happen if $-1$ is an eigenvalue of $T$**\n",
    "5. **What happen when $T$ is not symmetric**\n",
    "\n",
    "\n",
    "### Remark on the model\n",
    "This model is a really bad model to model city migration. However, you can use some model like this one to model other things that city migration. Like the migration from pages to pages on the internet. This can help you to become billionaire to create Google (if you can come back in the past). You can also use such model to compute the soft power (or centrality) of a city:\n",
    "- Bonacich, P. (1987) ‘Power and Centrality: A Family of Measures’, _American Journal of Sociology_, 92, 1170 – 82.\n",
    "- Freeman, L. C. (1978/79) ‘Centrality in Social Networks: Conceptual Clarification’, _Social Networks_, 1, 215 – 39.\n",
    "<img src=\"../figures/city_network.jpg\" style=\"width: 650px;\"/>\n",
    "<center>The network considered by J. Friedmann in The World City Hypothesis to compute soft power of cities</center>"
   ]
  },
  {
   "cell_type": "code",
   "execution_count": 1,
   "metadata": {},
   "outputs": [],
   "source": [
    "import numpy as np"
   ]
  },
  {
   "cell_type": "markdown",
   "metadata": {},
   "source": [
    "## Part 1. Strongly connected graph and symmetric transition matrix without -1 eigenvalue\n",
    "\n",
    "<img src=\"../figures/Cities.png\" style=\"width: 450px;\"/>"
   ]
  },
  {
   "cell_type": "markdown",
   "metadata": {},
   "source": [
    "We consider the migration between 6 cities inside the bay area: Berkeley, Sausalito, San Francisco, Oakland, San Mateo and Stanford.\n",
    "We numbered the cities from 1 to 6 with the following order:\n",
    "1. Berkeley\n",
    "2. Sausalito\n",
    "3. San Francisco\n",
    "4. Oakland\n",
    "5. San Mateo\n",
    "6. Stanford\n",
    "\n",
    "The probability $p_{i,j}$ to go from one city $i$ to another city $j$ is indicated in blue on the edges between the two cities.\n",
    "The transition matrix is assumed to be symmetric. Therefore $p_{j,i}= p_{i,j}$\n",
    "\n",
    "For example $p_{6,6}=.8$ and $p_{6,5}=p_{5,6}=.2$.\n",
    "\n",
    "We consider that, at the year $0$, 600,000 people lives in San Franscisco and nobody in the other cities. We are interested to understand the evolution of the city demographics with the previous set-up.\n",
    "\n",
    "### 1.p. Write the transition matrix of the graph above"
   ]
  },
  {
   "cell_type": "code",
   "execution_count": 2,
   "metadata": {},
   "outputs": [],
   "source": [
    "#TO DO\n",
    "T = np.array([[.5, .1, .2, .2, 0, 0],\n",
    "              [.1, .6, .3, 0, 0, 0],\n",
    "              [.2, .3, .3, .1, .1, 0],\n",
    "              [.2, 0, .1, .6, .1, 0],\n",
    "              [0, 0, .1, .1, .6, .2],\n",
    "              [0, 0, 0, 0, .2, .8]])"
   ]
  },
  {
   "cell_type": "markdown",
   "metadata": {},
   "source": [
    "If you wrote $T$ correctly it should pass the following test:"
   ]
  },
  {
   "cell_type": "code",
   "execution_count": 3,
   "metadata": {},
   "outputs": [],
   "source": [
    "assert(np.prod(T == T.T) == True)\n",
    "one = np.ones(6).T\n",
    "assert(np.prod(T @ one == one) == True)\n",
    "assert(np.prod(T >= 0) == True)"
   ]
  },
  {
   "cell_type": "markdown",
   "metadata": {},
   "source": [
    "## Part 2. Finding the equilibrium flow with eigenvalue decomposition\n",
    "We are interested in finding $m_{\\infty}=\\lim \\limits_{l\\rightarrow \\infty}(T^\\top)^l m_0$ with $m_0=[0,0,6,0,0,0]^\\top$."
   ]
  },
  {
   "cell_type": "code",
   "execution_count": 4,
   "metadata": {},
   "outputs": [],
   "source": [
    "demographics = np.zeros(6)\n",
    "demographics[2] = 6"
   ]
  },
  {
   "cell_type": "markdown",
   "metadata": {},
   "source": [
    "##### First we compute $m_\\infty$ using matrix iteration (or brut force)"
   ]
  },
  {
   "cell_type": "code",
   "execution_count": 5,
   "metadata": {},
   "outputs": [
    {
     "name": "stdout",
     "output_type": "stream",
     "text": [
      "[1.2 1.8 1.8 0.6 0.6 0. ]\n",
      "[1.13861349 1.17293882 1.11885046 1.07210502 0.83524123 0.66225097]\n",
      "[1.04703138 1.05548824 1.03900476 1.0264352  0.94546632 0.88657411]\n",
      "[1.01571082 1.01848989 1.01301065 1.00885938 0.98180319 0.96212608]\n",
      "[1.0052447  1.00617176 1.00434303 1.00295793 0.9939257  0.98735688]\n",
      "[1.00175077 1.00206023 1.00144978 1.00098742 0.9979723  0.99577951]\n",
      "[1.00058444 1.00068774 1.00048396 1.00032962 0.99932312 0.99859113]\n",
      "[1.0001951  1.00022958 1.00016155 1.00011003 0.99977404 0.99952969]\n",
      "[1.00006513 1.00007664 1.00005393 1.00003673 0.99992457 0.999843  ]\n",
      "[1.00002174 1.00002558 1.000018   1.00001226 0.99997482 0.99994759]\n",
      "[1.00000726 1.00000854 1.00000601 1.00000409 0.99999159 0.99998251]\n",
      "[1.00000242 1.00000285 1.00000201 1.00000137 0.99999719 0.99999416]\n",
      "[1.00000081 1.00000095 1.00000067 1.00000046 0.99999906 0.99999805]\n",
      "[1.00000027 1.00000032 1.00000022 1.00000015 0.99999969 0.99999935]\n",
      "[1.00000009 1.00000011 1.00000007 1.00000005 0.9999999  0.99999978]\n",
      "[1.00000003 1.00000004 1.00000002 1.00000002 0.99999997 0.99999993]\n",
      "[1.00000001 1.00000001 1.00000001 1.00000001 0.99999999 0.99999998]\n",
      "[1.         1.         1.         1.         1.         0.99999999]\n",
      "[1. 1. 1. 1. 1. 1.]\n",
      "[1. 1. 1. 1. 1. 1.]\n"
     ]
    }
   ],
   "source": [
    "B = T.T\n",
    "for i in range(200):\n",
    "    if(i%10==0):\n",
    "        print(B @ demographics)\n",
    "    B = B @ T.T"
   ]
  },
  {
   "cell_type": "markdown",
   "metadata": {},
   "source": [
    "##### A second technique can be to use the eigenvalue decomposition to compute $m_\\infty$\n",
    "\n",
    "### 1.q. Express $T$ as $T=\\sum_i \\lambda_i u_i u_i^\\top$ using `np.linalg.eig`. Then express $T^\\infty$ as $T^\\infty=u_1u_1^\\top$. Then express and print $m_\\infty = u_1 u_1^\\top m_0$."
   ]
  },
  {
   "cell_type": "code",
   "execution_count": 6,
   "metadata": {},
   "outputs": [
    {
     "name": "stdout",
     "output_type": "stream",
     "text": [
      "[[ 5.00000000e-01  1.00000000e-01  2.00000000e-01  2.00000000e-01\n",
      "   3.60822483e-16  3.60822483e-16]\n",
      " [ 1.00000000e-01  6.00000000e-01  3.00000000e-01  7.58074159e-16\n",
      "  -5.89805982e-17  3.26128013e-16]\n",
      " [ 2.00000000e-01  3.00000000e-01  3.00000000e-01  1.00000000e-01\n",
      "   1.00000000e-01 -3.12250226e-16]\n",
      " [ 2.00000000e-01  7.58074159e-16  1.00000000e-01  6.00000000e-01\n",
      "   1.00000000e-01 -3.88578059e-16]\n",
      " [ 3.60822483e-16 -5.89805982e-17  1.00000000e-01  1.00000000e-01\n",
      "   6.00000000e-01  2.00000000e-01]\n",
      " [ 3.60822483e-16  3.26128013e-16 -3.12250226e-16 -3.88578059e-16\n",
      "   2.00000000e-01  8.00000000e-01]]\n",
      "[1. 1. 1. 1. 1. 1.]\n"
     ]
    }
   ],
   "source": [
    "# TO DO\n",
    "vals, vecs = np.linalg.eig(T)\n",
    "# sum(vals[i]* np.array([vecs[:,i]]).T@np.array([vecs[:,i]]) for i in range(0,len(vals)))\n",
    "#\n",
    "Q = vecs\n",
    "Qt = Q.T\n",
    "D = np.diag(vals)\n",
    "Q.dot(D).dot(Qt) # T\n",
    "\n",
    "# t0 = sum(vals[i]* np.array([vecs[:,i]]).T@np.array([vecs[:,i]]) for i in range(0,len(vals)))\n",
    "# t1 = sum(vals[i]*np.array([vecs[:,i]]).T.dot(np.array([vecs[:,i]])) for i in range(0,len(vals)))\n",
    "# t2 = sum(vals[i]*vecs[:,i].reshape(6,1).dot(vecs[:,i].reshape(1,6)) for i in range(0,len(vals)))\n",
    "# python kinda sucks.. what is this ^^\n",
    "\n",
    "# T as sum\n",
    "t3 = sum(vals[i]*np.outer(vecs[:,i],vecs[:,i]) for i in range(0,len(vals)))\n",
    "# steady state solution\n",
    "t_inf = np.outer(vecs[:,1],vecs[:,1])\n",
    "m_inf = t_inf.dot(demographics)\n",
    "print(t3)\n",
    "print(m_inf)"
   ]
  },
  {
   "cell_type": "markdown",
   "metadata": {},
   "source": [
    "##### A third technique might be using the closed form solution that we calculated  in 1.n\n",
    "\n",
    "Question n. (and question l.) gives that $u_1=\\frac{\\textbf{1}}{\\|\\textbf{1}\\|_2}$.\n",
    "### 1.r. Express and print $m_\\infty=\\frac{\\textbf{1} \\textbf{1}^\\top}{\\|\\textbf{1}\\|_2^2} m_0$ "
   ]
  },
  {
   "cell_type": "code",
   "execution_count": 7,
   "metadata": {},
   "outputs": [
    {
     "name": "stdout",
     "output_type": "stream",
     "text": [
      "[1. 1. 1. 1. 1. 1.]\n"
     ]
    }
   ],
   "source": [
    "# TO DO\n",
    "l = len(T)\n",
    "norm_squared = l\n",
    "# norm_squared = np.linalg.norm(u_1)**2\n",
    "u_1 = np.ones(l) / np.sqrt(norm_squared)\n",
    "\n",
    "m_inf = np.outer(u_1, u_1).dot(demographics)\n",
    "print(m_inf)"
   ]
  },
  {
   "cell_type": "markdown",
   "metadata": {},
   "source": [
    "## Part 3. When the graph is not strongly connected\n",
    "\n",
    "We add two cities to the graph:\n",
    "7. Manhattan\n",
    "8. Brooklyn\n",
    "\n",
    "We assume that there is no migration from Berkely, Sausalito, San Francisco, Oakland, San Mateo or Stanford to Manhattan or Brooklyn. Similarily from Manhattan or Brooklyn to Berkely, Sausalito, San Francisco, Oakland, San Mateo or Stanford.\n",
    "\n",
    "We assume that the probability to migrate from Manhattan to Brooklyn is 0.5."
   ]
  },
  {
   "cell_type": "code",
   "execution_count": 8,
   "metadata": {},
   "outputs": [],
   "source": [
    "\n",
    "T_no_connected = T\n",
    "T_no_connected = np.insert(T_no_connected, 6, 0, axis=1)\n",
    "T_no_connected = np.insert(T_no_connected, 7, 0, axis=1)\n",
    "T_no_connected = np.insert(T_no_connected, 6, 0, axis=0)\n",
    "T_no_connected = np.insert(T_no_connected, 7, 0, axis=0)\n",
    "T_no_connected[6][6] = 0.5\n",
    "T_no_connected[6][7] = 0.5\n",
    "T_no_connected[7][6] = 0.5\n",
    "T_no_connected[7][7] = 0.5\n",
    "\n",
    "demographics_bis = np.append(demographics, [4,0])"
   ]
  },
  {
   "cell_type": "markdown",
   "metadata": {},
   "source": [
    "##### The brut force technique shows us that the result of question o. is not true anymore when the graph is not strongly connected"
   ]
  },
  {
   "cell_type": "code",
   "execution_count": 9,
   "metadata": {},
   "outputs": [
    {
     "name": "stdout",
     "output_type": "stream",
     "text": [
      "[1.2 1.8 1.8 0.6 0.6 0.  2.  2. ]\n",
      "[1.04703138 1.05548824 1.03900476 1.0264352  0.94546632 0.88657411\n",
      " 2.         2.        ]\n",
      "[1.0052447  1.00617176 1.00434303 1.00295793 0.9939257  0.98735688\n",
      " 2.         2.        ]\n",
      "[1.00058444 1.00068774 1.00048396 1.00032962 0.99932312 0.99859113\n",
      " 2.         2.        ]\n",
      "[1.00006513 1.00007664 1.00005393 1.00003673 0.99992457 0.999843\n",
      " 2.         2.        ]\n",
      "[1.00000726 1.00000854 1.00000601 1.00000409 0.99999159 0.99998251\n",
      " 2.         2.        ]\n",
      "[1.00000081 1.00000095 1.00000067 1.00000046 0.99999906 0.99999805\n",
      " 2.         2.        ]\n",
      "[1.00000009 1.00000011 1.00000007 1.00000005 0.9999999  0.99999978\n",
      " 2.         2.        ]\n",
      "[1.00000001 1.00000001 1.00000001 1.00000001 0.99999999 0.99999998\n",
      " 2.         2.        ]\n",
      "[1. 1. 1. 1. 1. 1. 2. 2.]\n"
     ]
    }
   ],
   "source": [
    "# Brut force\n",
    "B = T_no_connected.T\n",
    "for i in range(200):\n",
    "    if(i%20==0):\n",
    "        print(B @ demographics_bis)\n",
    "    B = B @ T_no_connected.T"
   ]
  },
  {
   "cell_type": "markdown",
   "metadata": {},
   "source": [
    "Therefore, we cannot use the result of question n. to compute the equilibrium flow in the network.\n",
    "\n",
    "##### However we can still use the eigenvalue decomposition to compute $m_\\infty$\n",
    "\n",
    "### 1.s. Express $T\\_no\\_connected=T_{nc}$ as $T_{nc}=\\sum_i \\lambda_i u_i u_i^\\top$ using `np.linalg.eig`. Then express $T_{nc}^\\infty$ as $T_{nc}^\\infty=\\sum_{i, \\lambda_i=1} u_i u_i^\\top$. Then express and print $m_\\infty = \\sum_{i, \\lambda_i=1} u_i u_i^\\top m_0$."
   ]
  },
  {
   "cell_type": "code",
   "execution_count": 10,
   "metadata": {},
   "outputs": [
    {
     "name": "stdout",
     "output_type": "stream",
     "text": [
      "[[ 5.00000000e-01  1.00000000e-01  2.00000000e-01  2.00000000e-01\n",
      "   3.88578059e-16  3.46944695e-16  0.00000000e+00  0.00000000e+00]\n",
      " [ 1.00000000e-01  6.00000000e-01  3.00000000e-01  8.70397504e-16\n",
      "  -7.28583860e-17  3.19189120e-16  0.00000000e+00  0.00000000e+00]\n",
      " [ 2.00000000e-01  3.00000000e-01  3.00000000e-01  1.00000000e-01\n",
      "   1.00000000e-01 -3.19189120e-16  0.00000000e+00  0.00000000e+00]\n",
      " [ 2.00000000e-01  8.70397504e-16  1.00000000e-01  6.00000000e-01\n",
      "   1.00000000e-01 -3.74700271e-16  0.00000000e+00  0.00000000e+00]\n",
      " [ 3.88578059e-16 -7.28583860e-17  1.00000000e-01  1.00000000e-01\n",
      "   6.00000000e-01  2.00000000e-01  0.00000000e+00  0.00000000e+00]\n",
      " [ 3.46944695e-16  3.19189120e-16 -3.19189120e-16 -3.74700271e-16\n",
      "   2.00000000e-01  8.00000000e-01  0.00000000e+00  0.00000000e+00]\n",
      " [ 0.00000000e+00  0.00000000e+00  0.00000000e+00  0.00000000e+00\n",
      "   0.00000000e+00  0.00000000e+00  5.00000000e-01  5.00000000e-01]\n",
      " [ 0.00000000e+00  0.00000000e+00  0.00000000e+00  0.00000000e+00\n",
      "   0.00000000e+00  0.00000000e+00  5.00000000e-01  5.00000000e-01]]\n",
      "[1. 1. 1. 1. 1. 1. 2. 2.]\n"
     ]
    }
   ],
   "source": [
    "# Eigen-decomposition\n",
    "import pdb\n",
    "vals, vecs = np.linalg.eig(T_no_connected)\n",
    "# T as sum\n",
    "t3 = sum(vals[i]*np.outer(vecs[:,i],vecs[:,i]) for i in range(0,len(vals)))\n",
    "tol = 10**(-12)\n",
    "lst = (vals <= 1 + tol) & (vals >= 1 - tol)\n",
    "indices = np.where(lst == True)[0]\n",
    "# steady state solution\n",
    "t_inf = sum(np.outer(vecs[:,i],vecs[:,i]) for i in indices)\n",
    "m_inf = t_inf.dot(demographics_bis)\n",
    "print(t3)\n",
    "print(m_inf)\n",
    "# To do"
   ]
  },
  {
   "cell_type": "markdown",
   "metadata": {},
   "source": [
    "## Part 4. When -1 is an eigenvalue\n",
    "\n",
    "Now, everything is similar to part 3. but **the probability to go from Brooklin to Manhattan is now 1**.\n",
    "You can imagine right now that we will not be able to reach an equilibrium: during the year t, x people lives in Manhattan, and y in Brooklin. Because the probability to go from Brooklin to Manhattan is 1, in the year t+1, y people will live in Manhatten and x in Brooklin. In the year t+2, x people will live in Manhattan, and y in Brooklin.\n",
    "And so forth... Therefore, there will be no equilibrium: in year t+2n, x people will live in Manhattan and y in Brooklin, in the years t+2n+1, y people will live in Manhattan and x in Brooklin."
   ]
  },
  {
   "cell_type": "code",
   "execution_count": 11,
   "metadata": {},
   "outputs": [],
   "source": [
    "T_eig = T_no_connected\n",
    "T_eig[6][6] = 0\n",
    "T_eig[6][7] = 1\n",
    "T_eig[7][6] = 1\n",
    "T_eig[7][7] = 0"
   ]
  },
  {
   "cell_type": "markdown",
   "metadata": {},
   "source": [
    "### 1.t Print the eigenvalues of T_eig"
   ]
  },
  {
   "cell_type": "code",
   "execution_count": 12,
   "metadata": {},
   "outputs": [
    {
     "name": "stdout",
     "output_type": "stream",
     "text": [
      "[ 0.06212582  1.          0.89608844  0.3089637   0.65603366  0.47678837\n",
      "  1.         -1.        ]\n"
     ]
    }
   ],
   "source": [
    "# To do  \n",
    "values, vectors = np.linalg.eig(T_eig)\n",
    "print(values)"
   ]
  },
  {
   "cell_type": "markdown",
   "metadata": {},
   "source": [
    "##### The brut force technique shows us that limits (or equilibrium) does not exists when -1 is an eigenvalue of T. -1 being an eigenvalue implies some periodics characteritics in the city migrations."
   ]
  },
  {
   "cell_type": "code",
   "execution_count": 13,
   "metadata": {},
   "outputs": [
    {
     "name": "stdout",
     "output_type": "stream",
     "text": [
      "[1. 1. 1. 1. 1. 1. 0. 4.]\n",
      "[1. 1. 1. 1. 1. 1. 4. 0.]\n",
      "[1. 1. 1. 1. 1. 1. 0. 4.]\n",
      "[1. 1. 1. 1. 1. 1. 4. 0.]\n"
     ]
    }
   ],
   "source": [
    "# Brut force\n",
    "\n",
    "B = T_eig.T\n",
    "for i in range(200):\n",
    "    B = B @ T_eig.T\n",
    "for i in range(4):\n",
    "    print(B @ demographics_bis)\n",
    "    B = B @ T_eig.T"
   ]
  },
  {
   "cell_type": "markdown",
   "metadata": {},
   "source": [
    "## Part 5. When $T$ is not symmetric: _when people do not want to go to Stanford_"
   ]
  },
  {
   "cell_type": "markdown",
   "metadata": {},
   "source": [
    "In this case we will assume that Berkeley is more attractive than Stanford.\n",
    "Most of the transition matrix remains inchanged but if you are in Stanford:\n",
    "- Now the probability to stay in Stanford is 0.5\n",
    "- the probability to go to Berkeley from Stanford is 0.2\n",
    "- the probability to go to San Mateo from Stanford is 0.3\n",
    "\n",
    "So now, $T$ is not symmetric anymore."
   ]
  },
  {
   "cell_type": "code",
   "execution_count": 14,
   "metadata": {},
   "outputs": [],
   "source": [
    "T_no_sym = T\n",
    "T_no_sym[5][0] = 0.2\n",
    "T_no_sym[5][4] = 0.3\n",
    "T_no_sym[5][5] = 0.5"
   ]
  },
  {
   "cell_type": "markdown",
   "metadata": {},
   "source": [
    "##### First, let's compute the equilibirum with matrix iterations (brut force)"
   ]
  },
  {
   "cell_type": "code",
   "execution_count": 15,
   "metadata": {},
   "outputs": [
    {
     "name": "stdout",
     "output_type": "stream",
     "text": [
      "[1.2 1.8 1.8 0.6 0.6 0. ]\n",
      "[1.30972969 1.2428024  1.19094475 1.14742477 0.79927532 0.30982307]\n",
      "[1.30511318 1.20848349 1.17431089 1.15314044 0.82839901 0.33055299]\n",
      "[1.30467077 1.20611261 1.17311523 1.15326935 0.83063793 0.3321941 ]\n",
      "[1.30463671 1.20593689 1.17302613 1.15327615 0.83080622 0.33231791]\n",
      "[1.30463415 1.20592374 1.17301946 1.15327663 0.83081883 0.33232719]\n",
      "[1.30463396 1.20592276 1.17301896 1.15327666 0.83081978 0.33232788]\n",
      "[1.30463395 1.20592268 1.17301892 1.15327667 0.83081985 0.33232794]\n",
      "[1.30463395 1.20592268 1.17301892 1.15327667 0.83081985 0.33232794]\n",
      "[1.30463395 1.20592268 1.17301892 1.15327667 0.83081985 0.33232794]\n"
     ]
    }
   ],
   "source": [
    "# Brut force\n",
    "\n",
    "B = T_no_sym.T\n",
    "for i in range(100):\n",
    "    if(i%10==0):\n",
    "        print(B @ demographics)\n",
    "    B = B @ T_no_sym.T"
   ]
  },
  {
   "cell_type": "markdown",
   "metadata": {},
   "source": [
    "##### We can still compute the equilibirum with the eigenvalue decomposition of $T$.\n",
    "\n",
    "The solution will be in the span of the first right eivector.\n",
    "We know that the norm 1 of $m_t$ is preserved over time, question d., so to find the solution we just need to find the vector in the span of the first right eigenvector will the same norm 1 as $m_0$.\n",
    "\n",
    "One might remark that the norm 1 of $m_0$ is given by $\\textbf{1}^\\top m_0$ and that $\\textbf{1}$ is the first left eigenvector."
   ]
  },
  {
   "cell_type": "code",
   "execution_count": 16,
   "metadata": {},
   "outputs": [
    {
     "name": "stdout",
     "output_type": "stream",
     "text": [
      "[1.         0.77172257 0.62796759 0.0541851  0.3879714  0.25815335]\n",
      "[[1.30463395 1.20592268 1.17301892 1.15327667 0.83081985 0.33232794]]\n"
     ]
    }
   ],
   "source": [
    "# Eigen-decomposition\n",
    "\n",
    "values, vectors = np.linalg.eig(T_no_sym.T)\n",
    "\n",
    "print(values)\n",
    "\n",
    "# asserting that -1 is not an eigenvalues\n",
    "assert(np.prod(values >= -0.95) == True)\n",
    "\n",
    "# finding the eigenvectors corresponding to the eigenvalue 1\n",
    "eigvec = (vectors.T[values >= 0.95]).reshape((6,1))\n",
    "\n",
    "# normalizing the eigenvectors\n",
    "sol = eigvec * ((np.ones(6) @ demographics)/(np.ones(6) @ eigvec))\n",
    "\n",
    "# printing the solution\n",
    "print(sol.T)"
   ]
  },
  {
   "cell_type": "markdown",
   "metadata": {},
   "source": [
    "# Modeling the uniformization of water inside a food container\n",
    "\n",
    "Similarly of the Bread First Search in the homework 2, one can model a grid as a graph.\n",
    "For example, you can imagine that the grid is a mesh of a food container.\n",
    "You can imagine putting water in the food container and using the transition matrix of the grid to model the dynamics of the water spreading in the food container.\n",
    "\n",
    "If the food container does not contain dividers, then the grid is strongly connected. And because of the gravity -1 will not be an eigenvector of the transition matrix. Therefore, result of question o. proves that the water will be uniformely spread over the food container after a given time."
   ]
  },
  {
   "cell_type": "markdown",
   "metadata": {},
   "source": [
    "### 1.u. Run the following code with p=.2, with p=.25 and p=.3 and think about the -1 eigenvalue.\n",
    "\n",
    "<u>Remark:</u> in real life the model will be a little bit different but not that far, and results of question o. can still be used."
   ]
  },
  {
   "cell_type": "code",
   "execution_count": 17,
   "metadata": {},
   "outputs": [],
   "source": [
    "m = 10\n",
    "n = m**2\n",
    "A = np.zeros((n, n))\n",
    "p = .2 \n",
    "# p = .25\n",
    "# p = .3\n",
    "\n",
    "for k in range(n):\n",
    "    tmp = 1\n",
    "    i = k%m\n",
    "    j = k//m\n",
    "    if i+1<m:\n",
    "        A[k][i+1 + m*j] = p\n",
    "        tmp = tmp - p\n",
    "    if i>0:\n",
    "        A[k][i-1 + m*j] = p\n",
    "        tmp = tmp - p\n",
    "    if j+1<m:\n",
    "        A[k][i + m*(j+1)] = p\n",
    "        tmp = tmp - p\n",
    "    if j>0:\n",
    "        A[k][i + m*(j-1)] = p\n",
    "        tmp = tmp - p\n",
    "    A[k][k]= tmp"
   ]
  },
  {
   "cell_type": "code",
   "execution_count": 18,
   "metadata": {},
   "outputs": [
    {
     "name": "stdout",
     "output_type": "stream",
     "text": [
      "[1. 1. 1. 1. 1. 1. 1. 1. 1. 1. 1. 1. 1. 1. 1. 1. 1. 1. 1. 1. 1. 1. 1. 1.\n",
      " 1. 1. 1. 1. 1. 1. 1. 1. 1. 1. 1. 1. 1. 1. 1. 1. 1. 1. 1. 1. 1. 1. 1. 1.\n",
      " 1. 1. 1. 1. 1. 1. 1. 1. 1. 1. 1. 1. 1. 1. 1. 1. 1. 1. 1. 1. 1. 1. 1. 1.\n",
      " 1. 1. 1. 1. 1. 1. 1. 1. 1. 1. 1. 1. 1. 1. 1. 1. 1. 1. 1. 1. 1. 1. 1. 1.\n",
      " 1. 1. 1. 1.]\n"
     ]
    }
   ],
   "source": [
    "T = A\n",
    "assert(np.prod(T == T.T) == True)\n",
    "one = np.ones(n).T\n",
    "print(T @ one)\n",
    "# assert(np.prod(T @ one == one) == True)\n",
    "assert(np.prod(T >= 0) == True)"
   ]
  },
  {
   "cell_type": "code",
   "execution_count": 19,
   "metadata": {},
   "outputs": [
    {
     "data": {
      "image/png": "[encoded data removed]",
      "text/plain": [
       "<Figure size 432x288 with 1 Axes>"
      ]
     },
     "metadata": {
      "needs_background": "light"
     },
     "output_type": "display_data"
    }
   ],
   "source": [
    "# %matplotlib notebook\n",
    "%matplotlib inline\n",
    "\n",
    "nb_frame = 200\n",
    "e1 = np.zeros((n,nb_frame))\n",
    "e1[42][0] = m**2\n",
    "\n",
    "for i in range(nb_frame):\n",
    "    if i == 0:\n",
    "        continue\n",
    "    e1[:,i] = e1[:,i-1].T @ A\n",
    "\n",
    "import matplotlib.pyplot as plt\n",
    "import matplotlib.animation as animation\n",
    "\n",
    "fig = plt.figure()\n",
    "ax = plt.axes(xlim=(0, m), ylim=(0, m))\n",
    "\n",
    "im=plt.imshow((e1[:,1].T).reshape(m,m), interpolation='nearest', vmin=0, vmax=2)\n",
    "\n",
    "# animation function.  This is called sequentially\n",
    "def animate(i):\n",
    "    im.set_array((e1[:,i].T).reshape(m,m))\n",
    "    return [im]\n",
    "\n",
    "ani = animation.FuncAnimation(fig, animate, frames=nb_frame)\n",
    "\n",
    "plt.show()"
   ]
  }
 ],
 "metadata": {
  "kernelspec": {
   "display_name": "Python 3",
   "language": "python",
   "name": "python3"
  },
  "language_info": {
   "codemirror_mode": {
    "name": "ipython",
    "version": 3
   },
   "file_extension": ".py",
   "mimetype": "text/x-python",
   "name": "python",
   "nbconvert_exporter": "python",
   "pygments_lexer": "ipython3",
   "version": "3.6.8"
  }
 },
 "nbformat": 4,
 "nbformat_minor": 4
}

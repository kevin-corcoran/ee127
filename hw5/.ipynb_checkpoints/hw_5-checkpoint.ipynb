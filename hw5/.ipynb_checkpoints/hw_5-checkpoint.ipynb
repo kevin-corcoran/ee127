{
 "cells": [
  {
   "cell_type": "markdown",
   "metadata": {},
   "source": [
    "**1. City migrations as matrix iterations:  the transition matrix**  "
   ]
  },
  {
   "cell_type": "markdown",
   "metadata": {},
   "source": [
    "**(a)**  \n",
    "The $j^{th}$ column of T corresponds to the annual percentage of migration to that city from each city $i$. So if we wanted to know how many people from city $i$ moved to city $j$ after one year, we multiply the $i^{th}$ column of $\\vec m_t$ by the $i^{th}$ row of the $j^{th}$ column, then the total population in the $j^{th}$ city is this summed over all $i$.\n",
    "\n",
    "let $T_j$ be the $j^{th}$ column of $T$. Then\n",
    "$$\n",
    "T_j \\cdot \\vec m_t = T_j^\\top \\vec m_t \\\\\n",
    " = m_{j,t+1}\n",
    "$$\n",
    "\n",
    "Therefore the new population vector $\\vec m_{t+1}$ is  \n",
    "$$\n",
    " \\vec m_{t+1} = T^\\top \\vec m_t\n",
    "$$"
   ]
  },
  {
   "cell_type": "markdown",
   "metadata": {},
   "source": [
    "**(b)**  \n",
    "let $\\vec v$ be an eigenvector with eigen value $\\lambda$\n",
    "$$\n",
    "T \\vec v = \\lambda \\vec v \\\\\n",
    "$$\n",
    "\n",
    "lets consider one row of $\\vec v$\n",
    "$$\n",
    "p_{i1}v_1 + \\dots + p_{in}v_n = \\lambda v_i\n",
    "$$\n",
    "\n",
    "taking the $\\| \\cdot \\|_\\infty$ norm, and letting $|v_k| = \\max\\limits_{i} |\\vec v_i|$  \n",
    "$$\n",
    "\\|p_{i1}v_1 + \\dots + p_{in}v_n \\|_\\infty = \\| \\lambda v_i \\|_\\infty \\\\\n",
    " p_{i1}|v_k| + \\dots + p_{in}|v_k| \\geq |\\lambda| |v_k| \\\\\n",
    " \\left( p_{i1} + \\dots + p_{in} \\right) |v_k| \\geq |\\lambda| |v_k| \\\\\n",
    "$$\n",
    "\n",
    "since $\\sum\\limits_{j} p_{i,j} = 1$\n",
    "$$\n",
    "|\\lambda| \\leq 1\n",
    "$$"
   ]
  },
  {
   "cell_type": "markdown",
   "metadata": {},
   "source": [
    "**(c)**  \n",
    "Let $\\mathbf{1}$ be a vector with all ones, and since $\\sum\\limits_{j} p_{i,j} = 1$\n",
    "$$\n",
    "T \\mathbf{1} = \\mathbf{1}\n",
    "$$\n",
    "\n",
    "Then normalizing $\\vec v = \\frac{1}{\\sqrt{n}}\\mathbf{1}$ yields an eigenvector with eigenvalue $1$ such that $\\|\\vec v\\|_2 = 1$"
   ]
  },
  {
   "cell_type": "markdown",
   "metadata": {},
   "source": [
    "**(d)**  \n",
    "One component of $T^\\top \\vec m$  \n",
    "$$\n",
    "p_{1j}m_{1,t} + \\dots + p_{nj}m_{n,t} = m_{j,t+1}\n",
    "$$\n",
    "\n",
    "Then taking $\\|\\cdot\\|_1$ is the sum over j of the absolute values of the components of $m_{j,t+1}$  \n",
    "\n",
    "$$\n",
    "\\sum\\limits_j (p_{1j}m_{1,t} + \\dots + p_{nj}m_{n,t}) = \\sum\\limits_j m_{j,t+1} \\\\\n",
    "$$\n",
    "\n",
    "LHS\n",
    "$$\n",
    "p_{11}|m_{1,t}| + \\dots + p_{n1}|m_{n,t}| \\\\\n",
    "+ p_{12}|m_{1,t}| + \\dots + p_{n2}|m_{n,t}| \\\\\n",
    "+ \\dots + \\\\\n",
    "+ p_{1n}|m_{1,t}| + \\dots + p_{nn}|m_{n,t}|\n",
    "$$\n",
    "\n",
    "Grouping components\n",
    "$$\n",
    "(p_{11}+ \\dots + p_{1n})|m_{1,t}| + \\dots + (p_{nn}+ \\dots + p_{nn})|m_{n,t}| \\\\\n",
    "= \\sum\\limits_j |m_{j,t}|\n",
    "$$\n",
    "\n",
    "Finally  \n",
    "\n",
    "$$\n",
    "\\sum\\limits_j |m_{j,t}| = \\sum\\limits_j |m_{j,t+1}|\n",
    "$$\n",
    "\n",
    "proving that the total population remains constant"
   ]
  },
  {
   "cell_type": "markdown",
   "metadata": {},
   "source": [
    "**(e)**  \n",
    "assume $\\vec v$ be an eigenvector with eigenvalue $1$, then  \n",
    "\n",
    "$$\n",
    "(I-T) \\vec v \\\\\n",
    "= v - Tv \\\\\n",
    "= v - v \\\\\n",
    "= 0 \\\\\n",
    "\\implies v \\in N(I-T) \n",
    "$$\n",
    "\n",
    "Now assume $v \\in N(I-T)$, then\n",
    "\n",
    "$$\n",
    "(I-T)v = 0 \\\\\n",
    "v - Tv = 0 \\\\\n",
    "Tv = v \\\\\n",
    "$$\n",
    "\n",
    "Implying $v$ is an eigenvector with eigenvalue $1$\n",
    "\n",
    "Proving finding all eigenvectors with eigenvalue $1$ is equivalent to finding the nullspace of $I-T$"
   ]
  },
  {
   "cell_type": "markdown",
   "metadata": {},
   "source": [
    "**(f)**  \n",
    "**Show $Tu = u$, where $u = v-v_i1$**\n",
    "\n",
    "$$\n",
    "Tu = T(v-v_i1) \\\\\n",
    " = Tv - v_iT1 \\\\\n",
    " = v - v_i1\n",
    "$$\n",
    "\n",
    "Therefore $u$ is an eigenvector with eigevalue $1$\n",
    "\n",
    "**Show $u \\geq 0$**\n",
    "\n",
    "All components $u_k$ of $u$  \n",
    "\n",
    "$$\n",
    "u_k = v_k - v_i \\geq 0\n",
    "$$\n",
    "\n",
    "Since $i=\\arg\\min\\limits_j v_j$\n",
    "Therefore $u \\geq 0$\n",
    "\n",
    "**Show $u_i = 0$**  \n",
    "\n",
    "$i^{th}$ component of $u$\n",
    "\n",
    "$$\n",
    "u_i = v_i - (v_i1)_i \\\\\n",
    " = v_i - v_i \\\\\n",
    " = 0\n",
    "$$  \n",
    "\n",
    "Therefore $u_i = 0$"
   ]
  },
  {
   "cell_type": "markdown",
   "metadata": {},
   "source": [
    "**(g)**  \n",
    "Follows from part (f)  \n",
    "Since $u$ is an eigenvector with eigenvalue $1$, then $T^nu = 1^nu$,  \n",
    "and since $e_i^\\top u$ pulls out the $i^{th}$ component of $u$, and since $u_i = 0$, then\n",
    "\n",
    "$$e_i^\\top T^n u \\\\\n",
    "= e_i^\\top u \\\\ \n",
    "= u_i\\\\ \n",
    " = 0$$"
   ]
  },
  {
   "cell_type": "markdown",
   "metadata": {},
   "source": [
    "**(h) - (o)** extra credit"
   ]
  },
  {
   "cell_type": "markdown",
   "metadata": {},
   "source": [
    "**(p)** in notebook \"City_migration.ipynb\""
   ]
  },
  {
   "cell_type": "markdown",
   "metadata": {},
   "source": [
    "**2. PCA and voting data** notebook"
   ]
  },
  {
   "cell_type": "markdown",
   "metadata": {},
   "source": [
    "**3. PCA and face recognition** notebook"
   ]
  },
  {
   "cell_type": "markdown",
   "metadata": {},
   "source": [
    "**4. Traffic flow: the return of the transition matrix**"
   ]
  },
  {
   "cell_type": "markdown",
   "metadata": {},
   "source": [
    "**(a)**  \n",
    "This is exactly like city migration where the total population remains constant.  \n",
    "The initial traffic flow on each street $i$ makes up the $i^{th}$ component of $f_0$, then on the next time step $f_{\\delta t}$ the $i^{th}$ component of $f_{\\delta t}$ is the dot product of the $\\mathbf{i^{th}}$ **column** of T. Doing this over all columns yields the result\n",
    "\n",
    "$$\n",
    "f_{\\delta t} = T^\\top f_0\n",
    "$$"
   ]
  },
  {
   "cell_type": "markdown",
   "metadata": {},
   "source": [
    "**(b)**  "
   ]
  },
  {
   "cell_type": "markdown",
   "metadata": {},
   "source": [
    "We already know the traffic flow within the system is $f_{\\delta t} = T^\\top f_0$. So we're concerned with how people enter and exit this system.\n",
    "\n",
    "Then the $i^{th}$ component of $D\\mathbf{1}$ is\n",
    "\n",
    "$$(D\\mathbf{1})_i = \\begin{pmatrix} \\sum\\limits_j D_{ij} \\end{pmatrix}$$\n",
    "\n",
    "Which represents the total number of people leaving street $i$\n",
    "\n",
    "The $i^{th}$ component of $D^\\top\\mathbf{1}$ is\n",
    "\n",
    "$$(D^\\top\\mathbf{1})_i = \\begin{pmatrix} \\sum\\limits_k D_{ki} \\end{pmatrix}$$\n",
    "\n",
    "Which represents the total number of people entering street $i$\n",
    "\n",
    "Then, $(D-D^\\top)\\mathbf{1}$ represents the total change of each street.\n",
    "\n",
    "Therefore, each time step is represented as \n",
    "\n",
    "$$\n",
    "f_{t+\\delta t} = T^\\top f_{t} + (D - D^\\top)\\mathbf{1}\n",
    "$$\n",
    "\n"
   ]
  },
  {
   "cell_type": "markdown",
   "metadata": {},
   "source": [
    "**(c)**  \n",
    "$$\n",
    "f_{eq} = T^\\top f_{eq} + (D-D^\\top)\\mathbf{1} \\\\\n",
    "(I-T^\\top)f_{eq} = (D-D^\\top)\\mathbf{1}\n",
    "$$\n",
    "\n",
    "Therefore $A = (I-T^\\top)$, and $b = (D-D^\\top)\\mathbf{1}$"
   ]
  },
  {
   "cell_type": "markdown",
   "metadata": {},
   "source": [
    "**(d)**  \n",
    "We know there is a solution iff $b \\in R(A)$. We'll show this is equivalent to $b \\perp N(A^\\top)$  \n",
    "\n",
    "Let $v\\in N(A^\\top)$  \n",
    "\n",
    "$$\n",
    "\\begin{align*}\n",
    "\\langle x, A^\\top v \\rangle &= \\langle x, 0 \\rangle \\\\\n",
    "    &= 0 \\\\\n",
    " &= \\langle Ax, v \\rangle \\\\\n",
    " &= \\langle b, v \\rangle = 0\n",
    "\\end{align*}\n",
    "$$\n",
    "\n",
    "Then the perpendicular compliment to the nullspace of $A^\\top$ is exactly the range of $A$, $R(A)$.  \n",
    "i.e. $b\\in N(A^\\top)^\\perp = R(A)$"
   ]
  },
  {
   "cell_type": "markdown",
   "metadata": {},
   "source": [
    "**(e)**  \n",
    "$$\n",
    "A^\\top = I-T\n",
    "$$\n",
    "\n",
    "From the previous part we've shown that there is an equilibrium solution iff $b \\perp N(A^T)$.\n",
    "\n",
    "And since $N(A^\\top) = N(I-T) = Span(\\mathbf{1})$, then  \n",
    "\n",
    "$$\n",
    "\\mathbf{1}^\\top b = 0\n",
    "$$\n",
    "\n",
    "is equivalent"
   ]
  },
  {
   "cell_type": "markdown",
   "metadata": {},
   "source": [
    "**(f)**  \n",
    "$1^\\top D 1$ represents the total number of people that leave the system.\n",
    "and $1^\\top D^\\top 1$ represents the total number of people entering the system.\n",
    "Since we're assuming the total number of people in the system remains constant,\n",
    "\n",
    "$$\n",
    "1^\\top D\\mathbf{1} - 1^\\top D^\\top\\mathbf{1} = 0\n",
    "$$\n",
    "\n"
   ]
  },
  {
   "cell_type": "markdown",
   "metadata": {},
   "source": [
    "**(g)**  \n",
    "If this wasn't the case then we'd have either more people entering the road network than leaving, or more people leaving the road network than entering. Like during an event in a city and after an event in a city."
   ]
  },
  {
   "cell_type": "markdown",
   "metadata": {},
   "source": []
  }
 ],
 "metadata": {
  "kernelspec": {
   "display_name": "Julia 1.2.0",
   "language": "julia",
   "name": "julia-1.2"
  },
  "language_info": {
   "file_extension": ".jl",
   "mimetype": "application/julia",
   "name": "julia",
   "version": "1.2.0"
  }
 },
 "nbformat": 4,
 "nbformat_minor": 4
}

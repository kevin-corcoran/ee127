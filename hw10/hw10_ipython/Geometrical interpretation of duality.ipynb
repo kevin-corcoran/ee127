{
 "cells": [
  {
   "cell_type": "markdown",
   "metadata": {},
   "source": [
    "# Geometric interpretation of duality"
   ]
  },
  {
   "cell_type": "code",
   "execution_count": null,
   "metadata": {},
   "outputs": [],
   "source": [
    "import numpy as np\n",
    "import matplotlib.pyplot as plt"
   ]
  },
  {
   "cell_type": "markdown",
   "metadata": {},
   "source": [
    "# Part 1.3 a)"
   ]
  },
  {
   "cell_type": "markdown",
   "metadata": {},
   "source": [
    "## Setting up the problem"
   ]
  },
  {
   "cell_type": "markdown",
   "metadata": {},
   "source": [
    "### <font color=red> 1. Using `np.array`: </font>\n",
    "<font color=red> \n",
    "1. Write A corresponding to question 1.1. in `A_1`. \n",
    "2. Write A corresponding to question 1.2 in `A_2`. \n",
    "3. Write b in `b` \n",
    "4. Write c in `c`\n",
    "    </font>\n",
    "\n",
    "We will consider d=.3 in this notebook.\n",
    "\n",
    "Make sure that the dimension are correct and do not create exceptions to run the next cells."
   ]
  },
  {
   "cell_type": "code",
   "execution_count": null,
   "metadata": {},
   "outputs": [],
   "source": [
    "# A_1 = # TO DO\n",
    "# A_2 = # TO DO\n",
    "# b = # TO DO\n",
    "# c = # TO DO"
   ]
  },
  {
   "cell_type": "markdown",
   "metadata": {},
   "source": [
    "Now, let's plot $f_0$ and $f_1$ as a function of $x_1$ and $x_2$ for the convex and for the non convex problem. We will discretize $x_1$ and $x_2$ between -1 and 1 with 50 points. \n",
    "So we will plot {$\\big(x_1, x_2, f_0((x_1,x_2))\\big)$ | $x_1$ = -1, -.96, ..., .96, 1 ;  $x_2$ = -1, -.96, ..., .96, 1} for both problems and we will do the same with $f_1$."
   ]
  },
  {
   "cell_type": "code",
   "execution_count": null,
   "metadata": {},
   "outputs": [],
   "source": [
    "n = 50\n",
    "res = 0.04\n",
    "f0_1 = []\n",
    "f0_2 = []\n",
    "# A_2c and f0_2c are useless until question 16\n",
    "A_2c = np.array([[2, 0], [0, 0]])\n",
    "f0_2c = []\n",
    "x1 = []\n",
    "x2 = []\n",
    "f1 = []\n",
    "for i in range(n+1):\n",
    "    x1tmp = res*((2*i-n)/2)\n",
    "    for j in range(n+1):\n",
    "        x2tmp = res*((2*j-n)/2)\n",
    "        x = np.array([x1tmp, x2tmp]).T\n",
    "        f0_1.append(x.T @ A_1 @ x + b @ x)\n",
    "        f0_2.append(x.T @ A_2 @ x + b @ x)\n",
    "        f0_2c.append(x.T @ A_2c @ x + b @ x)\n",
    "        f1.append(c @ x + d)\n",
    "        x1.append(x1tmp)\n",
    "        x2.append(x2tmp)"
   ]
  },
  {
   "cell_type": "code",
   "execution_count": null,
   "metadata": {},
   "outputs": [],
   "source": [
    "from mpl_toolkits.mplot3d import Axes3D\n",
    "\n",
    "fig = plt.figure()\n",
    "ax = fig.add_subplot(111, projection='3d')\n",
    "ax.scatter(x1, x2, f0_1, marker='+')\n",
    "ax.scatter(x1, x2, f1, marker='o')\n",
    "plt.show()\n",
    "\n",
    "fig = plt.figure()\n",
    "ax2 = fig.add_subplot(111, projection='3d')\n",
    "ax2.scatter(x1, x2, f0_2, marker='+')\n",
    "ax2.scatter(x1, x2, f1, marker='o')\n",
    "plt.show()"
   ]
  },
  {
   "cell_type": "markdown",
   "metadata": {},
   "source": [
    "## Geometric interpretation of the inequality constraints"
   ]
  },
  {
   "cell_type": "markdown",
   "metadata": {},
   "source": [
    "### <font color=red> 2. Explain geometrically how one can see that the problem one is convex and the problem 2 is not convex on the two graphs above. Explain also why if we did not constraint $x_2$ to be bounded the non convex problem will have no solution. </font>"
   ]
  },
  {
   "cell_type": "markdown",
   "metadata": {},
   "source": [
    "### <font color=blue> Answer: TO DO </font>"
   ]
  },
  {
   "cell_type": "markdown",
   "metadata": {},
   "source": [
    "Now, we will scatter $f_0$ with $f_1$ for the previous 50*50 points in [-1,1]x[-1,1]."
   ]
  },
  {
   "cell_type": "code",
   "execution_count": null,
   "metadata": {},
   "outputs": [],
   "source": [
    "plt.figure()\n",
    "plt.scatter(f1, f0_1)\n",
    "xmin,_,_,_ = plt.axis()\n",
    "plt.axvspan(xmin, 0, facecolor='r', alpha=0.5)\n",
    "plt.show()\n",
    "\n",
    "plt.figure()\n",
    "plt.scatter(f1, f0_2)\n",
    "plt.axvspan(xmin, 0, facecolor='r', alpha=0.5)\n",
    "plt.show()"
   ]
  },
  {
   "cell_type": "markdown",
   "metadata": {},
   "source": [
    "On the graphs above every blue point correspond to one point $x$. The blue point corresponding to the point $x$ as for coordinate $(f_1(x), f_0(x))$.\n",
    "### <font color=red> 3. What are the $x$ that corresponds to the blue point in the red region on the graphs above? Explain why we do not care about the point that are not in the red region. </font>"
   ]
  },
  {
   "cell_type": "markdown",
   "metadata": {},
   "source": [
    "### <font color=blue> Answer: TO DO </font>"
   ]
  },
  {
   "cell_type": "markdown",
   "metadata": {},
   "source": [
    "### <font color=red> 4. Explain where you can find the optimal value of $f_0$ solution of the problem (1) on the two graphs above </font>"
   ]
  },
  {
   "cell_type": "markdown",
   "metadata": {},
   "source": [
    "### <font color=blue> Answer: TO DO </font>"
   ]
  },
  {
   "cell_type": "markdown",
   "metadata": {},
   "source": [
    "# Part 1.4 d)"
   ]
  },
  {
   "cell_type": "markdown",
   "metadata": {},
   "source": [
    "## Geometric interpretation of the Lagrangian"
   ]
  },
  {
   "cell_type": "markdown",
   "metadata": {},
   "source": [
    "Now, let's draw the set $H_{x,\\lambda_1}$ for a given $x$ and $\\lambda_1 \\geq 0$.\n",
    "$H_{x,\\lambda_1}$ will be drawn in green. $(f_1(x),f_0(x))$ will be the orange point. And we will draw $L$ in red.\n",
    "\n",
    "### We recommend that you play around with $x$ and $\\lambda_1$ to get an intuition about $H_{x,\\lambda_1}$. Also, if you want your intuition to be correct, make sure to keep $x$ in the [-1, 1]x[-1, 1] box constraints, and to recall that $\\lambda_1\\geq 0$."
   ]
  },
  {
   "cell_type": "code",
   "execution_count": null,
   "metadata": {},
   "outputs": [],
   "source": [
    "def plot_h(plambda, px, pA, pf1, pf0):\n",
    "    n2 = 10\n",
    "    res2 = 0.5\n",
    "    z = []\n",
    "    h = []\n",
    "    for i in range(n2+1):\n",
    "        ztmp = res2*((2*i-n2)/2)\n",
    "        z.append(ztmp)\n",
    "        h.append(px.T @ pA @ px + b @ px + plambda*(c @ px + d -ztmp))\n",
    "    plt.figure()\n",
    "    plt.scatter(pf1, pf0)\n",
    "    xmin,xmax,ymin,ymax = plt.axis()\n",
    "    plt.scatter(c @ px + d, px.T @ pA @ px + b @ px)\n",
    "    plt.plot(z, h, 'g')\n",
    "    plt.plot(np.zeros(len(z)), z, 'r')\n",
    "    plt.gca().set_xlim(xmin,xmax)\n",
    "    plt.gca().set_ylim(ymin,ymax)\n",
    "    plt.show()"
   ]
  },
  {
   "cell_type": "code",
   "execution_count": null,
   "metadata": {},
   "outputs": [],
   "source": [
    "x = np.array([0, -0.7]).T\n",
    "lambda_1 = 0.5\n",
    "\n",
    "plot_h(lambda_1, x, A_1, f1, f0_1)\n",
    "plot_h(lambda_1, x, A_2, f1, f0_2)"
   ]
  },
  {
   "cell_type": "markdown",
   "metadata": {},
   "source": [
    "## Solving the primal problem"
   ]
  },
  {
   "cell_type": "markdown",
   "metadata": {},
   "source": [
    "In the primal problem we want to optimize the Lagrangian value by first maximize the Lagrangian with respect to $\\lambda_1$, then by minimizing the results with respect to $x$.\n",
    "From the previous questions we know that we can see the value of the Lagrangian is the y-coordinate of the intersection of the green and the red line.\n",
    "The green line is given for a specific $x$ and $\\lambda_1$. We will first maximize the y-coordinate of intersection with $\\lambda_1\\geq 0$.\n",
    "\n",
    "We have to distinguish two cases. The first one is when the orange point is on the right of the red line. The second is when the orange point is on the left of the red line."
   ]
  },
  {
   "cell_type": "markdown",
   "metadata": {},
   "source": [
    "### <font color=red> 5. Give the geometric meaning of $\\lambda_1\\geq 0$ for the green line. </font> "
   ]
  },
  {
   "cell_type": "markdown",
   "metadata": {},
   "source": [
    "### <font color=blue> Answer: TO DO </font>\n"
   ]
  },
  {
   "cell_type": "markdown",
   "metadata": {},
   "source": [
    "### <font color=red> 6. Using the previous code, draw $H_{x,\\lambda_1}$ for $x=$ `np.array([0, -0.7]).T` and for three different values of $\\lambda_1$: 2, 0.5 and 0 for both problems. </font>"
   ]
  },
  {
   "cell_type": "code",
   "execution_count": null,
   "metadata": {},
   "outputs": [],
   "source": [
    "## TO DO"
   ]
  },
  {
   "cell_type": "markdown",
   "metadata": {},
   "source": [
    "###  <font color=red> 7. Gives the optimal value of $\\lambda_1$ when the orange point is on the left of the red line. </font> \n",
    "<font color=red> The optimal value of $\\lambda_1$ is define as the value that maiximizes $\\hat{\\mathcal{L}}(x,\\lambda_1)$ for $x$ fixed. </font> "
   ]
  },
  {
   "cell_type": "markdown",
   "metadata": {},
   "source": [
    "### <font color=blue> Answer: TO DO </font>"
   ]
  },
  {
   "cell_type": "markdown",
   "metadata": {},
   "source": [
    "### <font color=red> 8. Using the previous code, draw $H_{x,\\lambda_1}$ for $x=$ `np.array([0.5, 0.7]).T` and for three different values of $\\lambda_1$: 2, 0.5 and 0 for both problems. </font> "
   ]
  },
  {
   "cell_type": "code",
   "execution_count": null,
   "metadata": {},
   "outputs": [],
   "source": [
    "## TO DO"
   ]
  },
  {
   "cell_type": "markdown",
   "metadata": {},
   "source": [
    "### <font color=red> 9. Give the optimal value of $\\lambda_1$ when the orange point is on the right side of the red line. </font>"
   ]
  },
  {
   "cell_type": "markdown",
   "metadata": {},
   "source": [
    "### <font color=blue> Answer: TO DO </font>"
   ]
  },
  {
   "cell_type": "markdown",
   "metadata": {},
   "source": [
    "### <font color=red> 10. Explain geometrically why the primal problem is equivalent to the original problem. </font>"
   ]
  },
  {
   "cell_type": "markdown",
   "metadata": {},
   "source": [
    "### <font color=blue> Answer: TO DO </font>\n"
   ]
  },
  {
   "cell_type": "markdown",
   "metadata": {},
   "source": [
    "# Part 1.4 f)"
   ]
  },
  {
   "cell_type": "markdown",
   "metadata": {},
   "source": [
    "## Solving the dual problem"
   ]
  },
  {
   "cell_type": "markdown",
   "metadata": {},
   "source": [
    "In the dual problem we want to optimize the Lagrangian value by first minimizing the Lagrangian with respect to $x$, then by maximize the results with respect to $\\lambda_1$.\n",
    "From the previous questions we know that we can see the value of the Lagrangian is the y-coordinate of the intersection of the green and the red line.\n",
    "The green line is given for a specific $x$ and $\\lambda_1$. Given a $\\lambda_1$, we will first minimize the y-coordinate of intersection with the variable $x$."
   ]
  },
  {
   "cell_type": "markdown",
   "metadata": {},
   "source": [
    "The following function returns the $x$ that minimizes the lagrangian given a $\\lambda_1$ (parameter plambda) and the matrix A of the problem (A_1 or A_2) (parameter pA)."
   ]
  },
  {
   "cell_type": "code",
   "execution_count": null,
   "metadata": {},
   "outputs": [],
   "source": [
    "def find_min_x(plambda, pA):\n",
    "    L = 10\n",
    "    for i in range(n+1):\n",
    "        x1tmp = res*((2*i-n)/2)\n",
    "        for j in range(n+1):\n",
    "            x2tmp = res*((2*j-n)/2)\n",
    "            x = np.array([x1tmp, x2tmp]).T\n",
    "            Ltmp = (x.T @ pA @ x + b @ x) + plambda * (c @ x + d)\n",
    "            if Ltmp<L:\n",
    "                L = Ltmp\n",
    "                minx = x\n",
    "    return minx"
   ]
  },
  {
   "cell_type": "markdown",
   "metadata": {},
   "source": [
    "First, let's fix $\\lambda_1=1$ and find the $x$ such that the Lagrangian is minimized."
   ]
  },
  {
   "cell_type": "code",
   "execution_count": null,
   "metadata": {},
   "outputs": [],
   "source": [
    "lambda_1 = 1\n",
    "x11 = np.array([0.5, -0.7]).T\n",
    "x21 = np.array([0.2, -0.7]).T\n",
    "x31 = find_min_x(lambda_1, A_1)\n",
    "x32 = find_min_x(lambda_1, A_2)\n",
    "n2 = 10\n",
    "res2 = 0.5\n",
    "z = []\n",
    "h11 = []\n",
    "h12 = []\n",
    "h13 = []\n",
    "h21 = []\n",
    "h22 = []\n",
    "h23 = []\n",
    "for i in range(n2+1):\n",
    "    ztmp = res2*((2*i-n2)/2)\n",
    "    z.append(ztmp)\n",
    "    h11.append(x11.T @ A_1 @ x11 + b @ x11 + lambda_1*(c @ x11 + d -ztmp))\n",
    "    h12.append(x21.T @ A_1 @ x21 + b @ x21 + lambda_1*(c @ x21 + d -ztmp))\n",
    "    h13.append(x31.T @ A_1 @ x31 + b @ x31 + lambda_1*(c @ x31 + d -ztmp))\n",
    "    h21.append(x11.T @ A_2 @ x11 + b @ x11 + lambda_1*(c @ x11 + d -ztmp))\n",
    "    h22.append(x21.T @ A_2 @ x21 + b @ x21 + lambda_1*(c @ x21 + d -ztmp))\n",
    "    h23.append(x32.T @ A_2 @ x32 + b @ x32 + lambda_1*(c @ x32 + d -ztmp))\n",
    "plt.figure()\n",
    "plt.scatter(f1, f0_1)\n",
    "xmin,xmax,ymin,ymax = plt.axis()\n",
    "plt.scatter(c @ x11 + d, x11.T @ A_1 @ x11 + b @ x11, c='orange')\n",
    "plt.scatter(c @ x21 + d, x21.T @ A_1 @ x21 + b @ x21, c='orange')\n",
    "plt.scatter(c @ x31 + d, x31.T @ A_1 @ x31 + b @ x31, c='orange')\n",
    "plt.plot(z, h11, 'g')\n",
    "plt.plot(z, h12, 'g')\n",
    "plt.plot(z, h13, 'g')\n",
    "plt.plot(np.zeros(len(z)), z, 'r')\n",
    "plt.gca().set_xlim(xmin,xmax)\n",
    "plt.gca().set_ylim(ymin,ymax)\n",
    "plt.show()\n",
    "\n",
    "plt.figure()\n",
    "plt.scatter(f1, f0_2)\n",
    "xmin,xmax,ymin,ymax = plt.axis()\n",
    "plt.scatter(c @ x11 + d, x11.T @ A_2 @ x11 + b @ x11, c='orange')\n",
    "plt.scatter(c @ x21 + d, x21.T @ A_2 @ x21 + b @ x21, c='orange')\n",
    "plt.scatter(c @ x32 + d, x32.T @ A_2 @ x32 + b @ x32, c='orange')\n",
    "plt.plot(z, h21, 'g')\n",
    "plt.plot(z, h22, 'g')\n",
    "plt.plot(z, h23, 'g')\n",
    "plt.plot(np.zeros(len(z)), z, 'r')\n",
    "plt.gca().set_xlim(xmin,xmax)\n",
    "plt.gca().set_ylim(ymin,ymax)\n",
    "plt.show()"
   ]
  },
  {
   "cell_type": "markdown",
   "metadata": {},
   "source": [
    "### <font color=red> 11. Explain why the green lines are parallel. Give the intuition about the optimal green line being tangent to the set $\\mathcal{G}$ </font>"
   ]
  },
  {
   "cell_type": "markdown",
   "metadata": {},
   "source": [
    "### <font color=blue> Answer: TO DO </font>"
   ]
  },
  {
   "cell_type": "markdown",
   "metadata": {},
   "source": [
    "As you can see, the value of $x$ that minimizes of the Lagrangian for a given $\\lambda_1$ is such that $H_{x^*,\\lambda_1}$ is tangent to the set of blue points.\n",
    "\n",
    "\n",
    "__Remark for advanced students__: \n",
    "\n",
    "If you do more advanced convex optimization, you will learn that $H_{x^*,\\lambda_1}$ is a supporting hyperplane of the set $\\mathcal{G}$. A supporting hyperplane is linked to the notion of sub-gradient, which is not teach in this class.\n",
    "\n",
    "This can be shown with really not rigorous math this way:\n",
    "I want to minimize $L(x,\\lambda_1)=f_0(x)+\\lambda_1 f_1(x)$ with respect to $x$. So I can fix $\\nabla_x L(x,\\lambda_1)=0$.\n",
    "\n",
    "This will give that $\\frac{\\partial f_0}{\\partial x}(x) + \\lambda_1 \\frac{\\partial f_1}{\\partial x}(x)=0$ (which is the stationary condition of the KKT conditions).\n",
    "\n",
    "Not rigorously, we can write $\\partial f_0(x) + \\lambda_1 \\partial f_1(x) = 0$ so $\\lambda_1 = - \\frac{\\partial f_0}{\\partial f_1}(x)$. As you know for previous questions the slope of the green line is $-\\lambda_1$, and the equation gives the intuition that the green line is tangent to the set $\\mathcal{G}=\\{(f_1(x),f_0(x))| x \\dots \\}$.\n",
    "\n",
    "More rigorous proof implies epigraphs $\\mathcal{A}$ and supporting hyperplanes (see p.232 to p.237 of Boyd's book).\n",
    "\n",
    "__End of the remark__"
   ]
  },
  {
   "cell_type": "markdown",
   "metadata": {},
   "source": [
    "### Optimizing over $\\lambda_1\\geq 0$: finding the optimal supporting hyperplane"
   ]
  },
  {
   "cell_type": "markdown",
   "metadata": {},
   "source": [
    "### <font color=red> 12. Using the function `plot_h` and `find_min_x`, plot the green line $H_{x^*,\\lambda_1}$ that minimize the y-coordinate of the intersection of $H_{x^*,\\lambda_1}$ with $L$ over $x$ for $\\lambda_1=2, 1, 0.6, 0.3, 0.2, 0$. </font>"
   ]
  },
  {
   "cell_type": "code",
   "execution_count": null,
   "metadata": {},
   "outputs": [],
   "source": [
    "# To do: for the convex problem"
   ]
  },
  {
   "cell_type": "code",
   "execution_count": null,
   "metadata": {},
   "outputs": [],
   "source": [
    "# To do: for the non convex problem"
   ]
  },
  {
   "cell_type": "markdown",
   "metadata": {},
   "source": [
    "### <font color=red> 13. Explain geometrically why the primal problem and the dual problem are equivalent if the problem is convex (strong duality). </font>"
   ]
  },
  {
   "cell_type": "markdown",
   "metadata": {},
   "source": [
    "### <font color=blue> Answer: TO DO </font>"
   ]
  },
  {
   "cell_type": "markdown",
   "metadata": {},
   "source": [
    "# Part 1.5 f)"
   ]
  },
  {
   "cell_type": "markdown",
   "metadata": {},
   "source": [
    "## Weak duality"
   ]
  },
  {
   "cell_type": "markdown",
   "metadata": {},
   "source": [
    "### <font color=red> 14. Plug the $\\lambda_1$ that you find for question (e) in `lambda_optimal`  and run the following cell. </font>"
   ]
  },
  {
   "cell_type": "code",
   "execution_count": null,
   "metadata": {},
   "outputs": [],
   "source": [
    "# lambda_optimal = ## To do\n",
    "\n",
    "plambda = lambda_optimal-0.01\n",
    "px = find_min_x(plambda, A_2)\n",
    "pA = A_2\n",
    "pf1 = f1\n",
    "pf0 = f0_2\n",
    "p_optimal = -.7\n",
    "\n",
    "n2 = 10\n",
    "res2 = 0.5\n",
    "z = []\n",
    "h = []\n",
    "for i in range(n2+1):\n",
    "    ztmp = res2*((2*i-n2)/2)\n",
    "    z.append(ztmp)\n",
    "    h.append(px.T @ pA @ px + b @ px + plambda*(c @ px + d -ztmp))\n",
    "plt.figure()\n",
    "plt.scatter(pf1, pf0)\n",
    "xmin,xmax,ymin,ymax = plt.axis()\n",
    "plt.scatter(c @ px + d, px.T @ pA @ px + b @ px)\n",
    "plt.plot(z, np.zeros(len(z))+ p_optimal, 'orange')\n",
    "plt.plot(z, h, 'g')\n",
    "plt.plot(np.zeros(len(z)), z, 'r')\n",
    "plt.gca().set_xlim(xmin,xmax)\n",
    "plt.gca().set_ylim(ymin,ymax)\n",
    "plt.show()"
   ]
  },
  {
   "cell_type": "markdown",
   "metadata": {},
   "source": [
    "### <font color=red> 15. Explain on the previous graph where you can find the optimal duality gap ($p^\\star-d^\\star$) </font>"
   ]
  },
  {
   "cell_type": "markdown",
   "metadata": {},
   "source": [
    "### <font color=blue> Answer: TO DO </font>"
   ]
  },
  {
   "cell_type": "markdown",
   "metadata": {},
   "source": [
    "# Part 1.6 c)"
   ]
  },
  {
   "cell_type": "markdown",
   "metadata": {},
   "source": [
    "## Upperbound on the non convex problem"
   ]
  },
  {
   "cell_type": "markdown",
   "metadata": {},
   "source": [
    "Eigenvalue shifting"
   ]
  },
  {
   "cell_type": "code",
   "execution_count": null,
   "metadata": {},
   "outputs": [],
   "source": [
    "fig = plt.figure()\n",
    "ax2 = fig.add_subplot(111, projection='3d')\n",
    "ax2.scatter(x1, x2, f0_2, marker='+')\n",
    "ax2.scatter(x1, x2, f1, marker='o')\n",
    "plt.show()\n",
    "\n",
    "fig = plt.figure()\n",
    "ax2 = fig.add_subplot(111, projection='3d')\n",
    "ax2.scatter(x1, x2, f0_2c, marker='+')\n",
    "ax2.scatter(x1, x2, f1, marker='o')\n",
    "plt.show()"
   ]
  },
  {
   "cell_type": "code",
   "execution_count": null,
   "metadata": {},
   "outputs": [],
   "source": [
    "plt.figure()\n",
    "plt.scatter(f1, f0_2)\n",
    "plt.scatter(f1, f0_2c)\n",
    "xmin,xmax,ymin,ymax = plt.axis()\n",
    "plt.plot(np.zeros(len(z)), z, 'r')\n",
    "plt.gca().set_xlim(xmin,xmax)\n",
    "plt.gca().set_ylim(ymin,ymax)\n",
    "plt.show()"
   ]
  },
  {
   "cell_type": "markdown",
   "metadata": {},
   "source": [
    "Random search"
   ]
  },
  {
   "cell_type": "code",
   "execution_count": null,
   "metadata": {},
   "outputs": [],
   "source": [
    "import random\n",
    "\n",
    "R = []\n",
    "for x in range(30):\n",
    "    R.append(random.randint(1,len(f1)))\n",
    "\n",
    "plt.figure()\n",
    "plt.scatter(f1, f0_2)\n",
    "plt.scatter(np.array(f1)[R], np.array(f0_2)[R], marker='x')\n",
    "xmin,xmax,ymin,ymax = plt.axis()\n",
    "plt.plot(np.zeros(len(z)), z, 'r')\n",
    "plt.gca().set_xlim(xmin,xmax)\n",
    "plt.gca().set_ylim(ymin,ymax)\n",
    "plt.show()"
   ]
  },
  {
   "cell_type": "markdown",
   "metadata": {},
   "source": [
    "### <font color=red> 16. Explain why random search will provide an upperbound on the non convex solution. </font>"
   ]
  },
  {
   "cell_type": "markdown",
   "metadata": {},
   "source": [
    "### <font color=blue> Answer: TO DO </font>"
   ]
  },
  {
   "cell_type": "markdown",
   "metadata": {},
   "source": [
    "# Part 1.7 b)"
   ]
  },
  {
   "cell_type": "markdown",
   "metadata": {},
   "source": [
    "## Sensitivity analysis"
   ]
  },
  {
   "cell_type": "markdown",
   "metadata": {},
   "source": [
    "### <font color=red> 17. Plug the $\\lambda_1^\\star$ and $x^\\star$ that you find for question (a) in `lambda_1_opt`  and `x_opt` and run the following cell. </font>"
   ]
  },
  {
   "cell_type": "code",
   "execution_count": null,
   "metadata": {},
   "outputs": [],
   "source": [
    "# lambda_1_opt = # TO DO\n",
    "# x_opt = np.array([]).T # TO DO \n",
    "\n",
    "plot_h(lambda_1_opt, x_opt, A_1, f1, f0_1)"
   ]
  },
  {
   "cell_type": "code",
   "execution_count": null,
   "metadata": {},
   "outputs": [],
   "source": [
    "def plot_h_u(plambda, px, pA, pf1, pf0, pu):\n",
    "    n2 = 10\n",
    "    res2 = 0.5\n",
    "    z = []\n",
    "    h = []\n",
    "    for i in range(n2+1):\n",
    "        ztmp = res2*((2*i-n2)/2)\n",
    "        z.append(ztmp)\n",
    "        h.append(px.T @ pA @ px + b @ px + plambda*(c @ px + d -ztmp))\n",
    "    plt.figure()\n",
    "    plt.scatter(pf1, pf0)\n",
    "    xmin,xmax,ymin,ymax = plt.axis()\n",
    "    plt.scatter(c @ px + d, px.T @ pA @ px + b @ px)\n",
    "    plt.plot(z, h, 'g')\n",
    "    plt.plot(np.zeros(len(z)), z, 'r')\n",
    "    plt.plot(np.zeros(len(z))+pu, z, 'orange')\n",
    "    plt.gca().set_xlim(xmin,xmax)\n",
    "    plt.gca().set_ylim(ymin,ymax)\n",
    "    plt.show()"
   ]
  },
  {
   "cell_type": "code",
   "execution_count": null,
   "metadata": {},
   "outputs": [],
   "source": [
    "plot_h_u(lambda_1_opt, x_opt, A_1, f1, f0_1, -0.2)\n",
    "plot_h_u(lambda_1_opt, x_opt, A_1, f1, f0_1, 0.2)"
   ]
  },
  {
   "cell_type": "markdown",
   "metadata": {},
   "source": [
    "### <font color=red> 17. Explain what is the impact of u on the figure above </font>"
   ]
  },
  {
   "cell_type": "markdown",
   "metadata": {},
   "source": [
    "### <font color=blue> Answer: TO DO </font>"
   ]
  },
  {
   "cell_type": "markdown",
   "metadata": {},
   "source": [
    "# Part 1.7 c)"
   ]
  },
  {
   "cell_type": "markdown",
   "metadata": {},
   "source": [
    "### <font color=red> 18. Explain why the green line gives a good approximation of $p^\\star(u)$ when $u$ is close to $0$ </font>"
   ]
  },
  {
   "cell_type": "markdown",
   "metadata": {},
   "source": [
    "### <font color=blue> Answer: TO DO </font>"
   ]
  },
  {
   "cell_type": "code",
   "execution_count": null,
   "metadata": {},
   "outputs": [],
   "source": []
  }
 ],
 "metadata": {
  "kernelspec": {
   "display_name": "Python 3",
   "language": "python",
   "name": "python3"
  },
  "language_info": {
   "codemirror_mode": {
    "name": "ipython",
    "version": 3
   },
   "file_extension": ".py",
   "mimetype": "text/x-python",
   "name": "python",
   "nbconvert_exporter": "python",
   "pygments_lexer": "ipython3",
   "version": "3.7.3"
  }
 },
 "nbformat": 4,
 "nbformat_minor": 2
}

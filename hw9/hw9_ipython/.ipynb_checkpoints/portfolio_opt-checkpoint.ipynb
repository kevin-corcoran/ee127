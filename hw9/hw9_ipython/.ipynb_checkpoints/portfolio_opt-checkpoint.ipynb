{
 "cells": [
  {
   "cell_type": "code",
   "execution_count": 2,
   "metadata": {},
   "outputs": [
    {
     "ename": "ModuleNotFoundError",
     "evalue": "No module named 'cvxpy'",
     "output_type": "error",
     "traceback": [
      "\u001b[0;31m---------------------------------------------------------------------------\u001b[0m",
      "\u001b[0;31mModuleNotFoundError\u001b[0m                       Traceback (most recent call last)",
      "\u001b[0;32m<ipython-input-2-9a27f6af9944>\u001b[0m in \u001b[0;36m<module>\u001b[0;34m\u001b[0m\n\u001b[0;32m----> 1\u001b[0;31m \u001b[0;32mimport\u001b[0m \u001b[0mcvxpy\u001b[0m \u001b[0;32mas\u001b[0m \u001b[0mcp\u001b[0m\u001b[0;34m\u001b[0m\u001b[0;34m\u001b[0m\u001b[0m\n\u001b[0m\u001b[1;32m      2\u001b[0m \u001b[0;32mimport\u001b[0m \u001b[0mnumpy\u001b[0m \u001b[0;32mas\u001b[0m \u001b[0mnp\u001b[0m\u001b[0;34m\u001b[0m\u001b[0;34m\u001b[0m\u001b[0m\n\u001b[1;32m      3\u001b[0m \u001b[0;32mfrom\u001b[0m \u001b[0mscipy\u001b[0m\u001b[0;34m.\u001b[0m\u001b[0mlinalg\u001b[0m \u001b[0;32mimport\u001b[0m \u001b[0msqrtm\u001b[0m\u001b[0;34m\u001b[0m\u001b[0;34m\u001b[0m\u001b[0m\n\u001b[1;32m      4\u001b[0m \u001b[0;32mfrom\u001b[0m \u001b[0mscipy\u001b[0m\u001b[0;34m.\u001b[0m\u001b[0mstats\u001b[0m \u001b[0;32mimport\u001b[0m \u001b[0mnorm\u001b[0m \u001b[0;32mas\u001b[0m \u001b[0mNormal_Dist\u001b[0m\u001b[0;34m\u001b[0m\u001b[0;34m\u001b[0m\u001b[0m\n\u001b[1;32m      5\u001b[0m \u001b[0;32mimport\u001b[0m \u001b[0mmatplotlib\u001b[0m\u001b[0;34m.\u001b[0m\u001b[0mpyplot\u001b[0m \u001b[0;32mas\u001b[0m \u001b[0mplt\u001b[0m\u001b[0;34m\u001b[0m\u001b[0;34m\u001b[0m\u001b[0m\n",
      "\u001b[0;31mModuleNotFoundError\u001b[0m: No module named 'cvxpy'"
     ]
    }
   ],
   "source": [
    "import cvxpy as cp\n",
    "import numpy as np\n",
    "from scipy.linalg import sqrtm\n",
    "from scipy.stats import norm as Normal_Dist\n",
    "import matplotlib.pyplot as plt"
   ]
  },
  {
   "cell_type": "markdown",
   "metadata": {},
   "source": [
    "# Part C"
   ]
  },
  {
   "cell_type": "code",
   "execution_count": null,
   "metadata": {},
   "outputs": [],
   "source": [
    "# Create our r_hat, Sigma, and other things required as outlined in the problem\n",
    "ones = np.ones(4)\n",
    "r_hat = np.array([0.12, 0.10, 0.07, 0.03])\n",
    "Sigma = np.array([\n",
    "    [0.0064, 0.0008, -0.0011, 0.0],\n",
    "    [0.0008, 0.0025, 0.0, 0.0],\n",
    "    [-0.0011, 0.0, 0.0004, 0.0],\n",
    "    [0.0, 0.0, 0.0, 0.0]\n",
    "])\n",
    "Sigma_root = # todo, find the square root of the Sigma matrix"
   ]
  },
  {
   "cell_type": "code",
   "execution_count": null,
   "metadata": {},
   "outputs": [],
   "source": [
    "# Here, we form the constraints and solve the problem within the function (so it is useful to use in a for-loop\n",
    "# later on)\n",
    "def optimization(epsilon, r_hat, Sigma_root):\n",
    "    \n",
    "    val_opt, soln_opt = None, None\n",
    "    \n",
    "    ############## todo: your beautiful code starts here ###############\n",
    "    \n",
    "    \n",
    "    \n",
    "    ############## todo: your beautiful code ends here ###############\n",
    "    return val_opt, soln_opt #Make sure you return numpy arrays here and not cvxpy variables. (this means use prob.value, x.value, etc. while returning)"
   ]
  },
  {
   "cell_type": "code",
   "execution_count": null,
   "metadata": {},
   "outputs": [],
   "source": [
    "opt_val, opt_soln = optimization(1e-4, r_hat, Sigma_root )\n",
    "print(\"Optimal value:\", opt_val)\n",
    "print(\"Optimal soln:\", opt_soln)"
   ]
  },
  {
   "cell_type": "markdown",
   "metadata": {},
   "source": [
    "# Part D"
   ]
  },
  {
   "cell_type": "code",
   "execution_count": null,
   "metadata": {},
   "outputs": [],
   "source": [
    "# epsilons generated between 1e-6 and 1e-1 in log scale\n",
    "epsilons = np.logspace(-6,-1)"
   ]
  },
  {
   "cell_type": "code",
   "execution_count": null,
   "metadata": {},
   "outputs": [],
   "source": [
    "rhat_vals = [] # optimal return values (i.e. the prob.value outputs)\n",
    "opt_x_vals = [] # optimal portfolio allocations\n",
    "\n",
    "#going over the values of epsilon\n",
    "for eps in epsilons:\n",
    "    # todo: for every epsilon, compute the return value and optimal x, then append to the list"
   ]
  },
  {
   "cell_type": "code",
   "execution_count": null,
   "metadata": {},
   "outputs": [],
   "source": [
    "# Plotting returns\n",
    "plt.figure(figsize=(15,5))\n",
    "plt.plot(epsilons, rhat_vals)\n",
    "plt.xlabel('Epsilon')\n",
    "plt.ylabel('Returns')\n",
    "plt.xscale('log')\n",
    "\n",
    "plt.savefig('partb_rhats_2.png')"
   ]
  },
  {
   "cell_type": "code",
   "execution_count": null,
   "metadata": {
    "scrolled": true
   },
   "outputs": [],
   "source": [
    "# Plotting allocations \n",
    "plt.figure(figsize=(15, 5))\n",
    "y1 = np.array([item[0] for item in opt_x_vals])\n",
    "plt.plot(epsilons, y1, c = 'gray')\n",
    "plt.fill_between(epsilons, 0, y1, facecolor = 'gray', label = 'x1')\n",
    "\n",
    "y2= np.array([item[1] for item in opt_x_vals])\n",
    "plt.plot(epsilons, y1+y2, c= 'lightblue')\n",
    "plt.fill_between(epsilons, y1, y1+y2, facecolor = 'lightblue', label = 'x2')\n",
    "\n",
    "y3= np.array([item[2] for item in opt_x_vals])\n",
    "plt.plot(epsilons, y1 + y2+y3, c= 'orange')\n",
    "plt.fill_between(epsilons, y1+y2, y1+y2+y3, facecolor = 'orange', label = 'x3')\n",
    "\n",
    "\n",
    "\n",
    "y4= np.array([item[3] for item in opt_x_vals])\n",
    "plt.plot(epsilons, y1 + y2+y3+y4, c= 'green')\n",
    "plt.fill_between(epsilons, y1+y2+y3, y1+y2+y3+y4, facecolor = 'green', label = 'x3')\n",
    "\n",
    "plt.legend(loc = 'best')\n",
    "plt.xlabel('Epsilon')\n",
    "plt.ylabel('Allocation')\n",
    "plt.xscale('log')\n",
    "plt.savefig('area_plot_ptfs_2.png')"
   ]
  },
  {
   "cell_type": "markdown",
   "metadata": {},
   "source": [
    "# Part E"
   ]
  },
  {
   "cell_type": "code",
   "execution_count": null,
   "metadata": {},
   "outputs": [],
   "source": [
    "# 3rd part: Just regenerating the optimal x again with 10e-4 as our epsilon\n",
    "optimal_x_part_1 = optimization(1e-4, r_hat, Sigma_root)[1]\n",
    "optimal_x_part_1 = np.array(optimal_x_part_1)"
   ]
  },
  {
   "cell_type": "code",
   "execution_count": null,
   "metadata": {},
   "outputs": [],
   "source": [
    "returns = # todo: generate 10000 random samples of r, and compute the returns.\n",
    "np.random.seed(777)"
   ]
  },
  {
   "cell_type": "code",
   "execution_count": null,
   "metadata": {},
   "outputs": [],
   "source": [
    "# Plot the histogram of random returns \n",
    "plt.hist(returns, 50, ec='black')\n",
    "plt.xlabel('Returns')\n",
    "plt.ylabel('Frequency')\n",
    "plt.savefig('monte_carlo.png')"
   ]
  },
  {
   "cell_type": "code",
   "execution_count": null,
   "metadata": {},
   "outputs": [],
   "source": [
    "mean = # todo: compute the mean of the returns\n",
    "print(\"Mean of the returns:\", mean)"
   ]
  },
  {
   "cell_type": "code",
   "execution_count": null,
   "metadata": {},
   "outputs": [],
   "source": [
    "pct = # todo: compute the percentage of r that incurs a loss\n",
    "print(\"Percentage of loss:\", pct)"
   ]
  }
 ],
 "metadata": {
  "kernelspec": {
   "display_name": "Python 3",
   "language": "python",
   "name": "python3"
  },
  "language_info": {
   "codemirror_mode": {
    "name": "ipython",
    "version": 3
   },
   "file_extension": ".py",
   "mimetype": "text/x-python",
   "name": "python",
   "nbconvert_exporter": "python",
   "pygments_lexer": "ipython3",
   "version": "3.7.3"
  }
 },
 "nbformat": 4,
 "nbformat_minor": 4
}

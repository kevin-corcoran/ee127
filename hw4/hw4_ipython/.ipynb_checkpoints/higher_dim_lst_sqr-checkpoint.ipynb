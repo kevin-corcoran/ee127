{
 "cells": [
  {
   "cell_type": "code",
   "execution_count": 1,
   "metadata": {},
   "outputs": [],
   "source": [
    "import numpy as np\n",
    "import matplotlib.pyplot as plt\n",
    "import cvxpy as cp\n",
    "import time"
   ]
  },
  {
   "cell_type": "markdown",
   "metadata": {},
   "source": [
    "## Part b) QR Decomposition\n",
    "\n",
    "#### It is optional to do this problem on Jupyter Notebook but we recommend it to get more practice with numpy and matrix manipulation. You can NOT simply use any inbuilt QR decomposition functions if you want credit for this question"
   ]
  },
  {
   "cell_type": "code",
   "execution_count": 2,
   "metadata": {},
   "outputs": [],
   "source": [
    "### Optional QR Decomposition work goes here\n"
   ]
  },
  {
   "cell_type": "markdown",
   "metadata": {},
   "source": [
    "# Higher Dimensional Least Square\n",
    "\n",
    "At this point of the question, you have already setup and solved a system by hand. We will now recreate the system in code, and use it to solve a system with more (albeit noisy) data.\n",
    "\n",
    "First, let's recreate the system in part (a).\n",
    "\n",
    "**Construct the A matrix you came up with from part (a) below**"
   ]
  },
  {
   "cell_type": "code",
   "execution_count": 3,
   "metadata": {},
   "outputs": [
    {
     "name": "stdout",
     "output_type": "stream",
     "text": [
      "[[ 1  1  1  1]\n",
      " [ 8  4  2  1]\n",
      " [27  9  3  1]\n",
      " [48 16  4  1]]\n"
     ]
    }
   ],
   "source": [
    "#TODO: Construct the A matrix you found in part (a)\n",
    "x_vals = np.array([1, 2, 3, 4])\n",
    "b = np.array([8, 12, 10, -4])\n",
    "\n",
    "A = np.array([[1, 1, 1, 1],\n",
    "             [8, 4, 2, 1],\n",
    "             [27, 9, 3, 1],\n",
    "             [48, 16, 4, 1]])\n",
    "print(A)"
   ]
  },
  {
   "cell_type": "markdown",
   "metadata": {},
   "source": [
    "Now that we have our original system setup, **solve for the polynomial coeffecients below**"
   ]
  },
  {
   "cell_type": "code",
   "execution_count": 4,
   "metadata": {},
   "outputs": [
    {
     "name": "stdout",
     "output_type": "stream",
     "text": [
      "[ 0.6 -6.6 19.6 -5.6]\n"
     ]
    }
   ],
   "source": [
    "#TODO: Solve for the coeffecients of the polynomial\n",
    "#Hint: Remember, our current system is invertible\n",
    "coef = np.dot(np.linalg.inv(A), b)\n",
    "print(coef)"
   ]
  },
  {
   "cell_type": "code",
   "execution_count": 5,
   "metadata": {},
   "outputs": [],
   "source": [
    "def p(x, coef):\n",
    "    return sum([coef[i]*np.power(x,3-i) for i in range(0,4)])"
   ]
  },
  {
   "cell_type": "markdown",
   "metadata": {},
   "source": [
    "#### Original System Plot"
   ]
  },
  {
   "cell_type": "code",
   "execution_count": 6,
   "metadata": {},
   "outputs": [
    {
     "data": {
      "text/plain": [
       "[<matplotlib.lines.Line2D at 0x7f34e781fcc0>]"
      ]
     },
     "execution_count": 6,
     "metadata": {},
     "output_type": "execute_result"
    },
    {
     "data": {
      "image/png": "[encoded data removed]",
      "text/plain": [
       "<Figure size 432x288 with 1 Axes>"
      ]
     },
     "metadata": {
      "needs_background": "light"
     },
     "output_type": "display_data"
    }
   ],
   "source": [
    "x = np.arange(0, 5, 0.1)\n",
    "plt.figure()\n",
    "plt.plot(x,p(x, coef))"
   ]
  },
  {
   "cell_type": "markdown",
   "metadata": {},
   "source": [
    "## Noisy Data\n",
    "\n",
    "Now that we have the original system setup, we will use the coeffecients you solved for above to generate noisy data.\n",
    "\n",
    "The data generation has been provided below, but **you will need to fill in the `gen_mat` function below.**\n",
    "\n",
    "Hint: this should be very similar to how you generated your `A` matrix above."
   ]
  },
  {
   "cell_type": "code",
   "execution_count": 7,
   "metadata": {},
   "outputs": [],
   "source": [
    "def gen_data(num_points, coef):\n",
    "    np.random.seed(255)\n",
    "    x = np.random.uniform(0, 5, num_points)\n",
    "    y = p(x, coef) + np.random.normal(0, 2, num_points)\n",
    "    return x,y\n",
    "\n",
    "#TODO: Fill in this function\n",
    "def gen_mat(x):\n",
    "    '''\n",
    "    Takes: x, a list of x values that we measured\n",
    "    Returns: The new A matrix for our noisy system\n",
    "    '''\n",
    "#     print(type(x.size))\n",
    "    mat = [[x[i]**3, x[i]**2, x[i], 1] for i in range(x.size)]\n",
    "    A = np.array(mat)\n",
    "    return A"
   ]
  },
  {
   "cell_type": "code",
   "execution_count": 8,
   "metadata": {},
   "outputs": [],
   "source": [
    "num_points = 100\n",
    "x_pts, y_pts = gen_data(num_points, coef) # These are the measurements you've gotten from the sensors\n",
    "A = gen_mat(x_pts) # This creates the matrix for the new system we will solve for\n",
    "assert A.shape == (num_points, 4)"
   ]
  },
  {
   "cell_type": "markdown",
   "metadata": {},
   "source": [
    "Now that we have the system setup, we need to solve for the coeffecients. We will solve for the coeffecients in two different ways - using a numpy function and an explicit solution.\n",
    "\n",
    "The first way will be using the in built `np.linalg.lstsq` function. **Fill in the code block below**"
   ]
  },
  {
   "cell_type": "code",
   "execution_count": 9,
   "metadata": {
    "scrolled": true
   },
   "outputs": [
    {
     "name": "stdout",
     "output_type": "stream",
     "text": [
      "Time taken: 0.00289 ms\n",
      "[ 0.59687635 -6.5145924  19.24898365 -5.18965517]\n"
     ]
    },
    {
     "name": "stderr",
     "output_type": "stream",
     "text": [
      "/home/computer/.local/lib/python3.6/site-packages/ipykernel_launcher.py:4: FutureWarning: `rcond` parameter will change to the default of machine precision times ``max(M, N)`` where M and N are the input matrix dimensions.\n",
      "To use the future default and silence this warning we advise to pass `rcond=None`, to keep using the old, explicitly pass `rcond=-1`.\n",
      "  after removing the cwd from sys.path.\n"
     ]
    }
   ],
   "source": [
    "#TODO: Use the numpy function to solve for our coefficients\n",
    "t0 = time.time()\n",
    "# coef_lst_sq = np.dot(np.dot(A, np.linalg.inv(np.dot(np.transpose(A), A))),np.transpose(A))\n",
    "coef_lst_sq = np.linalg.lstsq(A, y_pts)[0]\n",
    "print(\"Time taken: {0:.5f} ms\".format(time.time()-t0))\n",
    "print(coef_lst_sq)"
   ]
  },
  {
   "cell_type": "markdown",
   "metadata": {},
   "source": [
    "The plot below shows the data points we collected, the original polynomial in red, and our estimate of the polynomial using the noisy data in black."
   ]
  },
  {
   "cell_type": "code",
   "execution_count": 10,
   "metadata": {},
   "outputs": [
    {
     "data": {
      "text/plain": [
       "[<matplotlib.lines.Line2D at 0x7f34e7793668>]"
      ]
     },
     "execution_count": 10,
     "metadata": {},
     "output_type": "execute_result"
    },
    {
     "data": {
      "image/png": "[encoded data removed]",
      "text/plain": [
       "<Figure size 432x288 with 1 Axes>"
      ]
     },
     "metadata": {
      "needs_background": "light"
     },
     "output_type": "display_data"
    }
   ],
   "source": [
    "plt.figure()\n",
    "plt.scatter(x_pts,y_pts)\n",
    "ax = np.arange(0, 5, 0.1)\n",
    "plt.plot(ax, p(ax, coef), color='r')\n",
    "plt.plot(ax, p(ax, coef_lst_sq), color='black')"
   ]
  },
  {
   "cell_type": "markdown",
   "metadata": {},
   "source": [
    "**Q: How do the coeffecients of this system differ from the original? If the there is no way to remove the noise in our system, how could we increase the accuracy of our system?**\n",
    "\n",
    "The solution is close to the original. We could try to limit noise, take more measurements, and account for outliers.\n",
    "\n",
    "<font color=blue> A:\n",
    "</font>"
   ]
  },
  {
   "cell_type": "markdown",
   "metadata": {},
   "source": [
    "Now we will solve the same system, but using the explicit closed form solution for least squares. **Fill in the code block below**"
   ]
  },
  {
   "cell_type": "code",
   "execution_count": 11,
   "metadata": {
    "scrolled": true
   },
   "outputs": [
    {
     "name": "stdout",
     "output_type": "stream",
     "text": [
      "Time taken: 0.00069 ms\n",
      "[ 0.59687635 -6.5145924  19.24898365 -5.18965517]\n"
     ]
    }
   ],
   "source": [
    "#TODO: Use the closed form solution to solve for our coeffecients\n",
    "t0 = time.time()\n",
    "coef_out = np.dot(np.dot(np.linalg.inv(np.dot(np.transpose(A), A)),np.transpose(A)),y_pts)\n",
    "print(\"Time taken: {0:.5f} ms\".format(time.time()-t0))\n",
    "print(coef_out)"
   ]
  },
  {
   "cell_type": "markdown",
   "metadata": {},
   "source": [
    "**Q: Compare the two different ways of solving. How do the coeffecients differ? How about the time to solve each system? And what do you think the reason for these similarities/differences is?**\n",
    "\n",
    "The explicit solution took longer but appears to have yielded the same result. I think the diffence is in optimizing the matrix inversion of $A^TA$.\n",
    "\n",
    "<font color=blue>A: \n",
    "</font>"
   ]
  },
  {
   "cell_type": "code",
   "execution_count": 12,
   "metadata": {},
   "outputs": [
    {
     "data": {
      "text/plain": [
       "[<matplotlib.lines.Line2D at 0x7f34e70b1c88>]"
      ]
     },
     "execution_count": 12,
     "metadata": {},
     "output_type": "execute_result"
    },
    {
     "data": {
      "image/png": "[encoded data removed]",
      "text/plain": [
       "<Figure size 432x288 with 1 Axes>"
      ]
     },
     "metadata": {
      "needs_background": "light"
     },
     "output_type": "display_data"
    }
   ],
   "source": [
    "plt.figure()\n",
    "plt.scatter(x_pts,y_pts)\n",
    "ax = np.arange(0, 5, 0.01)\n",
    "plt.plot(ax, p(ax, coef), color='r')\n",
    "plt.plot(ax, p(ax, coef_out), color='black')"
   ]
  }
 ],
 "metadata": {
  "kernelspec": {
   "display_name": "Python 3",
   "language": "python",
   "name": "python3"
  },
  "language_info": {
   "codemirror_mode": {
    "name": "ipython",
    "version": 3
   },
   "file_extension": ".py",
   "mimetype": "text/x-python",
   "name": "python",
   "nbconvert_exporter": "python",
   "pygments_lexer": "ipython3",
   "version": "3.6.8"
  }
 },
 "nbformat": 4,
 "nbformat_minor": 4
}

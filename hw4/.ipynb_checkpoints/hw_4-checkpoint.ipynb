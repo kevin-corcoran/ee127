{
 "cells": [
  {
   "cell_type": "markdown",
   "metadata": {},
   "source": [
    "# **1. 3D reconstruction and pose estimation from two images**"
   ]
  },
  {
   "cell_type": "markdown",
   "metadata": {},
   "source": [
    "#### **(a) Projection onto the Essential Space**  "
   ]
  },
  {
   "cell_type": "markdown",
   "metadata": {},
   "source": [
    "\\begin{align*}\n",
    "\\| E - F \\|^2_f & = \\| U\\Sigma_{\\sigma}V^\\top - U\\Sigma V^\\top \\|^2_f \\\\\n",
    "    & = \\| \\Sigma_{\\sigma} - \\Sigma \\|^2_f && \\text{since orthogonal matrices preserve norms}\n",
    "\\end{align*}\n",
    "\n",
    "Since the essential matrix is of the form $E^* = \\begin{bmatrix} \\sigma & 0 & 0\\\\ 0 & \\sigma & 0\\\\ 0 & 0 & 0 \\end{bmatrix}$,  \n",
    "then minimizing the above norm is equivalent to picking $\\sigma$ equal to the largest singular value of $F$"
   ]
  },
  {
   "cell_type": "markdown",
   "metadata": {},
   "source": [
    "#### **(b) Recovering the translation vector** Recall that $E = [t]_{\\times}R$. Show that the translation vector $t$ is in the left null space o    f $E$."
   ]
  },
  {
   "cell_type": "markdown",
   "metadata": {},
   "source": [
    "\\begin{equation}\n",
    "\\begin{bmatrix}\n",
    "t_0 & t_1 & t_2\n",
    "\\end{bmatrix}\n",
    "    \\begin{bmatrix}\n",
    "        0 & -t_{2} & t_{1} \\\\\n",
    "        t_{2} & 0 & -t_{0} \\\\\n",
    "        -t_{1} & t_{0} & 0\n",
    "    \\end{bmatrix}\n",
    "    \\times\n",
    "    R \\\\\n",
    "    = 0 \\times R \\\\\n",
    "    = 0\n",
    "\\end{equation}"
   ]
  },
  {
   "cell_type": "markdown",
   "metadata": {},
   "source": [
    "#### **(c)-(f)**"
   ]
  },
  {
   "cell_type": "markdown",
   "metadata": {},
   "source": [
    "Coded"
   ]
  },
  {
   "cell_type": "markdown",
   "metadata": {},
   "source": [
    "#### **(g)**"
   ]
  },
  {
   "cell_type": "markdown",
   "metadata": {},
   "source": [
    "Screenshot\n",
    "\n",
    "<img src=\"chair.png\" width = \"500\" align = \"left\"> "
   ]
  },
  {
   "cell_type": "markdown",
   "metadata": {},
   "source": [
    "# **2. Higher dimension least-square**"
   ]
  },
  {
   "cell_type": "markdown",
   "metadata": {},
   "source": [
    "#### **(a) Using the points given, setup a system of linear equations in the form $\\mathbf    {A}\\vec{x} = b$ that you can use to solve for the polynomial.**\n",
    "#### **Hint: Any cubic function can be described as $ax^3 + bx^2 + cx + d$ for some $a, b, c, d$.**\n",
    "\n",
    " \\begin{array}{c | c}\n",
    " x & y \\\\\n",
    " \\hline\n",
    " 1 & 8 \\\\\n",
    " 2 & 12 \\\\\n",
    " 3 & 10  \\\\\n",
    " 4 & -4  \\\\\n",
    "\\end{array}\n",
    " "
   ]
  },
  {
   "cell_type": "markdown",
   "metadata": {},
   "source": [
    "**Begin (a)**  \n",
    "\\begin{equation}\n",
    "\\begin{pmatrix}\n",
    "    1 & 1 & 1 & 1 \\\\\n",
    "    8 & 4 & 2 & 1 \\\\\n",
    "    27 & 9 & 3 & 1 \\\\\n",
    "    48 & 16 & 4 & 1 \n",
    "\\end{pmatrix}\n",
    "\\begin{pmatrix}\n",
    "    a \\\\ b \\\\ c \\\\ d\n",
    "\\end{pmatrix} = \n",
    "\\begin{pmatrix}\n",
    "    8 \\\\ 12 \\\\ 10 \\\\ -4\n",
    "\\end{pmatrix}\n",
    "\\end{equation}"
   ]
  },
  {
   "cell_type": "markdown",
   "metadata": {},
   "source": [
    "#### **(b) Decompose the A matrix you constructed in the previous part using QR decomposition.**"
   ]
  },
  {
   "cell_type": "markdown",
   "metadata": {},
   "source": [
    "**QR factorization using cholesky**\n",
    "\n",
    "Begin assuming $QR$\n",
    "\\begin{equation}\n",
    "A = QR\n",
    "\\end{equation}  \n",
    "\n",
    "since $Q^\\top Q = I$\n",
    "\\begin{equation}\n",
    "A^\\top A = R^TR\n",
    "\\end{equation}  \n",
    "\n",
    "Since $R$ is upper triangular $R^\\top$ is lower triangular.\n",
    "Preforming the previous matrix multiplications we get the following equations to solve (some of them). Letting $a_{ij}$ be the components of $A^\\top A$\n",
    "\\begin{equation}\n",
    "r_{11}^2 = a_{11} \\\\\n",
    "r_{21}r_{11} = a_{21} \\\\\n",
    "\\dots\n",
    "\\end{equation}  \n",
    "\n",
    "Then once we've solved for the components of $R$. And $R$ being upper diagonal has an inverse.\n",
    "\\begin{equation}\n",
    "Q = R^{-1}A\n",
    "\\end{equation}"
   ]
  },
  {
   "cell_type": "code",
   "execution_count": 8,
   "metadata": {},
   "outputs": [
    {
     "data": {
      "text/plain": [
       "4×4 UpperTriangular{Float64,Array{Float64,2}}:\n",
       " 55.6597  18.7568   5.21023   1.50917 \n",
       "   ⋅       1.47674  1.53882   1.14624 \n",
       "   ⋅        ⋅       0.696774  0.535327\n",
       "   ⋅        ⋅        ⋅        0.349215"
      ]
     },
     "metadata": {},
     "output_type": "display_data"
    },
    {
     "data": {
      "text/plain": [
       "4×4 Array{Float64,2}:\n",
       " 0.0179663   0.448968    0.3093     0.838116\n",
       " 0.143731    0.883071   -0.15465   -0.419058\n",
       " 0.485091   -0.0668861   0.825932  -0.279372\n",
       " 0.862384   -0.118909   -0.445256   0.209529"
      ]
     },
     "metadata": {},
     "output_type": "display_data"
    },
    {
     "data": {
      "text/plain": [
       "4×4 Array{Float64,2}:\n",
       "  1.0   1.0  1.0  1.0\n",
       "  8.0   4.0  2.0  1.0\n",
       " 27.0   9.0  3.0  1.0\n",
       " 48.0  16.0  4.0  1.0"
      ]
     },
     "execution_count": 8,
     "metadata": {},
     "output_type": "execute_result"
    }
   ],
   "source": [
    "# Using Julia (why would anyone use python?)\n",
    "using LinearAlgebra\n",
    "A = [1 1 1 1;\n",
    "     8 4 2 1;\n",
    "     27 9 3 1;\n",
    "     48 16 4 1]\n",
    "\n",
    "R = cholesky(A'*A).U\n",
    "Q = A*inv(R)\n",
    "display(R)\n",
    "display(Q)\n",
    "Q*R"
   ]
  },
  {
   "cell_type": "markdown",
   "metadata": {},
   "source": [
    "#### **(c) How would you update your setup in part (a)? How can we solve this system?**"
   ]
  },
  {
   "cell_type": "markdown",
   "metadata": {},
   "source": [
    "I would use least squares"
   ]
  },
  {
   "cell_type": "markdown",
   "metadata": {},
   "source": [
    "# **3. Dynamical system as linear equation**"
   ]
  },
  {
   "cell_type": "markdown",
   "metadata": {},
   "source": [
    "#### **(a) Assuming that $A$ is diagonalizable show that $\\exists P,\\ \\lambda_1 \\geq \\dots \\geq \\lambda_m$    , such that**  \n",
    "\\begin{equation}\n",
    "x_{k+1} = P \\begin{bmatrix}\n",
    "      1 + \\lambda_1 \\Delta t    &0       &\\dots  &0\\\\\n",
    "      0      &1 + \\lambda_2 \\Delta t     &       &\\vdots\\\\\n",
    "      \\vdots &        &\\ddots &0\\\\ \n",
    "      0      &\\dots   &0      & 1 + \\lambda_m \\Delta t\n",
    "  \\end{bmatrix} P^{-1}  x_k\n",
    "\\end{equation}\n"
   ]
  },
  {
   "cell_type": "markdown",
   "metadata": {},
   "source": [
    "\\begin{equation}\n",
    "x_{k+1} = (A\\Delta t + I)x_k \\\\\n",
    " = (PDP^{-1} \\Delta t + I) x_k \\\\\n",
    " = (P\\Delta t D P^{-1} + PP^{-1})x_k \\\\\n",
    " = P(\\Delta t D + I) P^{-1}x_k\n",
    "\\end{equation}  \n",
    "\n",
    "Showing result"
   ]
  },
  {
   "cell_type": "markdown",
   "metadata": {},
   "source": [
    "#### **(b) Show that** \n",
    "\\begin{equation}\n",
    "x(t) = P\\begin{bmatrix}\n",
    "    1 + \\lambda_1 \\frac{t}{n}    &0       &\\dots  &0\\\\\n",
    "    0      &1 + \\lambda_2 \\frac{t}{n}     &       &\\vdots\\\\\n",
    "    \\vdots &        &\\ddots &0\\\\ \n",
    "    0      &\\dots   &0      & 1 + \\lambda_m \\frac{t}{n}\n",
    "\\end{bmatrix}^n P^{-1} x_0\n",
    "\\end{equation}"
   ]
  },
  {
   "cell_type": "markdown",
   "metadata": {},
   "source": [
    "Follows from the definition of $\\Delta t$, which is equal to $\\frac{t}{n}$, and recursion  \n",
    "\\begin{equation}\n",
    "\\text{let $D' = \\frac{t}{n} t D + I$} \\\\\n",
    "\\implies x_{k} = PD'P^{-1}x_{k-1} \\\\\n",
    "    = PD'P^{-1} PD'P^{-1}x_{k-2} = PD'^2P^{-1}x_{k-2} \\\\\n",
    "    = \\dots \\\\\n",
    "    = PD'^kP^{-1}x_0 \\\\\n",
    "\\implies \\boxed{x(t) = PD'^nP^{-1}x_0} \\\\\n",
    "\\text{final solution after $n$ steps are taken}\n",
    "\\end{equation}"
   ]
  },
  {
   "cell_type": "markdown",
   "metadata": {},
   "source": [
    "#### **(c) Show that, for $n\\in \\mathbb{N}$ big enough, $\\forall a\\in \\mathbb{R}$, $(1+\\frac{a}{n})^n = e^    {n \\ln (1+\\frac{a}{n})}$. State the values of $n$ for which the equality is true.**  \n",
    "\n",
    "#### *Hint:* Recall that $\\ln(x)$ is not defined for some value of $x$"
   ]
  },
  {
   "cell_type": "markdown",
   "metadata": {},
   "source": [
    "\\begin{align}\n",
    "(1+\\frac{a}{n})^n &= e^ {\\ln (1+\\frac{a}{n})^n} && \\text{where $e^{ln(x)} = x$ by definition of $ln$} \\\\\n",
    "&= e^    {n \\ln (1+\\frac{a}{n})} && \\text{by properties of $ln$}\n",
    "\\end{align}\n",
    "\n",
    "case 1: $a < 0$  \n",
    "\\begin{equation}\n",
    "\\implies |\\frac{a}{n}| < 1 \\\\\n",
    "|n| > |a|\n",
    "\\end{equation}\n",
    "\n",
    "case 2: $a \\geq 0$  \n",
    "\\begin{equation}\n",
    "\\text{valid for all $n$}\n",
    "\\end{equation}"
   ]
  },
  {
   "cell_type": "markdown",
   "metadata": {},
   "source": [
    "#### **(d) Using the fact that $\\ln (1+\\frac{a}{n}) \\sim \\frac{a}{n}$ when $n\\rightarrow\\infty$, show that     $\\lim\\limits_{n\\rightarrow\\infty}(1+\\frac{a}{n})^n = e^a$.**  "
   ]
  },
  {
   "cell_type": "markdown",
   "metadata": {},
   "source": [
    "\\begin{equation}\n",
    "\\lim\\limits_{n\\rightarrow\\infty}(1+\\frac{a}{n})^n = \\lim\\limits_{n\\rightarrow\\infty}e^{n \\ln (1+\\frac{a}{n})} \\\\\n",
    "    =  e^{n\\frac{a}{n}} \\\\\n",
    "    = e^a\n",
    "\\end{equation}"
   ]
  },
  {
   "cell_type": "markdown",
   "metadata": {},
   "source": [
    "#### **(e) Show that**  \n",
    "\\begin{equation}\n",
    "\\lim\\limits_{n\\rightarrow\\infty} x(t) = P \\begin{bmatrix}\n",
    "     e^{\\lambda_1 t}    &0       &\\dots  &0\\\\\n",
    "     0      & e^{\\lambda_2 t}     &       &\\vdots\\\\\n",
    "     \\vdots &        &\\ddots &0\\\\ \n",
    "     0      &\\dots   &0      & e^{\\lambda_m t}\n",
    " \\end{bmatrix} P^{-1}  x_0\n",
    "\\end{equation}"
   ]
  },
  {
   "cell_type": "markdown",
   "metadata": {},
   "source": [
    "From part (b) the diagonal entries of $A$ are of the form $ (1 + \\lambda \\frac{t}{n} )^n $  \n",
    "Then from part (d), letting $a = \\lambda t$, as $n\\rightarrow\\infty$,  \n",
    "the diagonal entries take on the form $e^{\\lambda t}$  \n",
    "\n",
    "proving the result"
   ]
  },
  {
   "cell_type": "markdown",
   "metadata": {},
   "source": [
    "#### **(f) Show that an equilibrium point exists if and only if $\\forall x\\in N(A^\\top),\\ x^\\top Bu = 0$.**\n",
    "\n",
    "#### *Hint:* You might show first that if $Ax_{eq}=-Bu$ then $\\forall x \\in N(A^\\top), x^\\top Bu=0$    . Then, you might use the fundamental theorem of linear algebra."
   ]
  },
  {
   "cell_type": "markdown",
   "metadata": {},
   "source": [
    "First note that $\\forall x\\in N(A^\\top) \\implies A^Tx = 0 \\implies x^TA = 0$  \n",
    "\n",
    "\\begin{equation}\n",
    "0 = Ax_{eq} + Bu \\\\\n",
    "\\iff Ax_{eq} = -Bu \\\\\n",
    "\\iff x^TAx_{eq} = -x^TBu \\\\\n",
    "\\iff -x^TBu = 0 \\text{           } \\forall x \\in N(A^\\top)\n",
    "\\end{equation}"
   ]
  },
  {
   "cell_type": "markdown",
   "metadata": {},
   "source": [
    "#### **(g) Let $u$ and $x_{eq}$ such that $0 = Ax_{eq} + Bu$. Let $x(0) = x_0$ and $\\lambda_1<0$. Show tha    t $\\lim\\limits_{t\\rightarrow\\infty}x(t) = x_{eq}$.**"
   ]
  },
  {
   "cell_type": "markdown",
   "metadata": {},
   "source": [
    "\\begin{align*}\n",
    "x_{k+1} &= x_{k} + \\Delta t A x_{k} + \\Delta tBu \\\\\n",
    " &= P(I+\\frac{t}{n}D)P^{-1}x_k + \\frac{t}{n}Bu \\\\\n",
    " &= PD'P^{-1}x_k + \\frac{t}{n}Bu  \\\\\n",
    "& \\text{at some point we reach equilibrium} \\\\\n",
    "x_{eq} &= x_{k+1} = PD'P^{-1}x_k + \\frac{t}{n}Bu \\\\\n",
    "x_{k+2} &= PD'P^{-1}x_{eq} + \\frac{t}{n}Bu = 0 \\\\\n",
    "    &= x_{k+3} = \\dots = x_n \\\\\n",
    "    & \\text{as $n\\rightarrow\\infty$} \\\\\n",
    "    &= x(t) = PIP^{-1}x_{eq} \\\\\n",
    "    &= x_{eq} \\\\\n",
    "    & \\text{as $t\\rightarrow\\infty$} \\\\\n",
    "    &= x_{eq}\n",
    "\\end{align*}  \n",
    "Where the diaganol entries of $D'$ being equal to $1+\\frac{t}{n}\\lambda \\implies$ as $n\\rightarrow\\infty$ diagonal entries become 1"
   ]
  },
  {
   "cell_type": "markdown",
   "metadata": {},
   "source": [
    "#### **(h) Let consider $A=(-1)$, $x_0 = 10$ and $u=0$, what is $x(t)$ (using e.)?**"
   ]
  },
  {
   "cell_type": "markdown",
   "metadata": {},
   "source": [
    "Since $A$ is already diagonal  \n",
    "\\begin{equation}\n",
    "\\lim\\limits_{t\\rightarrow\\infty} x(t) = \\lim\\limits_{t\\rightarrow\\infty}\\lim\\limits_{n\\rightarrow\\infty}(1 - 1\\frac{t}{n})^nx_0 \\\\\n",
    " = \\lim\\limits_{t\\rightarrow\\infty}(e^{-t})x_0 \\\\\n",
    " = 0\n",
    "\\end{equation}"
   ]
  },
  {
   "cell_type": "markdown",
   "metadata": {},
   "source": [
    "#### **(i) Let consider the following system: $\\ddot{y} = -\\omega^2 y $. Let $X = \\begin{bmatrix} y \\\\ \\dot{y} \\end{bmatrix}$. We have that  $\\dot{X} = \\begin{bmatrix} \\dot{y} \\\\ \\ddot{y} \\end{bmatrix}$.**  Give $A$ a $2\\times 2$ matrix such that $\\dot{X} = A X$. Also, write the matrix in the notebook ``Dynamical system.ipynb''."
   ]
  },
  {
   "cell_type": "markdown",
   "metadata": {},
   "source": [
    "**Answer:**  \\begin{equation}\n",
    "A = \n",
    "\\begin{pmatrix}\n",
    "0 & 1 \\\\ -\\omega ^2 & 0\n",
    "\\end{pmatrix}\n",
    "\\end{equation}"
   ]
  },
  {
   "cell_type": "markdown",
   "metadata": {},
   "source": [
    "#### **(j) Assume that $\\lambda$ is an eigenvalue of $A$, show that it implies that $\\lambda^2=-\\omega^2$.**"
   ]
  },
  {
   "cell_type": "markdown",
   "metadata": {},
   "source": [
    "Subtract $\\lambda$ from the diagonal\n",
    "\\begin{equation}\n",
    "\\begin{pmatrix}\n",
    "-\\lambda & 1 \\\\ -\\omega ^2 & -\\lambda\n",
    "\\end{pmatrix}\n",
    "\\end{equation}\n",
    "\n",
    "Then take the determinant\n",
    "\\begin{equation}\n",
    "\\lambda^2 + \\omega^2 = 0 \\\\\n",
    "\\implies \\lambda^2 = -\\omega^2\n",
    "\\end{equation}"
   ]
  },
  {
   "cell_type": "markdown",
   "metadata": {},
   "source": [
    "#### **(k)** "
   ]
  }
 ],
 "metadata": {
  "kernelspec": {
   "display_name": "Julia 1.2.0",
   "language": "julia",
   "name": "julia-1.2"
  },
  "language_info": {
   "file_extension": ".jl",
   "mimetype": "application/julia",
   "name": "julia",
   "version": "1.2.0"
  }
 },
 "nbformat": 4,
 "nbformat_minor": 4
}

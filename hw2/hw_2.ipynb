{
 "cells": [
  {
   "cell_type": "markdown",
   "metadata": {},
   "source": [
    "**1. Vectors and Orthogonality**  \n",
    "Let $\\{ v_1,...,v_n\\}$ be an orthonormal basis in $\\mathbb{R}^n$. Prove for     all $x \\in \\mathbb{R}^n$ that\n",
    "\\begin{align*}\n",
    "     \\sum_{i=1}^n | \\langle x, v_i \\rangle |^2 = \\langle x,x \\rangle.\n",
    "\\end{align*}"
   ]
  },
  {
   "cell_type": "markdown",
   "metadata": {},
   "source": [
    "**Problem 1**  \n",
    "let $x = a_1v_1 + \\dots + a_nv_n$  \n",
    "\\begin{align*}\n",
    "     \\sum_{i=1}^n | \\langle x, v_i \\rangle |^2 \n",
    "         & = \\sum | \\langle a_1v_1 + \\dots + a_nv_n, v_i \\rangle | ^2 \\\\\n",
    "         & = | a_1 \\langle v_1, v_1 \\rangle |^2 + \\dots + | a_n \\langle v_n, v_n \\rangle |^2 \\\\\n",
    "         & = a_1^2 + \\dots + a_n^2 && \\text{ since $v$'s are orthonormal }\\\\\n",
    "         & = \\langle a_1v_1 + \\dots + a_nv_n, a_1v_1 + \\dots + a_nv_n \\rangle \\\\\n",
    "         & = \\langle x, x \\rangle\n",
    "\\end{align*}"
   ]
  },
  {
   "cell_type": "markdown",
   "metadata": {},
   "source": [
    "**3. Representation of a graph as a matrix: the adjacency matrix**  \n",
    " In this exercise, we are interpreting a graph as a matrix.\n",
    " Then, we show that finding a path between two nodes can be done with a matri    x multiplication.\n",
    "is can be useful to quickly compute several shortest paths, or to re-compu    te shortest paths when the weights on the links of the graph only change sli    ghtly.\n",
    "\n",
    " We are given a graph as a set of vertices $V = \\{1,...,n\\}$, with edges $E \\subseteq V \\times V$. We assume that the graph is undirected (without arrows    ), meaning that $(i,j)\\in E$ implies $(j,i)\\in E$.\n",
    " \n",
    " We define the adjacency matrix of the graph $A$ by:\n",
    " $ A_{ij} = \\left\\{ \n",
    " \\begin{array}{ll}\n",
    " 1 & \\mbox{if } (i,j) \\in E, \\\\\n",
    " 0 & \\mbox{otherwise.}\n",
    " \\end{array}\n",
    " \\right. $\n"
   ]
  },
  {
   "cell_type": "markdown",
   "metadata": {},
   "source": [
    "<img src=\"hw2_tex/figures/UndirectedGraph.png\" width = \"400\" align = \"left\">  \n",
    "<!-- ![fig1](hw2_tex/figures/UndirectedGraph.png \"figure 1\"){: width=150 height=100 style=\"float:right; padding:16px\"} -->"
   ]
  },
  {
   "cell_type": "markdown",
   "metadata": {},
   "source": [
    "**(a) form the adjacency matrix for graph shown**\n",
    "\n",
    "$A = \\begin{pmatrix}\n",
    "0 & 1 & 0 & 0 & 1 & 0 \\\\\n",
    "1 & 0 & 1 & 0 & 1 & 0 \\\\\n",
    "0 & 1 & 0 & 1 & 0 & 0 \\\\\n",
    "0 & 0 & 1 & 0 & 1 & 1 \\\\\n",
    "1 & 1 & 0 & 1 & 0 & 0 \\\\\n",
    "0 & 0 & 0 & 1 & 0 & 0\n",
    "\\end{pmatrix}$"
   ]
  },
  {
   "cell_type": "markdown",
   "metadata": {},
   "source": [
    "**(b) show a generic adjacency matrix is symmetric**\n",
    "\n",
    "It follows from the definition\n",
    "\n",
    "$\n",
    " A_{ij} = \\left\\{ \n",
    " \\begin{array}{ll}\n",
    " 1 & \\mbox{if } (i,j) \\in E, \\\\\n",
    " 0 & \\mbox{otherwise.}\n",
    " \\end{array}\n",
    " \\right.\n",
    " = \n",
    " \\left\\{ \n",
    " \\begin{array}{ll}\n",
    " 1 & \\mbox{if } (j,i) \\in E, \\\\\n",
    " 0 & \\mbox{otherwise.}\n",
    " \\end{array}\n",
    " \\right.\n",
    " = A_{ji}  \\\\\n",
    " \\therefore A = A^T \\\\\n",
    " $"
   ]
  },
  {
   "cell_type": "markdown",
   "metadata": {},
   "source": [
    "**(c) Show that if $n=1$ -- meaning that there is a path of length $1$ between $i$ and $j$ -- then $e_i^\\top A^n e_j \\neq 0$. State what is the value of $e_i^\\top A^n e_j$.**"
   ]
  },
  {
   "cell_type": "markdown",
   "metadata": {},
   "source": [
    "$e_i^\\top A^n e_j = \\boxed{A^n_{ij}}$ (i.e. this product pulls out the $i^{th}$ row and $j^{th}$ column from $A^n$  \n",
    "and if $n = 1$ and there is a path of length $1$ between $i$ and $j$ then $e_i^\\top A e_j = A_{ij} = 1$ by definition  \n",
    "\n",
    "in general $e_i^\\top A^n e_j$ is the number of paths of length $n$ between nodes $i$ and $j$. Where a path is defined as such that edges can be repeated"
   ]
  },
  {
   "cell_type": "markdown",
   "metadata": {},
   "source": [
    "Now let's assume that the property is true for $n-1$, with $n>1$. Let show that it is true for $n$."
   ]
  },
  {
   "cell_type": "markdown",
   "metadata": {},
   "source": [
    "**(d) Show that $e_i^\\top A^n e_j = \\sum\\limits_k (e_i^\\top A e_k) (e_k^\\top A^{n-1} e_j)$.\n",
    "This equation means that any path of length $n$ between $i$ and $j$ is the combination of a link between $i$ and a vertices $k$ and a path of length $n-1$ from $k$ to $j$.**"
   ]
  },
  {
   "cell_type": "markdown",
   "metadata": {},
   "source": [
    "<!-- e_i^\\top A^n e_j = \\sum\\limits_k (e_i^\\top A e_k) (e_k^\\top A^{n-1} e_j) \\\\ -->\n",
    "define $E_{kk} = \\left\\{ \n",
    " \\begin{array}{ll}\n",
    " 1 & \\mbox{if } (i,j) = (k, k), \\\\\n",
    " 0 & \\mbox{otherwise.}\n",
    " \\end{array}\n",
    " \\right. $  \n",
    " \n",
    "$\n",
    "\\begin{align*}\n",
    "(e_i^\\top A e_k) (e_k^\\top A^{n-1} e_j) \\\\\n",
    "    & = e_i^\\top A E_{kk} A^{n-1} e_j \\\\\n",
    "    & = e_i^\\top A \\begin{pmatrix} 0 & \\dots & 0 \\\\\n",
    "                                    \\vdots & \\ddots  & \\vdots  \\\\\n",
    "                                    a^{n-1}_{k1} & \\dots & a^{n-1}_{kn} \\\\\n",
    "                                    \\vdots & & \\vdots \\\\\n",
    "                                    0 & \\dots & 0\\end{pmatrix} e_j \\\\\n",
    "    & = e_i^\\top A \\begin{pmatrix} 0 \\\\ \\vdots \\\\ a^{n-1}_{kj} \\\\ \\vdots \\\\ 0 \\end{pmatrix} \\\\\n",
    "    & = \\begin{pmatrix} a_{i1} \\dots a_{in} \\end{pmatrix} \\begin{pmatrix} 0 \\\\ \\vdots \\\\ a^{n-1}_{kj} \\\\ \\vdots \\\\ 0 \\end{pmatrix} \\\\\n",
    "    & = a_{ik}a^{n-1}_{kj} \\\\\n",
    "    \\implies \\sum_{k=1}^{n} (e_i^\\top A e_k) (e_k^\\top A^{n-1} e_j)\n",
    "    & = \\sum_{k=1}^{n} a_{ik}a^{n-1}_{kj} \\\\\n",
    "    & = \\left[ AA^{n-1} \\right]_{ij} && \\text{by definition of matrix matrix products} \\\\\n",
    "    & = e_i^\\top A^n e_j && \\text{QED}\n",
    "\\end{align*}\n",
    "$"
   ]
  },
  {
   "cell_type": "markdown",
   "metadata": {},
   "source": [
    "**(e) Show that $\\forall k, (e_i^\\top A e_k) (e_k^\\top A^{n-1} e_j)\\geq 0$.**"
   ]
  },
  {
   "cell_type": "markdown",
   "metadata": {},
   "source": [
    "$\n",
    "\\begin{align*}\n",
    "(e_i^\\top A e_k) (e_k^\\top A^{n-1} e_j) \\\\\n",
    "    & = (e_i^\\top A e_{k_1}) \\sum\\limits_{k_2}(e_{k_1}^\\top A e_{k_2}) (e_{k_2}^\\top A^{n-2} e_{j}) && \\text{replacing dummy $k$ with $k_1$} \\\\\n",
    "    & = (e_i^\\top A e_{k_1}) \\sum\\limits_{k_2}(e_{k_1}^\\top A e_{k_2}) \\sum\\limits_{k_3} \\dots \\dots\n",
    "                        \\sum\\limits_{k_n}(e_{k_{n-1}}^\\top A e_{k_n}) (e_{k_n}^\\top A e_j) && \\text{continuing in this way}\n",
    "\\end{align*}\n",
    "$\n",
    "\n",
    "Now we can see that we simply pulling from and multiplying elements of a matrix $A$ defined as having only $0$'s or $1$'s as entries.  \n",
    "This shows that $(e_i^\\top A e_k) (e_k^\\top A^{n-1} e_j) \\geq 0$ "
   ]
  },
  {
   "cell_type": "markdown",
   "metadata": {},
   "source": [
    "Let's denote $l$ the first node achieved in the path $p$ from $i$."
   ]
  },
  {
   "cell_type": "markdown",
   "metadata": {},
   "source": [
    "**(f) Explain why $e_l^\\top A^{n-1} e_j \\neq 0$.**"
   ]
  },
  {
   "cell_type": "markdown",
   "metadata": {},
   "source": [
    "This is true by assumption (in our induction proof). This is our induction hypothesis."
   ]
  },
  {
   "cell_type": "markdown",
   "metadata": {},
   "source": [
    "**(g) State the value of $e_i^\\top A e_l$**"
   ]
  },
  {
   "cell_type": "markdown",
   "metadata": {},
   "source": [
    "This value is $1$ by the statement \"Let's denote $l$ \\[by\\] the first node achieved in the path $p$ from $i$\""
   ]
  },
  {
   "cell_type": "markdown",
   "metadata": {},
   "source": [
    "**(h) Conclude that $e_i^\\top A^n e_j \\neq 0$.**"
   ]
  },
  {
   "cell_type": "markdown",
   "metadata": {},
   "source": [
    "$\n",
    "(e_i^\\top A e_l) (e_l^\\top A^{n-1} e_j)\n",
    " = 1 * (e_l^\\top A^{n-1} e_j) \\neq 0\n",
    " $"
   ]
  },
  {
   "cell_type": "markdown",
   "metadata": {},
   "source": [
    "**(i) Have you shown that there is a path between $i$ and $j$ if and only if $e_i^\\top A^n e_j\\neq 0$ ?**"
   ]
  },
  {
   "cell_type": "markdown",
   "metadata": {},
   "source": [
    "As long as there's a one step path from $i$ to $l$"
   ]
  },
  {
   "cell_type": "markdown",
   "metadata": {},
   "source": [
    "**4. Gram Schmidt**  \n",
    "Any set of $n$ linearly independent vectors in $\\mathbb R^n$ could be used a    s a basis for $\\mathbb R^n$. However, certain bases could be more suitable f    or certain operations than others. For example, an orthonormal basis could f    acilitate solving linear equations."
   ]
  },
  {
   "cell_type": "markdown",
   "metadata": {},
   "source": [
    "**(a)** Given a matrix $A \\in \\mathbb R^{n \\times n}$, it could be represented     as a multiplication of two matrices\n",
    "$ A = Q R, $\n",
    "where $Q$ is a unitary matrix (its columns form an orthonormal basis for $\\mathbb R^n$) and $R$ is an upper-triangular matrix. For the matrix $A$, descr    ibe how Gram-Schmidt process could be used to find the $Q$ and $R$ matrices,     and apply this to\n",
    "\n",
    "\n",
    "$\n",
    "A = \\begin{bmatrix} 3 & -3 & 1\\\\\n",
    "4 & -4 & -7 \\\\\n",
    "0 & 3 & 3\n",
    "\\end{bmatrix}\n",
    "$"
   ]
  },
  {
   "cell_type": "markdown",
   "metadata": {},
   "source": [
    "$\\newcommand{\\vone}{\\begin{pmatrix} 3 \\\\ 4 \\\\ 0 \\end{pmatrix}} $\n",
    "$\\newcommand{\\vtwo}{\\begin{pmatrix} -3 \\\\ -4 \\\\ 3 \\end{pmatrix}} $\n",
    "$\\newcommand{\\vthree}{\\begin{pmatrix} 1 \\\\ -7 \\\\ 3 \\end{pmatrix}} $\n",
    "$\\newcommand{\\wone}{\\begin{pmatrix} 3 \\\\ 4 \\\\ 0 \\end{pmatrix}} $\n",
    "$\\newcommand{\\wtwo}{\\begin{pmatrix} 0 \\\\ 0 \\\\ 3 \\end{pmatrix}}$\n",
    "$\\newcommand{\\wthree}{\\begin{pmatrix} 4 \\\\ -3 \\\\ 0 \\end{pmatrix}}$\n",
    "$\\newcommand{\\uone}{\\begin{pmatrix} \\frac{3}{5} \\\\ \\frac{4}{5} \\\\ 0 \\end{pmatrix}} $\n",
    "$\\newcommand{\\utwo}{\\begin{pmatrix} 0 \\\\ 0 \\\\ 1 \\end{pmatrix}}$\n",
    "$\\newcommand{\\uthree}{\\begin{pmatrix} \\frac{4}{5} \\\\ \\frac{-3}{5} \\\\ 0 \\end{pmatrix}}$  \n",
    "\n",
    "**Begin part (a)**  \n",
    "\n",
    "let $v_1 = \\vone$,  $v_2 = \\vtwo$,  $v_3 = \\vthree$\n",
    "\n",
    "**Describe Process**  \n",
    "\n",
    "First orthonormalize the columns of $A$ by Gram-Schmidt, then the columns of $Q$ make up the orthonormalized vectors $u_i$.  \n",
    "Then the upper triangular matrix $R$ can be formed by realizing the following\n",
    "\n",
    "$v_1 = \\langle v_1, u_1 \\rangle u_1$ (interpreted as how much $v_1$ is $u_1$ in the direction of $u_1$)  \n",
    "$v_2 = \\langle v_2, u_1 \\rangle u_1 + \\langle v_2, u_2 \\rangle u_2$ (ie adding the component parts of $v_2$)  \n",
    "$v_3 = \\langle v_3, u_1 \\rangle u_1 + \\langle v_3, u_2 \\rangle u_2 + \\langle v_3, u_3 \\rangle u_3$\n",
    "\n",
    "\n",
    "then $A=QR$ looks like:  \n",
    "$\\begin{pmatrix} v_1 | v_2 | v_3 \\end{pmatrix}_{3\\times3}\n",
    "    = \\begin{pmatrix} u_1 | u_2 | u_3 \\end{pmatrix}_{3\\times3} \n",
    "                            \\begin{pmatrix} \\langle u_1, v_1 \\rangle & \\langle u_1, v_2 \\rangle & \\langle u_1, v_3 \\rangle \\\\\n",
    "                                            0 & \\langle u_2, v_2 \\rangle & \\langle u_2, v_3 \\rangle \\\\\n",
    "                                            0 & 0 & \\langle u_3, v_3 \\rangle \\end{pmatrix}$\n",
    "                                            \n",
    "Which is essentially reversing the orthonormalization process"
   ]
  },
  {
   "cell_type": "markdown",
   "metadata": {},
   "source": [
    "**Begin Gram Schmidt**\n",
    "\n",
    "let $w_1 = v_1 = \\vone$  \n",
    "then $\\| w_1 \\|^2 = \\| v_1 \\|^2 = 25 $  \n",
    "\n",
    "$\n",
    "\\begin{align}\n",
    "w_2 & = v_2 - \\frac{ \\langle v_2, w_1 \\rangle}{ \\|w_1\\|^2 } w_1 \\\\\n",
    "    & = \\vtwo + \\frac{25}{25} \\vone \\\\\n",
    "    & = \\wtwo \\\\\n",
    "    \\text{then } \\|w_2\\|^2 = 9\n",
    "\\end{align}\n",
    "$\n",
    "\n",
    "$\n",
    "\\begin{align}\n",
    "w_3 & = v_3 - \\frac{ \\langle v_3, w_2 \\rangle}{ \\|w_2\\|^2 } w_2 - \\frac{ \\langle v_3, w_1 \\rangle}{ \\|w_1\\|^2 } w_1\\\\\n",
    "    & = \\vthree - \\frac{9}{9} \\wtwo + \\frac{25}{25} \\wone \\\\\n",
    "    & = \\wthree \\\\\n",
    "    \\text{then } \\|w_3\\|^2 = 25\n",
    "\\end{align}\n",
    "$"
   ]
  },
  {
   "cell_type": "markdown",
   "metadata": {},
   "source": [
    "then the orthonormal basis $ \\left[ u_1, u_2, u_3 \\right]$\n",
    "where  \n",
    "$u_1 = \\frac{w_1}{\\|w_1\\|}$ $u_2 = \\frac{w_2}{\\|w_2\\|}$ $u_3 = \\frac{w_3}{\\|w_3\\|}$\n",
    "\n",
    "$u_1 = \\uone $ $u_2 = \\utwo $ $u_3 = \\uthree$\n",
    "\n",
    "then the components of $R$ are $r_{ij} = \n",
    " \\left\\{ \n",
    " \\begin{array}{ll}\n",
    " \\langle u_i, v_j \\rangle & \\mbox{for } i \\leq j \\\\\n",
    " 0 & \\mbox{otherwise.}\n",
    " \\end{array}\n",
    " \\right. $"
   ]
  },
  {
   "cell_type": "markdown",
   "metadata": {},
   "source": [
    "Finally,  \n",
    "$\\newcommand{\\Rr}{\\begin{pmatrix}\n",
    "    5  & -5 & -5 \\\\\n",
    "    0 & 3 & 3 \\\\\n",
    "    0 & 0 & 5\n",
    "\\end{pmatrix}}$  \n",
    "$\n",
    "\\boxed{Q = \\begin{pmatrix}\n",
    "    \\frac{3}{5} & 0 & \\frac{4}{5} \\\\\n",
    "    \\frac{4}{5} & 0 & \\frac{-3}{5} \\\\\n",
    "    0 & 1 & 0\n",
    "\\end{pmatrix}}\n",
    "$\n",
    "\n",
    "and\n",
    "$\n",
    "\\boxed{R = \\Rr}\n",
    "$"
   ]
  },
  {
   "cell_type": "markdown",
   "metadata": {},
   "source": [
    "**(b)** Given an invertible matrix $A \\in \\mathbb R^{n \\times n}$ and an obser    vation vector $b \\in \\mathbb R^n$, the solution to the equality\n",
    "$ A x = b$\n",
    "is given as $x = A^{-1}b$. For the matrix $A = QR$ from part (a), assume tha    t we want to solve\n",
    "$ A x = \\begin{bmatrix}\n",
    "8 \\\\ -6 \\\\ 3\n",
    "\\end{bmatrix}.$\n",
    "By using the fact that $Q$ is a unitary matrix, find $\\overline b$ such that\n",
    "$R x = \\overline b.$\n",
    "\n",
    "Then, given the upper-triangular matrix $R$ and $\\overline b$ in part (c), f    ind the elements of $x$ $\\underline{sequentially}.$\n"
   ]
  },
  {
   "cell_type": "markdown",
   "metadata": {},
   "source": [
    "**Begin part (b)**  \n",
    "$\\newcommand{\\QT}{\\begin{pmatrix} \n",
    "    \\frac{3}{5} & \\frac{4}{5} & 0  \\\\\n",
    "    0 & 0 & 1 \\\\\n",
    "    \\frac{4}{5} & \\frac{-3}{5} & 0\n",
    "    \\end{pmatrix}}$\n",
    "$\\newcommand{\\bb}{\\begin{pmatrix}\n",
    "8 \\\\ -6 \\\\ 3\n",
    "\\end{pmatrix}}$\n",
    "$\n",
    "\\begin{align*}\n",
    "Ax & = b \\\\\n",
    "QRx & = b \\\\\n",
    "Rx & = Q^Tb && \\text{Q unitary} \\\\\n",
    "\\therefore \\boxed{\\overline b = Q^Tb}\n",
    "\\end{align*}\n",
    "$\n",
    "\n",
    "$\n",
    "\\begin{align*}\n",
    "\\implies \\overline b  & = \\QT \\bb \\\\\n",
    "    & = \\begin{pmatrix} 0 \\\\ 3 \\\\ 10 \\end{pmatrix}\n",
    "\\end{align*}\n",
    "$\n",
    "\n"
   ]
  },
  {
   "cell_type": "markdown",
   "metadata": {},
   "source": [
    "**Solve for x**  \n",
    "\n",
    "$\n",
    "\\begin{align*}\n",
    "Rx = \\overline b \\\\\n",
    "\\sim \\left(\n",
    "\\begin{array}{ccc|c}\n",
    "5 & -5 & -5 & 0 \\\\\n",
    "0 & 3 & 3 & 3 \\\\\n",
    "0 & 0 & 5 & 10 \\\\\n",
    "\\end{array}\n",
    "\\right) \\\\\n",
    "\\sim \\left(\n",
    "\\begin{array}{ccc|c}\n",
    "1 & -1 & -1 & 0 \\\\\n",
    "0 & 1 & 1 & 1 \\\\\n",
    "0 & 0 & 1 & 2 \\\\\n",
    "\\end{array}\n",
    "\\right)  && && \\text{Dividing rows by 5, 3, and 5 respectively}\\\\\n",
    "\\sim \\left(\n",
    "\\begin{array}{ccc|c}\n",
    "1 & 0 & 0 & 1 \\\\\n",
    "0 & 1 & 0 & -1 \\\\\n",
    "0 & 0 & 1 & 2 \\\\\n",
    "\\end{array}\n",
    "\\right) && && \\text{First adding $R_2$ to $R_1$ and then $-R_3$ to $R_2$}\n",
    "\\end{align*}\n",
    "$\n",
    "\n",
    "$\\therefore x = \\begin{pmatrix} 1 \\\\ -2 \\\\ 2 \\end{pmatrix}$  \n",
    "\n",
    "Which we can see is akin to Gaussian elimination"
   ]
  },
  {
   "cell_type": "markdown",
   "metadata": {},
   "source": [
    "**(c)** Describe how your solution in the previous problem is akin to Gaussian     elimination in solving a system of linear equations.\n",
    "\n",
    "It is exactly like gaussian elimination except we begin with an upper triangular matrix thus cutting down on the total number of steps required to complete the procedure."
   ]
  },
  {
   "cell_type": "markdown",
   "metadata": {},
   "source": [
    "**(d)** Given an invertible matrix $B \\in \\mathbb R^{n \\times n}$ and an obser    vation vector $c \\in \\mathbb R^n$, find the computational cost of finding th    e solution $z$ to the equation $Bz = c$ by using the $QR$ decomposition of $    B$. Assume that $Q$ and $R$ matrices are available, and adding, multiplying,     and dividing scalars take one unit of ``computation\".\n",
    "\n",
    "As an example, computing the inner product $a^T b$ is said to be $O(n)$,     since we have $n$ scalar multiplications total -- one for each $a_i b_i$. Si    milarly, matrix vector multiplication is $O(n^2)$, since matrix vector multi    plication can be viewed as computing $n$ inner products. The computational c    ost for inverting a matrix in $\\mathbb R^n$ is $O(n^3)$, and consequently, t    he cost grows rapidly as the set of equations grows in size. This is why the     expression $A^{-1}b$ is usually not computed by directly inverting the matr    ix $A$. Instead, the $QR$ decomposition of $A$ is exploited to decrease the     computational cost.\n"
   ]
  },
  {
   "cell_type": "markdown",
   "metadata": {},
   "source": [
    "**Begin part (d)**\n",
    "\n",
    "Starting from $Rz = Q^Tc$\n",
    "\n",
    "First the matrix vector product on the right hand side requires $O(n^2)$\n",
    "\n",
    "solving for $x_n$ requires 1 division  \n",
    "then eliminating the last column of $R$, using elementary row operations, requires $2n$ additions\n",
    "\n",
    "solving for $x_{n-1}$ requires 1 division and $2(n-1)$ additions\n",
    "\n",
    "continuing in this way we have $n$ (divisions) $+ (2n) + 2(n-1) + 2(n-2) + \\dots + 2$ (n additions)\n",
    "\n",
    "Which is also $O(n^2)$\n",
    "\n",
    "$\\therefore$ solving for $z$ using $QR$ decomposition requires $\\boxed{O(n^2)}$"
   ]
  }
 ],
 "metadata": {
  "kernelspec": {
   "display_name": "Python 3",
   "language": "python",
   "name": "python3"
  },
  "language_info": {
   "codemirror_mode": {
    "name": "ipython",
    "version": 3
   },
   "file_extension": ".py",
   "mimetype": "text/x-python",
   "name": "python",
   "nbconvert_exporter": "python",
   "pygments_lexer": "ipython3",
   "version": "3.7.4"
  }
 },
 "nbformat": 4,
 "nbformat_minor": 4
}

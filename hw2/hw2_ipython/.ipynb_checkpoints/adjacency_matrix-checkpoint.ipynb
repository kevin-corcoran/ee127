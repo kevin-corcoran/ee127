{
 "cells": [
  {
   "cell_type": "code",
   "execution_count": null,
   "metadata": {},
   "outputs": [],
   "source": [
    "import numpy as np"
   ]
  },
  {
   "cell_type": "markdown",
   "metadata": {},
   "source": [
    "## 1. The Adjacency Matrix\n",
    "\n",
    "In this notebook we will explore some properties and uses of the adjacency matrix of an undirected graph $G=(V,E)$.\n",
    "\n",
    "To begin, fill out the adjacency matrix of the below graph:\n",
    "\n",
    "<img src=\"UndirectedGraph.png\" style=\"width: 250px;\"/>"
   ]
  },
  {
   "cell_type": "code",
   "execution_count": null,
   "metadata": {},
   "outputs": [],
   "source": [
    "#TO DO: Fill out the adjacency matrix:\n",
    "A = np.array([])"
   ]
  },
  {
   "cell_type": "markdown",
   "metadata": {},
   "source": [
    "### Symmetry of the Adjacency Matrix\n",
    "\n",
    "It is a fact (that you will show in the homework) that the adjacency matrix of any undirected graph is symmetric.\n",
    "\n",
    "Let's verify that this is true for the above graph:"
   ]
  },
  {
   "cell_type": "code",
   "execution_count": null,
   "metadata": {},
   "outputs": [],
   "source": [
    "np.prod(A.T == A) == True"
   ]
  },
  {
   "cell_type": "markdown",
   "metadata": {},
   "source": [
    "## 2.1. Length of the shortest path between vertices 1 and 6"
   ]
  },
  {
   "cell_type": "markdown",
   "metadata": {},
   "source": [
    "We will see in the homework that a path $p$ of length $n$ exists between vertices $i$ and $j$ in an undirected graph $G$ if and only if $e_i^\\top A^n e_j$ is nonzero, where $A$ is the adjacency matrix of $G$ and $e_i$ signifies the standard basis vector that is $1$ at index $i$ and $0$ elsewhere ($e_j$ defined similarly).\n",
    "\n",
    "This fact can be directly applied to find the shortest path between two vertices $i$ and $j$. Just loop through increasing values for $n\\in\\mathbb{N}$ until you find the first $n$ such that $e_i^\\top A^n e_j\\neq 0$. This $n$ is the length of the shortest path."
   ]
  },
  {
   "cell_type": "code",
   "execution_count": null,
   "metadata": {},
   "outputs": [],
   "source": [
    "e1 = np.array([1,0,0,0,0,0]).T\n",
    "e6 = np.array([0,0,0,0,0,1]).T"
   ]
  },
  {
   "cell_type": "code",
   "execution_count": null,
   "metadata": {},
   "outputs": [],
   "source": [
    "B = A\n",
    "for i in range(10):\n",
    "    print(e1.T @ B)\n",
    "    if (e1.T @ B @ e6)!=0:\n",
    "        print(\"Length of the shortest path between 1 and 6 is: \" + str(i+1))\n",
    "        print(\"Value of e1.T A^\" + str(i+1) + \" e6: \" + str(e1.T @ B @ e6))\n",
    "        break\n",
    "    B = B @ A"
   ]
  },
  {
   "cell_type": "markdown",
   "metadata": {},
   "source": [
    "## 2.2. Length of the shortest path using eigen-decomposition of A"
   ]
  },
  {
   "cell_type": "markdown",
   "metadata": {},
   "source": [
    "You may have noticed that the above method uses one matrix multiplication per iteration of $n$, which can be expensive. We can instead use the eigen-decompostiion of $A$ to avoid this.\n",
    "\n",
    "That is, we use $A=P\\Lambda P^\\top$ where the columns of $P$ are the eigenvectors of $A$ and $\\Lambda$ is the diagonal matrix of $A$'s eigenvalues. (Note: we can always do this because $A$ is symmetric). Then, instead of calculating $A^n$ directly, we instead do\n",
    "$$A^n=(P\\Lambda P^\\top)^n=P\\Lambda^n P^\\top.$$\n",
    "\n",
    "Now, instead of multiplying an arbitrary matrix $A$, which in general takes time $O(n^{2.38})$, we multiply the diagonal matrix $\\Lambda$, which takes only $O(n)$ time."
   ]
  },
  {
   "cell_type": "code",
   "execution_count": null,
   "metadata": {},
   "outputs": [],
   "source": [
    "values, vectors = np.linalg.eig(A)\n",
    "for i in range(10):\n",
    "    B = vectors @ np.diag(values**(i+1)) @ vectors.T\n",
    "    if (e1.T @ B @ e6)> 0.1:\n",
    "        print(\"Lenght of the shortest path between 1 and 6 is: \" + str(i+1))\n",
    "        print(\"Value of e1.T A^\" + str(i+1) + \" e6: \" + str(e1.T @ B @ e6))\n",
    "        break"
   ]
  },
  {
   "cell_type": "markdown",
   "metadata": {},
   "source": [
    "# Wave-front of Breadth-First Search"
   ]
  },
  {
   "cell_type": "markdown",
   "metadata": {},
   "source": [
    "We can also use the adjacency matrix $A$ to perform breadth-first search.\n",
    "\n",
    "Let $v_t$ represent the nodes visited after $t$ steps of breadth-first search, where $(v_t)_j\\neq 0$ if and only if node $j$ was visited at the $t$-th step. We start with $v_0=e_i$ where $i$ is the starting node of the BFS.\n",
    "\n",
    "Notice that in general, $Av$ is nonzero in exactly the indices corresponding to vertices adjacent to those with nonzero indices in $v$ (convince yourself of this). That is, multiplication by $A$ performs exactly the function of taking the next step in the BFS, i.e. $v_{t+1}=Av_t$.\n",
    "\n",
    "In other words, $A^ne_i$ is a vector that is nonzero at exactly the nodes a distance of $n$ from node $i$."
   ]
  },
  {
   "cell_type": "code",
   "execution_count": null,
   "metadata": {},
   "outputs": [],
   "source": [
    "m = 50\n",
    "n = m**2\n",
    "A = np.zeros((n, n))\n",
    "\n",
    "for k in range(n):\n",
    "    A[k][k]= 1\n",
    "    i = k%m\n",
    "    j = k//m\n",
    "    if i+1<m:\n",
    "        A[k][i+1 + m*j] = 1\n",
    "    if i>0:\n",
    "        A[k][i-1 + m*j] = 1\n",
    "    if j+1<m:\n",
    "        A[k][i + m*(j+1)] = 1\n",
    "    if j>0:\n",
    "        A[k][i + m*(j-1)] = 1\n",
    "\n",
    "# add obstables\n",
    "for i in range((int) (2*np.sqrt(m))):\n",
    "    for j in range((int) (np.sqrt(m))):\n",
    "        A[:, ((int) ((m+1) * np.sqrt(m))) + (i + m*j)] = np.zeros(n)\n",
    "        \n",
    "for i in range((int) (np.sqrt(m))):\n",
    "    for j in range((int) (2*np.sqrt(m))):\n",
    "        A[:, ((int) (1.35 * m * np.sqrt(m) * np.sqrt(np.sqrt(m)))) + (i + m*j)] = np.zeros(n)"
   ]
  },
  {
   "cell_type": "code",
   "execution_count": null,
   "metadata": {},
   "outputs": [],
   "source": [
    "%matplotlib notebook\n",
    "\n",
    "nb_frame = 100\n",
    "e1 = np.zeros((n,nb_frame))\n",
    "e1[320][0] = 1\n",
    "\n",
    "for i in range(nb_frame):\n",
    "    if i == 0:\n",
    "        continue\n",
    "    e1[:,i] = e1[:,i-1].T @ A\n",
    "\n",
    "import matplotlib.pyplot as plt\n",
    "import matplotlib.animation as animation\n",
    "\n",
    "fig = plt.figure()\n",
    "ax = plt.axes(xlim=(0, m), ylim=(0, m))\n",
    "\n",
    "im=plt.imshow((e1[:,1].T).reshape(m,m), interpolation='nearest')\n",
    "\n",
    "# animation function.  This is called sequentially\n",
    "def animate(i):\n",
    "    im.set_array((e1[:,i].T >= 1).reshape(m,m))\n",
    "    return [im]\n",
    "\n",
    "ani = animation.FuncAnimation(fig, animate, frames=nb_frame)\n",
    "\n",
    "plt.show()"
   ]
  }
 ],
 "metadata": {
  "kernelspec": {
   "display_name": "Python 3",
   "language": "python",
   "name": "python3"
  },
  "language_info": {
   "codemirror_mode": {
    "name": "ipython",
    "version": 3
   },
   "file_extension": ".py",
   "mimetype": "text/x-python",
   "name": "python",
   "nbconvert_exporter": "python",
   "pygments_lexer": "ipython3",
   "version": "3.7.3"
  }
 },
 "nbformat": 4,
 "nbformat_minor": 2
}

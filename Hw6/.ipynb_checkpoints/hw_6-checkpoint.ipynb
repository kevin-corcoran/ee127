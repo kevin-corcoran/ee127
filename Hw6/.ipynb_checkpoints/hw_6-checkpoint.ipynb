{
 "cells": [
  {
   "cell_type": "markdown",
   "metadata": {},
   "source": [
    "## **1. Convexity of Sets and Functions**\n",
    "### **(a) Determine if the set is convex or not**\n",
    "#### **(i) The empty set $\\mathbf{\\emptyset}$**\n",
    "This set is convex since any line segment between any two elements in the empty set is also in the empty set.\n",
    "#### **(ii) The singleton set $\\mathbf{\\{x_0\\}}$**\n",
    "This set is convex since any line segment between any two elements in the singleton set is also in the singlton set.\n",
    "#### **(iii) $\\mathbf{\\mathbb{R}^n}$**\n",
    "This set is convex since any line segment between any two elements in $\\mathbb{R}^n$ is in $\\mathbb{R}^n$. $\\mathbb{R}$ is a vector space and hence closed under any linear combination, namely the line segment, $\\lambda x + (1-\\lambda)y$\n",
    "#### **(iv) $\\mathcal{P} = \\{(x_1,x_2)$, where $x_1$ is the date (1-31) and $x_2$ is the month (1-12) corresponding to the date of birth of EECS 127/227A students$\\}$**\n",
    "if $(x_1,y_1),(x_2,y_2)\\in\\mathcal{P}$ then $\\lambda(x_1,y_1)+(1-\\lambda)(x_2,y_x)\\notin\\mathcal{P}$  \n",
    "Since $\\lambda\\in(0,1)$ $\\lambda (x_1,y_1) = (\\lambda x_1, \\lambda x_2)$ are no longer integers between $1-31$\n",
    "#### **(v) $\\mathcal{P} = \\{z : z = (1-t)\\vec{a} + t\\vec{b}$, where $a$ and $b$ are two vectors with same dimension as $z$ and $t\\in [0,1]$\\}**\n",
    "This set is convex since the set is made up of all line segments, and a line segment between two line segments is still a line segment\n",
    "#### **(vi) $\\mathcal{P} = \\{z : \\vec{a}^\\top z = b, a \\neq 0\\}$**\n",
    "This set is convex since a hyperplane is convex.\n",
    "#### **(vii) $\\mathcal{P} = \\{z : \\vec{a}^\\top z \\leq b, a \\neq 0\\}$**\n",
    "This set is convex since a half space is convex.\n",
    "#### **(viii) $\\mathcal{P} = \\{z : \\|z - \\vec{z_0}\\|_2 = \\epsilon$\\}** \n",
    "This set is **not** convex since it is a hypercirle of radius $\\epsilon$, which does not contain its interior. So any line segment between points in the set, on the surface of the circle, would not be in the set.\n",
    "#### **(xi) $\\mathcal{P} = \\{z : \\|z - \\vec{z_0}\\|_2 \\leq \\epsilon$\\}** \n",
    "This set is convex since it is a circle that *does* contain its interior, and circle is convex.\n",
    "#### **(x) $\\mathcal{P}$ = epigraph($f$) = $\\{(z,t) : z\\in domain(f)$ and $t \\geq f(z)\\}$, where $f$ is a convex function**"
   ]
  },
  {
   "cell_type": "markdown",
   "metadata": {},
   "source": [
    "Since $f$ is convex, $domain(f)$ is convex and  \n",
    "\n",
    "$$\n",
    "f(\\lambda x + (1-\\lambda)y) \\leq \\lambda f(x) + (1-\\lambda)f(y) \\in epigraph(f) \\\\\n",
    "$$\n",
    "\n",
    "Which can be seen by letting $t = \\lambda f(x) + (1-\\lambda)f(y)$ and $z = \\lambda x + (1-\\lambda)y$, then  \n",
    "\n",
    "$$\n",
    "(z,t)\\in epigraph(f)\n",
    "$$\n",
    "\n",
    "Since $t\\geq f(z)$, and $z\\in domain(f)$\n",
    "\n",
    "So this set is convex\n"
   ]
  },
  {
   "cell_type": "markdown",
   "metadata": {},
   "source": [
    "#### **(xi) $\\mathcal{P} = Q\\bigcap R$, where $Q$ and $R$ are convex sets**\n",
    "If $x,y\\in Q\\bigcap R ,\\, \\text{then} \\, x,y\\in Q ,\\, \\text{and} \\, x,y\\in R \\,\\, \\text{By definition}$   \n",
    "\n",
    "Since both $Q$ and $R$ are convex then,  \n",
    "\n",
    "$$\n",
    "\\lambda x + (1-\\lambda)y \\in Q \\, \\text{and} \\, \\lambda x + (1-\\lambda)y \\in R \\\\\n",
    "\\implies \\lambda x + (1-\\lambda)y \\in Q \\bigcap R\n",
    "$$\n",
    "\n",
    "Therefore this set is convex\n",
    "#### **(xii) $\\mathcal{P}$  = Minkowski sum of sets $Q$ and $R$, where $Q$ and $R$ are convex sets, where Minkowski sum of two sets $Q$ and $R$ is defined as $Q + R =\\{q +r \\,|\\,q \\in Q,\\ r \\in R\\}$.**  \n",
    "\n",
    "Let $q_1+r_1,\\,q_2+r_2\\in Q+R$, then\n",
    "\n",
    "$$\n",
    "\\lambda (q_1+r_1) +(1-\\lambda)(q_2+r_2)\\\\\n",
    "=\\lambda q_1 + (1-\\lambda)q_2 + \\lambda r_1 + (1-\\lambda)r_2 \\in Q + R\n",
    "$$\n",
    "\n",
    "Since Q and R are convex\n",
    "\n",
    "Therefore this set is convex\n",
    "\n",
    "#### **(xiii) $\\mathcal{P} = \\{(x_1,x_2): (x_1 \\geq x_2-1 \\;\\;\\text{and}\\;\\; x_2 \\geq 0) \\;\\;\\text{OR}\\;\\; (x_1 \\leq x_2-1 \\;\\;\\text{and}\\;\\; x_2 \\leq 0)\\}$**\n",
    "let $x_2 = x_1+1 \\leq 0$\n"
   ]
  },
  {
   "cell_type": "markdown",
   "metadata": {},
   "source": [
    "### **(b) Determine if the function is convex or not**\n",
    "#### **(i) $f(x) = a^\\top \\vec{x} + b$**\n",
    "\n",
    "if $a,\\,x\\in\\mathbb{R}^n$, then $domain(f) = \\mathbb{R}^n$, which is a convex set, and  \n",
    "\n",
    "$$\n",
    "f(\\lambda x + (1-\\lambda)y) = a^\\top(\\lambda x + (1-\\lambda)y)+b\\\\\n",
    "\\lambda f(x) + (1-\\lambda)f(y) = \\lambda(a^\\top x+b)+(1-\\lambda)(a^\\top y + b) \\\\\n",
    "= a^\\top(\\lambda x + (1-\\lambda)y)+b\n",
    "$$\n",
    "\n",
    "so $f(\\lambda x + (1-\\lambda)y) = \\lambda f(x) + (1-\\lambda)f(y)$, and so $f(x)$ is a convex function"
   ]
  },
  {
   "cell_type": "markdown",
   "metadata": {},
   "source": [
    "#### **(ii) $f(x) = \\cos(x), x\\in [\\frac{\\pi}{2},\\frac{3\\pi}{2}]$**\n",
    "This function is convex by observation\n",
    "\n",
    "#### **(iii) $f(\\vec{x}) = \\vec{x}^\\top Q\\vec{x} + a^\\top\\vec{x} + b$, where $Q$ is Positive Semi-definite**\n",
    "\n",
    "From part (a) we know $g(x) := a^\\top\\vec x+b$ is convex, and $g(\\lambda x + (1-\\lambda)y) = \\lambda g(x) + (1-\\lambda)g(y)$  \n",
    "so we only need to check the conditions on $f(x) := \\vec{x}^\\top Q\\vec{x}$\n",
    "\n",
    "$$\n",
    "\\begin{align*}\n",
    "f(\\lambda x + (1-\\lambda)y) &= (\\lambda x^\\top + (1-\\lambda)y^\\top)Q(\\lambda x + (1-\\lambda)y)\\\\\n",
    "    &= \\lambda^2 x^\\top Qx + (1-\\lambda)^2 y^\\top Q y^\\top \\\\\n",
    "    &\\leq \\lambda f(x) + (1-\\lambda)f(y) \\\\\n",
    "    &= \\lambda x^\\top Qx + (1-\\lambda) y^\\top Q y^\\top \\\\\n",
    "\\end{align*}\n",
    "$$\n",
    "\n",
    "Since $x^\\top Q x \\geq 0 \\,\\, \\forall x$, $\\lambda < \\lambda^2$, and $(1-\\lambda)^2 < 1-\\lambda$\n",
    "\n",
    "Therefore $f(\\vec{x}) = \\vec{x}^\\top Q\\vec{x} + a^\\top\\vec{x} + b$ is a convex function"
   ]
  },
  {
   "cell_type": "markdown",
   "metadata": {},
   "source": [
    "#### **(iv) $\\sum_{i}w_if_i(x)$, $w_i \\in \\mathbb{R}$ and each $f_i$ convex**\n",
    "\n",
    "For each $f_i$ we know\n",
    "\n",
    "$$\n",
    "f_i(\\lambda x +(1-\\lambda)y) \\leq \\lambda f_i(x) + (1-\\lambda)f_i(y)\\\\\n",
    "\\implies -w_i \\left(f_i(\\lambda x +(1-\\lambda)y)\\right) \\geq -w_i\\left(\\lambda f_i(x) + (1-\\lambda)f_i(y)\\right)\\\\\n",
    "$$\n",
    "\n",
    "So if all $w_i < 0$, then\n",
    "\n",
    "$$\n",
    "\\sum_{i}w_if_i(\\lambda x +(1-\\lambda)y) \\geq \\sum_i w_i\\left(\\lambda f_i(x) + (1-\\lambda)f_i(y)\\right)\n",
    "$$\n",
    "\n",
    "Therefore this function is **not** convex"
   ]
  },
  {
   "cell_type": "markdown",
   "metadata": {},
   "source": [
    "#### **(v) $f(A\\vec{x}+b)$, where $f$ is a convex function**\n",
    "\n",
    "Since $f$ is convex it is sufficient to show that the set $\\{x:g(x)=Ax+b\\in domain(f)\\}$ is a convex set.\n",
    "\n",
    "$$\n",
    "\\begin{align*}\n",
    "g(\\lambda x+(1-\\lambda)y) &= A(\\lambda x+(1-\\lambda)y)+b \\\\\n",
    "&= \\lambda Ax +(1-\\lambda)Ay + b \\\\\n",
    "\\lambda g(x) + (1-\\lambda)g(y) &= \\lambda Ax +(1-\\lambda)Ay + b\n",
    "\\end{align*}\n",
    "$$\n",
    "\n",
    "Since this set is convex, then the function $f(A\\vec{x}+b)$ is convex"
   ]
  },
  {
   "cell_type": "markdown",
   "metadata": {},
   "source": [
    "#### **(vi) $f(x) = \\max_i f_i(x)$, where $f_i$ are convex functions**\n",
    "\n",
    "let $f_k$ be the max of $\\lambda x+(1-\\lambda)y$, then  \n",
    "\n",
    "$$\n",
    "f(\\lambda x+(1-\\lambda)y) = f_k(\\lambda x+(1-\\lambda)y) \\\\\n",
    "\\leq \\lambda f_k(x)+(1-\\lambda)f_k(y)\n",
    "$$"
   ]
  },
  {
   "cell_type": "markdown",
   "metadata": {},
   "source": [
    "#### **(vi) $g(f(x))$, where f(x) is convex and g(x) is convex and non-decreasing**\n",
    "\n",
    "Since $g$ is non-decreasing, and  \n",
    "\n",
    "$$\n",
    "f(\\lambda +(1-\\lambda y)) \\leq \\lambda f(x)+(1-\\lambda)f(y)\n",
    "$$\n",
    "\n",
    "then,  \n",
    "\n",
    "$$\n",
    "g\\left(f(\\lambda +(1-\\lambda y))\\right) \\leq g\\left(\\lambda f(x)+(1-\\lambda)f(y)\\right)\n",
    "$$\n",
    "\n",
    "and since $g$ is convex,  \n",
    "\n",
    "$$\n",
    "g\\left(\\lambda f(x)+(1-\\lambda)f(y)\\right) \\leq \\lambda g(f(x)) +(1-\\lambda)g(f(y))\n",
    "$$\n",
    "\n",
    "Therefore,  \n",
    "\n",
    "$$\n",
    "g\\left(f(\\lambda +(1-\\lambda y))\\right) \\leq g(f(x)) +(1-\\lambda)g(f(y))\n",
    "$$\n",
    "\n",
    "\n",
    "Implying $g(f(x))$ is convex"
   ]
  },
  {
   "cell_type": "markdown",
   "metadata": {},
   "source": [
    "#### **(vii) $f(x)$ a function whose epigraph is a convex set**\n",
    "\n",
    "Let $(z_1,t_1),\\,(z_2,t_t)\\in epi(f)$, then $\\lambda (z_1,t_1) +  (1-\\lambda)(z_2,t_2)\\in epi(f)$, and  \n",
    "\n",
    "$$\n",
    "\\lambda (z_1,f(z_1)) +  (1-\\lambda)(z_2,f(z_2)) \\in epi(f)\n",
    "$$\n",
    "\n",
    "Then\n",
    "\n",
    "$$\n",
    "f(\\lambda z_1 + (1-\\lambda)z_2) \\leq \\lambda f(z_1) + (1-\\lambda)f(z_2)\n",
    "$$\n",
    "\n",
    "since $\\lambda z_1 + (1-\\lambda)z_2 \\in dom(f)$, and $\\lambda f(z_1) + (1-\\lambda)f(z_2)$ by definition of being in the $epi(f)$"
   ]
  },
  {
   "cell_type": "markdown",
   "metadata": {},
   "source": [
    "### **(c) For all the sets given in the following question, find the convex hull of the set.**\n",
    "\n",
    "**(i)**\n",
    "\n",
    "Draw a line between each point and fill it in\n",
    "\n",
    "**(ii)**\n",
    "\n",
    "Draw a tangent line to the $max$ and $min$ of $sin(x)$  and fill it in\n",
    "\n",
    "**(iii)**\n",
    "\n",
    "This is a circle of radius $\\epsilon$ centered at $z_0$, so filling it in results in the convex hull.\n"
   ]
  },
  {
   "cell_type": "markdown",
   "metadata": {},
   "source": [
    "### **(d) Laptop wires**\n",
    "\n",
    "Bayen's, and Theo's laptop charger wires are convex since they form a catenary.\n",
    "\n",
    "Oladapo’s is convex, since the epigraph is a convex set.\n",
    "\n",
    "Sukrit’s, and Hari’s are not since you can draw a line between two points that are not contained in the epigraph.\n"
   ]
  },
  {
   "cell_type": "markdown",
   "metadata": {},
   "source": [
    "## **2. PSD equivalence: the Schur complement**"
   ]
  },
  {
   "cell_type": "markdown",
   "metadata": {},
   "source": [
    "**(a)**\n",
    "\n",
    "Expanding $f(x,y)$  \n",
    "\n",
    "$$\n",
    "\\begin{align*}\n",
    "f(x,y) &= \\begin{pmatrix} x\\\\ y \\end{pmatrix}^\\top \n",
    "    \\begin{pmatrix} A & B \\\\ B^\\top & C \\end{pmatrix} \n",
    "    \\begin{pmatrix} x \\\\ y \\end{pmatrix} \\\\\n",
    "    &= x^\\top Ax+x^\\top By + y^\\top B^\\top x+y^\\top Cy\n",
    "\\end{align*}\n",
    "$$\n",
    "\n",
    "Taking the gradient $\\nabla_x f(x,y)$ and set it equal to zero to find $x$ that minimizes  \n",
    "$\\min\\limits_x f(x,y)$\n",
    "\n",
    "$$\n",
    "\\begin{align*}\n",
    "\\nabla_x f(x,y) &= (A+A^\\top)x+By+By = 0 \\\\\n",
    "\\implies 2Ax &=-2By \\\\\n",
    "\\implies x &= -A^{-1}By \n",
    "\\end{align*}\n",
    "$$\n",
    "\n",
    "Pluggin $x$ back into $f(x,y)$  \n",
    "\n",
    "$$\n",
    "\\begin{align*}\n",
    "\\min\\limits_x f(x,y) = f(-A^{-1}By,y) &= \\begin{pmatrix} -y^\\top B^\\top A^{-1} \\\\ y^\\top \\end{pmatrix}\n",
    "                    \\begin{pmatrix} A & B \\\\ B^\\top & C \\end{pmatrix} \n",
    "                    \\begin{pmatrix} -A^{-1}By \\\\ y \\end{pmatrix} \\\\\n",
    "    &= \\begin{pmatrix} -y^\\top B^\\top A^{-1} \\\\ y^\\top \\end{pmatrix}\n",
    "                    \\begin{pmatrix} 0 \\\\ -B^\\top A^{-1}By + Cy \\end{pmatrix} \\\\\n",
    "    &= y^\\top\\left(C-B^\\top A^{-1}B\\right)y\n",
    "\\end{align*}\n",
    "$$\n",
    "\n",
    "Therefore $\\min\\limits_x f(x,y) = y^\\top\\left(C-B^\\top A^{-1}B\\right)y$ "
   ]
  },
  {
   "cell_type": "markdown",
   "metadata": {},
   "source": [
    "**(b)**\n",
    "\n",
    "Using the hint to minimize the result from part (a) over $y$  \n",
    "(i.e. $\\min\\limits_{x,\\,y} f(x,y)$)\n",
    "\n",
    "Let $g(y) = y^\\top\\left(C-B^\\top A^{-1}B\\right)y$,  \n",
    "then taking the gradient with respect to $y$, and setting it equal to zero  \n",
    "\n",
    "\n",
    "$$\n",
    "\\begin{align*}\n",
    "\\nabla_y g(y) &= (C+C^\\top)y - 2B^\\top A^{-1}y = 0\\\\\n",
    "    &= \\left(C+C^\\top - 2B^\\top A^{-1}\\right)y = 0 \\\\\n",
    "    \\implies y=0\\\\\n",
    "\\end{align*}\n",
    "$$\n",
    "\n",
    "Therefore, $\\min\\limits_{x,\\,y} f(x,y) = g(0) = 0$, and since this is the minimum, it implies that  that $f(x,y) \\geq 0$.\n",
    "\n",
    "Proving that $M\\iff C-B^\\top A^{-1}B$ is PSD"
   ]
  },
  {
   "cell_type": "markdown",
   "metadata": {},
   "source": [
    "**(c)**\n",
    "\n",
    "noting the symmetry, $A-BC^{-1}B^\\top$, follows from minimizing the following,  \n",
    "\n",
    "$$\\min\\limits_x f^\\top(x,y) = \\min\\limits_x \\begin{pmatrix} x\\\\ y \\end{pmatrix}^\\top \n",
    "    \\begin{pmatrix} C & B^\\top \\\\ B & A \\end{pmatrix} \n",
    "    \\begin{pmatrix} x \\\\ y \\end{pmatrix}\\dots \\\\\n",
    "    = y^\\top(A-BC^{-1}B^\\top)y\n",
    "$$  \n",
    "    \n",
    "Then, a similar analysis as in part (b) proves the result."
   ]
  },
  {
   "cell_type": "markdown",
   "metadata": {},
   "source": [
    "## **3. Catenary**"
   ]
  },
  {
   "cell_type": "markdown",
   "metadata": {},
   "source": [
    "**(a)**  \n",
    "\n",
    "Since the string is static the tension at $x$ and $x+\\Delta x$ should be equal and opposite, so\n",
    "the horizontal component is given by:  \n",
    "\n",
    "$$\n",
    "-T(x)cos(\\theta(x)) + T(x+\\Delta x)cos\\left(\\theta(x+\\Delta(x)\\right) = 0 \\\\\n",
    "\\implies T(x)cos(\\theta(x)) = T(x+\\Delta x)cos\\left(\\theta(x+\\Delta(x)\\right)\n",
    "$$\n",
    "\n",
    "Since the tension doesn't change from one segment to the next, then there must exist some $T_0$ such that  \n",
    "\n",
    "$$\n",
    "T(x)cos(\\theta(x)) = T_0\n",
    "$$"
   ]
  },
  {
   "cell_type": "markdown",
   "metadata": {},
   "source": [
    "**(b)**\n",
    "\n",
    "The vertical force is given by:  \n",
    "\n",
    "$$\n",
    "-T(x)sin(\\theta(x)) + T(x+\\Delta x)sin\\left(\\theta(x+\\Delta(x)\\right) + P(x,\\Delta x)= 0 \\\\\n",
    "$$\n",
    "\n",
    "$P(x,\\Delta x)$ is given by $\\mu g \\Delta s(x,\\Delta x)$, where $\\mu$ is the linear density of the string\n",
    "(i.e. mass per unit length), and $\\Delta s(x,\\Delta x)$ is the length of the string between $x$ and $\\Delta x$.  \n",
    "\n",
    "Then $\\mu g \\Delta s(x,\\Delta x)$ gives the familiar formula for the force from gravity on a object.\n",
    "\n",
    "Therefore we can write the vertical force of a line segment by:  \n",
    "\n",
    "$$\n",
    "-T(x)sin(\\theta(x)) + T(x+\\Delta x)sin\\left(\\theta(x+\\Delta(x)\\right) = \\mu g \\Delta s(x,\\Delta x) \\\\\n",
    "$$\n",
    "\n",
    "Using the convention that the force of gravity is negative (for down).\n"
   ]
  },
  {
   "cell_type": "markdown",
   "metadata": {},
   "source": [
    "**(c)**  \n",
    "\n",
    "\n",
    "$$\n",
    "\\frac{-T(x)sin(\\theta(x)) + T(x+\\Delta x)sin\\left(\\theta(x+\\Delta(x)\\right) = \\mu g \\Delta s(x,\\Delta x)}{T(x)cos(\\theta(x)) = T(x+\\Delta x)cos\\left(\\theta(x+\\Delta(x)\\right) = T_0} \\\\\n",
    "= -tan(\\theta(x)) + tan(\\theta(x+\\Delta x)) = \\frac{\\mu g \\Delta s(x,\\Delta x)}{T_0}\n",
    "$$"
   ]
  },
  {
   "cell_type": "markdown",
   "metadata": {},
   "source": [
    "**(d)**\n",
    "\n",
    "From definition of $tan(\\theta)$ it follows that: \n",
    "$$tan(\\theta (x)) = \\frac{\\Delta z(x, \\Delta x)}{\\Delta x}\\\\\n",
    "tan(\\theta(x+\\Delta x)) = \\frac{\\Delta z(x+\\Delta x, \\Delta x)}{\\Delta x}\n",
    "$$\n",
    "\n",
    "Therefore, from part (c), it follows that\n",
    "$$\n",
    "-\\frac{\\Delta z(x, \\Delta x)}{\\Delta x} + \\frac{\\Delta z(x+\\Delta x, \\Delta x)}{\\Delta x} = \\frac{\\mu g}{T_0} \\Delta s(x,\\Delta x)\n",
    "$$"
   ]
  },
  {
   "cell_type": "markdown",
   "metadata": {},
   "source": [
    "**(e)**  \n",
    "\n",
    "By using the standard limit definition of the the derivative, then the second derivative can be expressed as:  \n",
    "\n",
    "$$\n",
    "f''(x) = \\lim\\limits_{h\\rightarrow\\infty}\\frac{f(x+2h-2f(x+h)+f(x)}{h^2}\n",
    "$$\n",
    "\n",
    "\n",
    "Then expanding part (d), using the definition of $\\Delta z(x,\\Delta x)$, we get  \n",
    "\n",
    "$$\n",
    "\\frac{z(x+2\\Delta)-2z(x+\\Delta x) + z(x)}{\\Delta x} =\\frac{\\mu g}{T_0} \\Delta s(x,\\Delta x)\n",
    "$$\n",
    "\n",
    "Then multiplying both sides by $\\frac{1}{\\Delta x}$ and taking the limit as $\\Delta x$ tends to $0$, we get the result  \n",
    "\n",
    "$$\n",
    "\\frac{\\partial^2 z}{\\partial x^2}(x) = \\lim\\limits_{\\Delta x \\rightarrow 0} \\frac{\\mu g}{T_0} \\frac{\\Delta s(x,\\Delta x)}{\\Delta x}\n",
    "$$"
   ]
  },
  {
   "cell_type": "markdown",
   "metadata": {},
   "source": [
    "**(f)**  \n",
    "\n",
    "Since $\\mu$, $g$, $T_0$, and $\\Delta s(x,\\Delta)$ are all greater than $0$, then the function $z(x)$ is convex by the second derivative test  \n",
    "\n",
    "$$\n",
    "\\frac{\\partial^2 z}{\\partial x^2}(x) = \\lim\\limits_{\\Delta x \\rightarrow 0} \\frac{\\mu g}{T_0} \\frac{\\Delta s(x,\\Delta x)}{\\Delta x} \\geq 0\n",
    "$$\n",
    "\n",
    "Noting this is true even as $\\Delta x$ tends to infinity"
   ]
  },
  {
   "cell_type": "markdown",
   "metadata": {},
   "source": [
    "**(g)**  \n",
    "\n",
    "From the definition of $\\Delta s(x, \\Delta x)$\n",
    "\n",
    "$$\n",
    "\\begin{align*}\n",
    "\\frac{\\Delta s(x, \\Delta x)}{\\Delta x} &= \\frac{\\sqrt{(\\Delta x)^2 + (\\Delta z(x,\\Delta x))^2}}{\\Delta x} \\\\\n",
    "    &= \\sqrt{\\frac{(\\Delta x)^2}{(\\Delta x)^2} + \\frac{(\\Delta z(x,\\Delta x))^2}{(\\Delta x)^2}} \\\\\n",
    "    &= \\sqrt{1+\\left(\\frac{\\Delta z (x, \\Delta x)}{\\Delta x}\\right)^2}\n",
    "\\end{align*}\n",
    "$$\n"
   ]
  },
  {
   "cell_type": "markdown",
   "metadata": {},
   "source": [
    "**(h)**  \n",
    "\n",
    "Using the result from parts (e) and (g), we have  \n",
    "\n",
    "$$\n",
    "\\frac{\\partial^2 z}{\\partial x^2}(x) = \\lim\\limits_{\\Delta x \\rightarrow 0} \\frac{\\mu g}{T_0} \\sqrt{1+\\left(\\frac{\\Delta z (x, \\Delta x)}{\\Delta x}\\right)^2}\n",
    "$$\n",
    "\n",
    "Then applying $\\frac{\\Delta z (x, \\Delta x)}{\\Delta x} \\sim 0$,  \n",
    "\n",
    "$$\n",
    "\\frac{\\partial^2 z}{\\partial x^2}(x) = \\frac{\\mu g}{T_0}\n",
    "$$\n",
    "\n",
    "Integrating once we have (where b is the constant of integration)    \n",
    "\n",
    "$$\n",
    "\\frac{\\partial z}{\\partial x}(x) = \\frac{\\mu g}{T_0}x + b\n",
    "$$\n",
    "\n",
    "Integrating again (c is the constant of integration here)  \n",
    "\n",
    "$$\n",
    "z(x) = \\frac{\\mu g}{2T_0}x^2 + bx + c\n",
    "$$\n",
    "\n",
    "and $a = \\frac{\\mu g}{2T_0}$"
   ]
  },
  {
   "cell_type": "markdown",
   "metadata": {},
   "source": [
    "**(i)**  \n",
    "\n",
    "First  noting,  \n",
    "\n",
    "$$\n",
    "\\frac{\\Delta z (x, \\Delta x)}{\\Delta x} = \\frac{z(x+\\Delta x) - z(x)}{\\Delta x}\\\\\n",
    "\\implies  \\lim\\limits_{h\\rightarrow\\infty} \\frac{\\Delta z (x, \\Delta x)}{\\Delta x} = \\frac{\\partial z}{\\partial x}(x)\n",
    "$$\n",
    "\n",
    "Then the result follows from (e) and (g),\n",
    "\n",
    "$$\n",
    "\\begin{align*}\n",
    "\\frac{\\partial^2 z}{\\partial x^2}(x) &= \\lim\\limits_{\\Delta x \\rightarrow 0} \\frac{\\mu g}{T_0} \\sqrt{1+\\left(\\frac{\\Delta z (x, \\Delta x)}{\\Delta x}\\right)^2} \\\\\n",
    "    &= \\frac{\\mu g}{T_0} \\sqrt{1+\\left(\\frac{\\partial z}{\\partial x}(x)\\right)^2}\n",
    "\\end{align*}\n",
    "$$\n"
   ]
  },
  {
   "cell_type": "markdown",
   "metadata": {},
   "source": [
    "**(j)**  \n",
    "\n",
    "$z = d\\cosh{(\\frac{x}{d})}$\n",
    "\n",
    "$$\n",
    "\\frac{\\partial z}{\\partial x}(x) = \\sinh{(\\frac{x}{d})} \\\\\n",
    "\\frac{\\partial^2 z}{\\partial x^2}(x) = \\frac{1}{d}\\cosh{(\\frac{x}{d})}\n",
    "$$\n",
    "\n",
    "Then using part (i) and the hyperbolic trig identity $\\cosh^2{x}-\\sinh^2{x}=1$  \n",
    "\n",
    "$$\n",
    "\\frac{\\partial^2 z}{\\partial x^2}(x) = \\frac{\\mu g}{T_0} \\sqrt{1+\\left(\\frac{\\partial z}{\\partial x}(x)\\right)^2} \\\\\n",
    "\\implies \\frac{1}{d}\\cosh{(\\frac{x}{d})} = \\frac{\\mu g}{T_0}\\cosh{(\\frac{x}{d})}\n",
    "$$\n",
    "\n",
    "The equation is satisfied if\n",
    "\n",
    "$$\n",
    "d = \\frac{T_0}{\\mu g} = \\frac{1}{2a}\n",
    "$$\n",
    "\n"
   ]
  },
  {
   "cell_type": "markdown",
   "metadata": {},
   "source": [
    "## **4. Solving a simple optimization problem using cvxpy**"
   ]
  },
  {
   "cell_type": "markdown",
   "metadata": {},
   "source": [
    "In the notebook"
   ]
  }
 ],
 "metadata": {
  "kernelspec": {
   "display_name": "Julia 1.2.0",
   "language": "julia",
   "name": "julia-1.2"
  },
  "language_info": {
   "file_extension": ".jl",
   "mimetype": "application/julia",
   "name": "julia",
   "version": "1.2.0"
  }
 },
 "nbformat": 4,
 "nbformat_minor": 4
}

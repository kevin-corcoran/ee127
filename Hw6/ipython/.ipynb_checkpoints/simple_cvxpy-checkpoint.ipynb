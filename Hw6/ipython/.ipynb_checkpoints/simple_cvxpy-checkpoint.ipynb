{
 "cells": [
  {
   "cell_type": "markdown",
   "metadata": {
    "colab_type": "text",
    "id": "1cunCFPMuvAP"
   },
   "source": [
    "# Solving a simple optimization problem with cvxpy\n",
    "## Places where you have to write code are marked with #TODO"
   ]
  },
  {
   "cell_type": "code",
   "execution_count": 9,
   "metadata": {},
   "outputs": [],
   "source": [
    "#import required packages\n",
    "import cvxpy as cp\n",
    "import numpy as np"
   ]
  },
  {
   "cell_type": "markdown",
   "metadata": {
    "colab_type": "text",
    "id": "f9I9rdmAuvAW"
   },
   "source": [
    "Define the decision variables"
   ]
  },
  {
   "cell_type": "code",
   "execution_count": 11,
   "metadata": {},
   "outputs": [],
   "source": [
    "x = cp.Variable(4) #TODO"
   ]
  },
  {
   "cell_type": "markdown",
   "metadata": {},
   "source": [
    "Define the optimization objective"
   ]
  },
  {
   "cell_type": "code",
   "execution_count": 12,
   "metadata": {},
   "outputs": [],
   "source": [
    "obj = cp.Minimize(5*x[0]+6*x[1]+2*x[2]+9*x[3]) #TODO"
   ]
  },
  {
   "cell_type": "markdown",
   "metadata": {},
   "source": [
    "Create list of constraints"
   ]
  },
  {
   "cell_type": "code",
   "execution_count": 18,
   "metadata": {},
   "outputs": [],
   "source": [
    "con1 = [x[i]>=0 for i in range(4)] #TODO Define Constraint 1\n",
    "con2 = (2*x[0]-3*x[1]) <= 1 #TODO Define Constraint 2\n",
    "con3 = x[0]+3*x[1]+2*x[3] == 12 #TODO Define Constraint 3\n",
    "con4 = 2*x[1]+5*x[2] >= 15  #TODO Define Constraint 4\n",
    "constraints = con1 + [con2,con3,con4]"
   ]
  },
  {
   "cell_type": "markdown",
   "metadata": {},
   "source": [
    "Define the optimization problem"
   ]
  },
  {
   "cell_type": "code",
   "execution_count": 19,
   "metadata": {
    "colab": {},
    "colab_type": "code",
    "id": "0iGzuYEmuvAX",
    "outputId": "21282930-8eb8-4b72-dd2d-ba0047111113"
   },
   "outputs": [],
   "source": [
    "prob = cp.Problem(obj, constraints) #TODO"
   ]
  },
  {
   "cell_type": "markdown",
   "metadata": {},
   "source": [
    "Solve the problem"
   ]
  },
  {
   "cell_type": "code",
   "execution_count": 20,
   "metadata": {},
   "outputs": [
    {
     "data": {
      "text/plain": [
       "26.800000000000008"
      ]
     },
     "execution_count": 20,
     "metadata": {},
     "output_type": "execute_result"
    }
   ],
   "source": [
    "prob.solve()"
   ]
  },
  {
   "cell_type": "markdown",
   "metadata": {},
   "source": [
    "Print the result"
   ]
  },
  {
   "cell_type": "code",
   "execution_count": 21,
   "metadata": {},
   "outputs": [
    {
     "name": "stdout",
     "output_type": "stream",
     "text": [
      "\n",
      "The optimal value is 26.8\n",
      "A solution x is\n",
      "[0.  4.  1.4 0. ]\n"
     ]
    }
   ],
   "source": [
    "print(\"\\nThe optimal value is\", round(prob.value,1))\n",
    "print(\"A solution x is\")\n",
    "print(np.round(x.value,1))"
   ]
  }
 ],
 "metadata": {
  "colab": {
   "name": "linear_program.ipynb",
   "provenance": [],
   "version": "0.3.2"
  },
  "kernelspec": {
   "display_name": "Python 3",
   "language": "python",
   "name": "python3"
  },
  "language_info": {
   "codemirror_mode": {
    "name": "ipython",
    "version": 3
   },
   "file_extension": ".py",
   "mimetype": "text/x-python",
   "name": "python",
   "nbconvert_exporter": "python",
   "pygments_lexer": "ipython3",
   "version": "3.7.3"
  }
 },
 "nbformat": 4,
 "nbformat_minor": 4
}
